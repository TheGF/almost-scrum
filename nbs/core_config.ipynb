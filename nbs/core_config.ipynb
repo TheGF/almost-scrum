{
 "cells": [
  {
   "cell_type": "code",
   "execution_count": 1,
   "metadata": {
    "ExecuteTime": {
     "end_time": "2020-10-13T08:11:25.350912Z",
     "start_time": "2020-10-13T08:11:25.347950Z"
    }
   },
   "outputs": [],
   "source": [
    "# default_exp core.config\n",
    "# export\n",
    "from pathlib import Path\n",
    "from shutil import which\n",
    "import yaml\n",
    "import os\n",
    "import time\n",
    "import getpass\n",
    "import secrets"
   ]
  },
  {
   "cell_type": "code",
   "execution_count": 11,
   "metadata": {},
   "outputs": [],
   "source": [
    "# export\n",
    "import hashlib, binascii, os\n",
    "\n",
    "def _hash_password(password):\n",
    "    \"\"\"Hash a password for storing.\"\"\"\n",
    "    salt = hashlib.sha256(os.urandom(60)).hexdigest().encode('ascii')\n",
    "    pwdhash = hashlib.pbkdf2_hmac('sha512', password.encode('utf-8'),\n",
    "                                salt, 100000)\n",
    "    pwdhash = binascii.hexlify(pwdhash)\n",
    "    return (salt + pwdhash).decode('ascii')\n",
    "\n",
    "def _verify_password(stored_password, provided_password):\n",
    "    \"\"\"Verify a stored password against one provided by user\"\"\"\n",
    "    salt = stored_password[:64]\n",
    "    stored_password = stored_password[64:]\n",
    "    pwdhash = hashlib.pbkdf2_hmac('sha512',\n",
    "                                  provided_password.encode('utf-8'),\n",
    "                                  salt.encode('ascii'),\n",
    "                                  100000)\n",
    "    pwdhash = binascii.hexlify(pwdhash).decode('ascii')\n",
    "    return pwdhash == stored_password"
   ]
  },
  {
   "cell_type": "code",
   "execution_count": 12,
   "metadata": {
    "ExecuteTime": {
     "end_time": "2020-10-13T08:11:25.731817Z",
     "start_time": "2020-10-13T08:11:25.723235Z"
    }
   },
   "outputs": [],
   "source": [
    "# export\n",
    "\n",
    "def is_tool(name):\n",
    "    \"\"\"Check whether `name` is on PATH and marked as executable.\"\"\"\n",
    "    return which(name) is not None\n",
    "\n",
    "def guess_editor():\n",
    "    editors = ['notepad','nano','vi']\n",
    "    return next(e for e in editors if (is_tool(e)))\n",
    "\n",
    "class Config():\n",
    "    config_file = Path(os.getenv('QS_CONFIG', f'~/.config/as.yaml')).expanduser()\n",
    "\n",
    "    def __init__(self):\n",
    "        self.config_file.parent.mkdir(parents=True, exist_ok=True)\n",
    "        if not self.config_file.exists(): self.create_config()\n",
    "        self.d = self._load()\n",
    "\n",
    "    def __getattr__(self, k):\n",
    "        return self.get(k)\n",
    "\n",
    "    def get(self, k, default=None):\n",
    "        if k=='d': raise AttributeError\n",
    "        return self.d.get(k, default)\n",
    "\n",
    "\n",
    "    def create_config(self):\n",
    "        self.d = {'version': 1.0,\n",
    "                  'projects': {},\n",
    "                  'editor': guess_editor(),\n",
    "                  'secret': secrets.token_hex(32),\n",
    "                  'passwords': {}}\n",
    "\n",
    "        self.save()\n",
    "\n",
    "    def save(self):\n",
    "        self.config_file.parent.mkdir(parents=True, exist_ok=True)\n",
    "        with self.config_file.open('w') as f:\n",
    "            yaml.dump(self.d, f)\n",
    "\n",
    "    def set_password(self, user, password):\n",
    "        self.d['passwords'][user] = _hash_password(password)\n",
    "        self.save()\n",
    "\n",
    "    def verify_password(self, user, password):\n",
    "        return _verify_password(self.d['passwords'].get(user, ''), password)\n",
    "\n",
    "    def _load(self):\n",
    "        with self.config_file.open() as f:\n",
    "            return yaml.load(f, Loader=yaml.FullLoader)\n",
    "\n",
    "\n",
    "\n",
    "config = Config()"
   ]
  },
  {
   "cell_type": "code",
   "execution_count": 13,
   "metadata": {
    "ExecuteTime": {
     "end_time": "2020-10-13T08:11:26.398530Z",
     "start_time": "2020-10-13T08:11:26.388909Z"
    }
   },
   "outputs": [
    {
     "output_type": "execute_result",
     "data": {
      "text/plain": [
       "{'editor': 'nano',\n",
       " 'hei': 'a44d09ad1634bab8fe506e7a1fe5c527c2adf3eefe6d106cf523f499d7d23857bdb5d643a60569eee89acfa4afe0426a3402b8e2806badb4ae6c7408f2a4fc8e09d146b73e4261ab03f69c12ff82eb4fe2a683f14618e81268e75f15d197d62d',\n",
       " 'passwords': {'hei': 'f142e5ffdd159e682c5fd2783db186f7ccbd47a6784127d0120306a38d416ddca86b4b6c2bd4669f9fa75eddf82e82ff05e7d7e22e468db3202a3a83942b85f1b8a877a92f3f7b6a8e43169a06a2f6726de41e43ce7a4130001beac673a4d9c7'},\n",
       " 'projects': {'myscrum': '/tmp/myscrum',\n",
       "  'myscrum2': '/tmp/myscrum2',\n",
       "  'scrum': '/tmp/scrum'},\n",
       " 'secret': '2d8deb6fe090e701951fea06fcad129b5631818ca660759e299c98e7f3f6fbe1',\n",
       " 'version': 1.0}"
      ]
     },
     "metadata": {},
     "execution_count": 13
    }
   ],
   "source": [
    "c = Config()\n",
    "c.d"
   ]
  },
  {
   "cell_type": "code",
   "execution_count": 14,
   "metadata": {
    "ExecuteTime": {
     "end_time": "2020-10-13T08:11:31.463568Z",
     "start_time": "2020-10-13T08:11:31.457719Z"
    }
   },
   "outputs": [],
   "source": [
    "c.create_config()"
   ]
  },
  {
   "cell_type": "code",
   "execution_count": 15,
   "metadata": {
    "ExecuteTime": {
     "end_time": "2020-10-13T07:23:11.740318Z",
     "start_time": "2020-10-13T07:23:11.733207Z"
    }
   },
   "outputs": [],
   "source": [
    "c.e\n"
   ]
  },
  {
   "cell_type": "code",
   "execution_count": null,
   "metadata": {},
   "outputs": [],
   "source": []
  }
 ],
 "metadata": {
  "kernelspec": {
   "display_name": "Python 3.8.3 64-bit ('as': conda)",
   "language": "python",
   "name": "python38364bitascondabd1ae2f1a650462cb20307baf6a4f9f4"
  },
  "language_info": {
   "codemirror_mode": {
    "name": "ipython",
    "version": 3
   },
   "file_extension": ".py",
   "mimetype": "text/x-python",
   "name": "python",
   "nbconvert_exporter": "python",
   "pygments_lexer": "ipython3",
   "version": "3.8.3-final"
  },
  "varInspector": {
   "cols": {
    "lenName": 16,
    "lenType": 16,
    "lenVar": 40
   },
   "kernels_config": {
    "python": {
     "delete_cmd_postfix": "",
     "delete_cmd_prefix": "del ",
     "library": "var_list.py",
     "varRefreshCmd": "print(var_dic_list())"
    },
    "r": {
     "delete_cmd_postfix": ") ",
     "delete_cmd_prefix": "rm(",
     "library": "var_list.r",
     "varRefreshCmd": "cat(var_dic_list()) "
    }
   },
   "types_to_exclude": [
    "module",
    "function",
    "builtin_function_or_method",
    "instance",
    "_Feature"
   ],
   "window_display": false
  }
 },
 "nbformat": 4,
 "nbformat_minor": 4
}