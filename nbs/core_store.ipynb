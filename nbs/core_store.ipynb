{
 "cells": [
  {
   "cell_type": "code",
   "execution_count": 2,
   "metadata": {
    "ExecuteTime": {
     "end_time": "2020-10-15T16:45:19.009185Z",
     "start_time": "2020-10-15T16:45:18.993770Z"
    }
   },
   "outputs": [],
   "source": [
    "# default_exp core.store\n",
    "# export\n",
    "from ascrum.core.config import Config\n",
    "from pathlib import Path\n",
    "import yaml\n",
    "import os\n",
    "import time\n",
    "import getpass"
   ]
  },
  {
   "cell_type": "code",
   "execution_count": 7,
   "metadata": {
    "ExecuteTime": {
     "end_time": "2020-10-15T11:47:35.373518Z",
     "start_time": "2020-10-15T11:47:35.364803Z"
    }
   },
   "outputs": [],
   "source": [
    "# export\n",
    "class Store:\n",
    "    def __init__(self, path):\n",
    "        self.path = path.resolve()\n",
    "        self.name = path.stem\n",
    "\n",
    "    def exists(self):\n",
    "        return self.path.exists()\n",
    "\n",
    "    def __getitem__(self, path):\n",
    "        \"Get the content of a story\"\n",
    "        p = self.get_path(path)\n",
    "        if p.exists():\n",
    "            with p.open() as f:\n",
    "                return yaml.load(f, Loader=yaml.FullLoader)\n",
    "        else:\n",
    "            return None\n",
    "\n",
    "    def __setitem__(self, path, story):\n",
    "        p = self.get_path(path)\n",
    "        if p.parent.exists():\n",
    "            with p.open('w') as f:\n",
    "                yaml.dump(story, f)\n",
    "            return p.stem\n",
    "        else:\n",
    "            raise KeyError(path)\n",
    "\n",
    "    def __delitem__(self, path):\n",
    "        p = self.get_path(path)\n",
    "        if p.exists():\n",
    "            p.unlink()\n",
    "            if next(p.parent.iterdir(), None) is None:\n",
    "                p.parent.unlink()\n",
    "        else:\n",
    "            raise KeyError(path)\n",
    "    \n",
    "    def mk_path(self, path):\n",
    "        p = self.path/path\n",
    "        p.mkdir(parents=True, exist_ok=True)\n",
    "        return 'Created', 201\n",
    "\n",
    "    def get_path(self, path):\n",
    "        return self.path/path\n",
    "\n",
    "    def touch(self, story_id):\n",
    "        p = self.get_path(story_id)\n",
    "        if p.exists():\n",
    "            p.touch(exist_ok=True)\n",
    "            return True \n",
    "        else:\n",
    "            return False\n",
    "\n",
    "    def list(self, path=''):\n",
    "        p = self.path/path\n",
    "        l = len(p.as_posix())\n",
    "        if p.exists():\n",
    "            return [{\n",
    "                'name':f.as_posix()[l:], \n",
    "                'dir': f.is_dir()\n",
    "             } for f in sorted(p.rglob('*'), key=os.path.getmtime, \n",
    "                    reverse=True)]\n",
    "        else:\n",
    "            return None"
   ]
  },
  {
   "cell_type": "code",
   "execution_count": 17,
   "metadata": {},
   "outputs": [
    {
     "output_type": "execute_result",
     "data": {
      "text/plain": [
       "PosixPath('/tmp/Temp-8b6e03bd-fc85-4966-8299-53f8c66239c6')"
      ]
     },
     "metadata": {},
     "execution_count": 17
    }
   ],
   "source": [
    "p = Path('/tmp')\n",
    "next(p.iterdir())"
   ]
  },
  {
   "cell_type": "code",
   "execution_count": 6,
   "metadata": {},
   "outputs": [
    {
     "output_type": "execute_result",
     "data": {
      "text/plain": [
       "PosixPath('web/node_modules/concat-stream/node_modules/readable-stream/lib')"
      ]
     },
     "metadata": {},
     "execution_count": 6
    }
   ],
   "source": [
    "p = p[21]\n",
    "p"
   ]
  },
  {
   "cell_type": "code",
   "execution_count": 7,
   "metadata": {},
   "outputs": [
    {
     "output_type": "execute_result",
     "data": {
      "text/plain": [
       "'web/node_modules/concat-stream/node_modules/readable-stream'"
      ]
     },
     "metadata": {},
     "execution_count": 7
    }
   ],
   "source": [
    "p.parent.as_posix()\n"
   ]
  },
  {
   "cell_type": "code",
   "execution_count": null,
   "metadata": {},
   "outputs": [],
   "source": []
  }
 ],
 "metadata": {
  "kernelspec": {
   "display_name": "Python 3.8.3 64-bit ('as': conda)",
   "language": "python",
   "name": "python38364bitascondabd1ae2f1a650462cb20307baf6a4f9f4"
  },
  "language_info": {
   "codemirror_mode": {
    "name": "ipython",
    "version": 3
   },
   "file_extension": ".py",
   "mimetype": "text/x-python",
   "name": "python",
   "nbconvert_exporter": "python",
   "pygments_lexer": "ipython3",
   "version": "3.8.3-final"
  },
  "varInspector": {
   "cols": {
    "lenName": 16,
    "lenType": 16,
    "lenVar": 40
   },
   "kernels_config": {
    "python": {
     "delete_cmd_postfix": "",
     "delete_cmd_prefix": "del ",
     "library": "var_list.py",
     "varRefreshCmd": "print(var_dic_list())"
    },
    "r": {
     "delete_cmd_postfix": ") ",
     "delete_cmd_prefix": "rm(",
     "library": "var_list.r",
     "varRefreshCmd": "cat(var_dic_list()) "
    }
   },
   "types_to_exclude": [
    "module",
    "function",
    "builtin_function_or_method",
    "instance",
    "_Feature"
   ],
   "window_display": false
  }
 },
 "nbformat": 4,
 "nbformat_minor": 4
}