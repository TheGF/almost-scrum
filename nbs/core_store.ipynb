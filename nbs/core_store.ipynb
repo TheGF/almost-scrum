{
 "cells": [
  {
   "cell_type": "code",
   "execution_count": 1,
   "metadata": {
    "ExecuteTime": {
     "end_time": "2020-10-15T16:45:19.009185Z",
     "start_time": "2020-10-15T16:45:18.993770Z"
    }
   },
   "outputs": [],
   "source": [
    "# default_exp core.store\n",
    "# export\n",
    "from ascrum.core.config import Config\n",
    "from pathlib import Path\n",
    "import yaml\n",
    "import os\n",
    "import time\n",
    "import getpass"
   ]
  },
  {
   "cell_type": "code",
   "execution_count": 2,
   "metadata": {
    "ExecuteTime": {
     "end_time": "2020-10-15T11:47:35.373518Z",
     "start_time": "2020-10-15T11:47:35.364803Z"
    }
   },
   "outputs": [],
   "source": [
    "# export\n",
    "class Store:\n",
    "    def __init__(self, path):\n",
    "        self.path = path.resolve()\n",
    "        self.name = path.stem\n",
    "\n",
    "    def exists(self):\n",
    "        return self.path.exists()\n",
    "\n",
    "    def __getitem__(self, story_id):\n",
    "        \"Get the content of a story\"\n",
    "        p = self.get_path(story_id)\n",
    "        if not p.exists():\n",
    "            return None\n",
    "        with p.open() as f:\n",
    "            return yaml.load(f, Loader=yaml.FullLoader)\n",
    "\n",
    "    def __setitem__(self, story_id, story):\n",
    "        p = self.get_path(story_id)\n",
    "        with p.open('w') as f:\n",
    "            yaml.dump(story, f)\n",
    "        return p.stem\n",
    "\n",
    "    def __delitem__(self, story_id):\n",
    "        p = self.get_path(story_id)\n",
    "        if p.exists():\n",
    "            p.unlink()\n",
    "        else:\n",
    "            raise KeyError(story_id)\n",
    "\n",
    "    def get_path(self, story_id):\n",
    "        return self.path/f'{story_id}.yaml'\n",
    "\n",
    "    def touch(self, story_id):\n",
    "        p = self.get_path(story_id)\n",
    "        if p.exists():\n",
    "            p.touch(exist_ok=True)\n",
    "            return True \n",
    "        else:\n",
    "            return False\n",
    "\n",
    "    def keys(self):\n",
    "        return [f.stem for f in sorted(self.path.glob('*.yaml'), key=os.path.getmtime, reverse=True)]"
   ]
  },
  {
   "cell_type": "code",
   "execution_count": null,
   "metadata": {},
   "outputs": [],
   "source": []
  }
 ],
 "metadata": {
  "kernelspec": {
   "display_name": "Python 3.8.3 64-bit ('as': conda)",
   "language": "python",
   "name": "python38364bitascondabd1ae2f1a650462cb20307baf6a4f9f4"
  },
  "language_info": {
   "codemirror_mode": {
    "name": "ipython",
    "version": 3
   },
   "file_extension": ".py",
   "mimetype": "text/x-python",
   "name": "python",
   "nbconvert_exporter": "python",
   "pygments_lexer": "ipython3",
   "version": "3.8.3-final"
  },
  "varInspector": {
   "cols": {
    "lenName": 16,
    "lenType": 16,
    "lenVar": 40
   },
   "kernels_config": {
    "python": {
     "delete_cmd_postfix": "",
     "delete_cmd_prefix": "del ",
     "library": "var_list.py",
     "varRefreshCmd": "print(var_dic_list())"
    },
    "r": {
     "delete_cmd_postfix": ") ",
     "delete_cmd_prefix": "rm(",
     "library": "var_list.r",
     "varRefreshCmd": "cat(var_dic_list()) "
    }
   },
   "types_to_exclude": [
    "module",
    "function",
    "builtin_function_or_method",
    "instance",
    "_Feature"
   ],
   "window_display": false
  }
 },
 "nbformat": 4,
 "nbformat_minor": 4
}