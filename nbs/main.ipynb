{
 "cells": [
  {
   "cell_type": "markdown",
   "metadata": {},
   "source": [
    "## Quick Scrum\n",
    "Quick Scrum\n",
    "qs take <story>\n",
    "qs store <store>\n",
    "qs init \n",
    "qs touch <story>\n"
   ]
  },
  {
   "cell_type": "markdown",
   "metadata": {
    "ExecuteTime": {
     "end_time": "2020-09-30T08:02:26.779094Z",
     "start_time": "2020-09-30T08:02:26.776365Z"
    },
    "heading_collapsed": true
   },
   "source": [
    "### Initialize a new project\n",
    "\n",
    ">_qs init [project_name]_\n",
    "\n",
    "Initialize a new Quick Scrum project in current folder. Current folder name will be used as project name when the name is not provided.\n",
    "The command create a folder .qs where stores (backlog and sprints) are created. If the current folder or its parent is a Git repository, the .qs folder is automatically added to the Git repository.\n",
    "\n",
    "Current user is added as manager of the project. Store is set to backlog."
   ]
  },
  {
   "cell_type": "markdown",
   "metadata": {
    "ExecuteTime": {
     "end_time": "2020-09-30T08:13:47.372094Z",
     "start_time": "2020-09-30T08:13:47.368223Z"
    }
   },
   "source": [
    "### Select a store\n",
    "\n",
    ">_qs store [bl|sb|1|2|3...]_\n",
    "\n",
    "Set the current store in the project. Quick-scrum looks for a project in current folder or parent folders.\n",
    "The possible stores are:\n",
    "    - bl: backlog\n",
    "    - sb: sandbox\n",
    "    - 1: sprint #1\n",
    "    - 2: sprint #2\n",
    "and so on.\n",
    "\n",
    "When called without a target store, it shows the list of stores and the one that is current. It allows than to choose the store to use.\n",
    "\n",
    "    \n",
    "\n",
    "\n",
    "\n"
   ]
  },
  {
   "cell_type": "markdown",
   "metadata": {
    "ExecuteTime": {
     "end_time": "2020-09-30T08:39:53.133595Z",
     "start_time": "2020-09-30T08:39:53.128801Z"
    }
   },
   "source": [
    "### List stories\n",
    "\n",
    ">_qs top [n]_\n",
    "\n",
    "Show the top _n_ stories in the current store or all stories when _n_ is not provided"
   ]
  },
  {
   "cell_type": "markdown",
   "metadata": {
    "ExecuteTime": {
     "end_time": "2020-10-11T09:54:38.783694Z",
     "start_time": "2020-10-11T09:54:38.778820Z"
    }
   },
   "source": [
    "### New story\n",
    "\n",
    ">_qs new [story_id]_\n",
    "\n",
    "Create a new story with the specified id"
   ]
  },
  {
   "cell_type": "markdown",
   "metadata": {
    "ExecuteTime": {
     "end_time": "2020-09-30T08:51:53.457861Z",
     "start_time": "2020-09-30T08:51:53.450946Z"
    }
   },
   "source": [
    "### Touch a story\n",
    "\n",
    ">_qs touch [story] [pos]_\n",
    "\n",
    "Touch the story, i.e. makes it top of the list or at a specific position in the list"
   ]
  },
  {
   "cell_type": "markdown",
   "metadata": {},
   "source": [
    "### Edit a story\n",
    "\n",
    ">_qs edit [story]_\n",
    "\n",
    "Edit a story content. the parameter *story* can be either the story name or the progressive number. When no parameter is provided, it shows the available stories in the current store\n"
   ]
  },
  {
   "cell_type": "code",
   "execution_count": 1,
   "metadata": {
    "ExecuteTime": {
     "end_time": "2020-10-15T11:47:47.842382Z",
     "start_time": "2020-10-15T11:47:47.832141Z"
    }
   },
   "outputs": [],
   "source": [
    "# default_exp main\n",
    "#export\n",
    "import argparse\n",
    "\n",
    "def get_init_parser(subparsers):\n",
    "    parser = subparsers.add_parser('init', help='create a Quick Scrum project in the current folder')\n",
    "    parser.add_argument('--path', '-p', default='.', help='location of the project')\n",
    "\n",
    "def get_store_parser(subparsers):\n",
    "    parser = subparsers.add_parser('store', help='select the current store')\n",
    "    parser.add_argument('name', \n",
    "                        nargs='?',\n",
    "                        default='',\n",
    "                        help='store to use; sb for sandbox, bl for backlog, 1 for sprint-1...')\n",
    "\n",
    "def get_top_parser(subparsers):\n",
    "    parser = subparsers.add_parser('top', help='shows the top stories in the current store')\n",
    "    parser.add_argument('n',\n",
    "                        nargs='?',\n",
    "                        default=10,\n",
    "                        help='number of stories to show')\n",
    "\n",
    "def get_edit_parser(subparsers):\n",
    "    parser = subparsers.add_parser('edit', help='edit a story in the current store')\n",
    "    parser.add_argument('story',\n",
    "                        nargs='?',\n",
    "                        help='story to edit or partial name of it',\n",
    "                        default=None)\n",
    "\n",
    "def get_touch_parser(subparsers):\n",
    "    parser = subparsers.add_parser('touch', help='touch a story, making it the highet priority in the current store')\n",
    "    parser.add_argument('story',\n",
    "                        nargs='?',\n",
    "                        help='story to edit or partial name of it',\n",
    "                        default=None)\n",
    "    \n",
    "def get_new_parser(subparsers):\n",
    "    parser = subparsers.add_parser('new', help='create a new story in current store')\n",
    "\n",
    "def get_arg_parser():\n",
    "    parser = argparse.ArgumentParser(prog='qs', description='Quick Scrum 1.0')\n",
    "    subparsers = parser.add_subparsers(dest='command')\n",
    "    \n",
    "    get_init_parser(subparsers)\n",
    "    get_store_parser(subparsers)\n",
    "    get_top_parser(subparsers)\n",
    "    get_new_parser(subparsers)\n",
    "    get_edit_parser(subparsers)\n",
    "    get_touch_parser(subparsers)\n",
    "    return parser"
   ]
  },
  {
   "cell_type": "code",
   "execution_count": 2,
   "metadata": {
    "ExecuteTime": {
     "end_time": "2020-10-15T11:47:47.853188Z",
     "start_time": "2020-10-15T11:47:47.843848Z"
    }
   },
   "outputs": [],
   "source": [
    "#export    \n",
    "def choose_option(options, title):\n",
    "    print(title)\n",
    "    while True:\n",
    "        [print(f'[{1+i}] {option}') for i,option in enumerate(options)]\n",
    "        choice = input(title)\n",
    "        if not choice: return None\n",
    "\n",
    "        if choice.isnumeric():\n",
    "            choice = int(choice)\n",
    "            if choice-1 in range(0, len(options)):\n",
    "                return options[choice-1]\n",
    "        \n",
    "def input_until(title, condition=lambda s: not len(s), msg='Invalid input. Please try again!'):\n",
    "    value = input(title)\n",
    "    while condition(value):\n",
    "        print(f'\\033[31m{msg}\\033[39m')\n",
    "        value = input(title)  \n",
    "    return value\n",
    "\n",
    "        \n",
    "def print_context(p,s):\n",
    "    title = f'{p.name}/{s.name}'\n",
    "    print(f'\\033[33m{title}')\n",
    "    print('-'*len(title)+'\\033[39m')\n",
    "\n",
    "def print_users(users):\n",
    "    print(f'\\033[33m{title}')"
   ]
  },
  {
   "cell_type": "code",
   "execution_count": 3,
   "metadata": {
    "ExecuteTime": {
     "end_time": "2020-10-15T11:47:47.906138Z",
     "start_time": "2020-10-15T11:47:47.854512Z"
    }
   },
   "outputs": [],
   "source": [
    "#export\n",
    "from project import Project\n",
    "from store import Store\n",
    "from config import Config\n",
    "import getpass\n",
    "import time\n",
    "from pathlib import Path\n",
    "import os\n",
    "import sys\n",
    "import subprocess\n",
    "\n",
    "config = Config()\n",
    "\n",
    "def assert_project(p):\n",
    "    if p == None:\n",
    "        cf = Path('.').resolve()\n",
    "        print(f'No quick-scrum project in current folder {cf}. Use command init to initialize a new project')\n",
    "        sys.exit()\n",
    "    \n",
    "def get_current_store(p):\n",
    "    try:\n",
    "        cs = (p.path/p.project_folder/'current-store').resolve(True)\n",
    "        return p.get_store(cs.stem)\n",
    "    except FileNotFoundError:\n",
    "        return None\n",
    "\n",
    "def set_current_store(p, store_name):\n",
    "    s = p.get_store(store_name)\n",
    "    (p.path/p.project_folder/'current-store').symlink_to(s.path)\n",
    "    return s\n",
    "\n",
    "def get_context():\n",
    "    p = Project.find(Path('.'))\n",
    "    assert_project(p)\n",
    "    s = get_current_store(p)\n",
    "    return p, s if s else set_current_store(p, 'backlog')\n",
    "\n",
    "def start_editor(fpath):\n",
    "    if not config.editor:\n",
    "        print(f'Define an editor in qs.yaml')\n",
    "        sys.exit(1)\n",
    "    cmd = f'{config.editor} {fpath.resolve().as_posix()}'\n",
    "    subprocess.call(cmd, shell=True)\n",
    "        \n",
    "def init_command(path):\n",
    "    description = input('Project description: ')\n",
    "    project = {\n",
    "        'description': description,\n",
    "        'creator': getpass.getuser()\n",
    "    }\n",
    "    p = Project(Path(path).absolute())\n",
    "    if p.exists():\n",
    "        raise AttributeError(f'A project already exists in {p.path}')\n",
    "    \n",
    "    p.init(project)\n",
    "    print(f'Quick-scrum project created in  {p.path}')\n",
    "\n",
    "    \n",
    "def store_command(name):\n",
    "    p, s = get_context()\n",
    "    print_context(p,s)\n",
    "\n",
    "    stores = p.list_stores()\n",
    "    if not name or not name in stores:\n",
    "        name = choose_option(stores,  'Choose the store: ')\n",
    "        if name:\n",
    "            s = p.get_store(name)\n",
    "            (p.path/p.project_folder/'current-store').unlink()\n",
    "            (p.path/p.project_folder/'current-store').symlink_to(s.path, target_is_directory=True)\n",
    "            \n",
    "            \n",
    "def top_command(n=None):\n",
    "    p, s = get_context()\n",
    "    print_context(p,s)\n",
    "    \n",
    "    paths = sorted(s.path.glob('*.yaml'), key=os.path.getmtime, reverse=True)\n",
    "    if not n: paths = paths[0:n]\n",
    "    [print(f.name) for f in paths]\n",
    "    \n",
    "    \n",
    "def select_story(s, pattern, msg):\n",
    "    stories = s.keys()\n",
    "    if pattern:\n",
    "        stories = [story for story in s.keys() if pattern in story] \n",
    "\n",
    "    if not stories:\n",
    "        return None    \n",
    "    elif len(stories) == 1: \n",
    "        return stories[0]\n",
    "    else:\n",
    "        return choose_option(stories, msg)\n",
    "    \n",
    "def new_command():\n",
    "    p, s = get_context()\n",
    "    print_context(p,s)\n",
    "    \n",
    "    print('Create a new story')\n",
    "    story_summary = input('Summary: ', )\n",
    "    story_id = p.new_story_id()\n",
    "    \n",
    "    users = p.list_users()\n",
    "    story_owner = choose_option(users, 'Choose the owner: ')\n",
    "    \n",
    "    key = f'{story_id}#{story_summary}'\n",
    "    s[key] = {\n",
    "        'description': 'FILL ME',\n",
    "        'points': 1,\n",
    "        'state': 'TODO',\n",
    "        'owner': config.user,\n",
    "        'tasks': []\n",
    "    }\n",
    "    start_editor(s.get_path(key))\n",
    "    print(f'Story {key} created in {p.name}/{s.name}')\n",
    "    \n",
    "def edit_command(story_name):\n",
    "    p, s = get_context()\n",
    "    print_context(p,s)\n",
    "    \n",
    "    story_name = select_story(s, story_name, \"Choose the story to edit: \")\n",
    "    if story_name:\n",
    "        fpath = s.get_path(story_name)\n",
    "        start_editor(fpath)\n",
    "        \n",
    "def touch_command(story_name):\n",
    "    p, s = get_context()\n",
    "    print_context(p,s)\n",
    "    \n",
    "    story_name = select_story(s, story_name, \"Choose the story to touch: \")\n",
    "    if story_name:\n",
    "        s.touch(story_name)\n",
    "        path = s.get_path(story_name)\n",
    "        mtime = path.stat().st_mtime\n",
    "        print(f'Touch {story_name} at {mtime}')"
   ]
  },
  {
   "cell_type": "code",
   "execution_count": 4,
   "metadata": {
    "ExecuteTime": {
     "end_time": "2020-10-15T11:47:47.914101Z",
     "start_time": "2020-10-15T11:47:47.907744Z"
    }
   },
   "outputs": [],
   "source": [
    "#export\n",
    "def dispatch_command(args=None):\n",
    "    p = get_arg_parser()\n",
    "    args = p.parse_args(args)\n",
    "    \n",
    "    if args.command == 'init':\n",
    "        init_command(args.path)\n",
    "    elif args.command == 'store':\n",
    "        store_command(args.name)\n",
    "    elif args.command == 'top':\n",
    "        top_command(args.n)\n",
    "    elif args.command == 'new':\n",
    "        new_command()\n",
    "    elif args.command == 'edit':\n",
    "        edit_command(args.story)\n",
    "    elif args.command == 'touch':\n",
    "        touch_command(args.story)"
   ]
  },
  {
   "cell_type": "code",
   "execution_count": null,
   "metadata": {
    "ExecuteTime": {
     "start_time": "2020-10-15T11:48:13.628Z"
    }
   },
   "outputs": [
    {
     "name": "stdout",
     "output_type": "stream",
     "text": [
      "\u001b[33mnbs/backlog\n",
      "-----------\u001b[39m\n",
      "Choose the story to touch: \n",
      "[1] 3#this is test #of a comment\n",
      "[2] 1# \n",
      "[3] 3#test\n",
      "[4] 2# Hello\n"
     ]
    }
   ],
   "source": [
    "dispatch_command(['touch'])"
   ]
  },
  {
   "cell_type": "code",
   "execution_count": 6,
   "metadata": {
    "ExecuteTime": {
     "end_time": "2020-10-15T11:48:05.985267Z",
     "start_time": "2020-10-15T11:48:05.970193Z"
    },
    "scrolled": false
   },
   "outputs": [
    {
     "name": "stderr",
     "output_type": "stream",
     "text": [
      "usage: qs [-h] {init,store,top,new,edit,touch} ...\n",
      "qs: error: argument command: invalid choice: '/home/mp/.local/share/jupyter/runtime/kernel-005ad767-b2fe-4c0f-8e8e-87a494fb7139.json' (choose from 'init', 'store', 'top', 'new', 'edit', 'touch')\n",
      "ERROR:root:Internal Python error in the inspect module.\n",
      "Below is the traceback from this internal error.\n",
      "\n"
     ]
    },
    {
     "name": "stdout",
     "output_type": "stream",
     "text": [
      "Traceback (most recent call last):\n",
      "  File \"/home/mp/anaconda3/envs/qs/lib/python3.8/argparse.py\", line 1800, in parse_known_args\n",
      "    namespace, args = self._parse_known_args(args, namespace)\n",
      "  File \"/home/mp/anaconda3/envs/qs/lib/python3.8/argparse.py\", line 2009, in _parse_known_args\n",
      "    stop_index = consume_positionals(start_index)\n",
      "  File \"/home/mp/anaconda3/envs/qs/lib/python3.8/argparse.py\", line 1965, in consume_positionals\n",
      "    take_action(action, args)\n",
      "  File \"/home/mp/anaconda3/envs/qs/lib/python3.8/argparse.py\", line 1858, in take_action\n",
      "    argument_values = self._get_values(action, argument_strings)\n",
      "  File \"/home/mp/anaconda3/envs/qs/lib/python3.8/argparse.py\", line 2399, in _get_values\n",
      "    self._check_value(action, value[0])\n",
      "  File \"/home/mp/anaconda3/envs/qs/lib/python3.8/argparse.py\", line 2446, in _check_value\n",
      "    raise ArgumentError(action, msg % args)\n",
      "argparse.ArgumentError: argument command: invalid choice: '/home/mp/.local/share/jupyter/runtime/kernel-005ad767-b2fe-4c0f-8e8e-87a494fb7139.json' (choose from 'init', 'store', 'top', 'new', 'edit', 'touch')\n",
      "\n",
      "During handling of the above exception, another exception occurred:\n",
      "\n",
      "Traceback (most recent call last):\n",
      "  File \"/home/mp/.local/lib/python3.8/site-packages/IPython/core/interactiveshell.py\", line 3331, in run_code\n",
      "    exec(code_obj, self.user_global_ns, self.user_ns)\n",
      "  File \"<ipython-input-6-748d62a0cca6>\", line 5, in <module>\n",
      "    dispatch_command()\n",
      "  File \"<ipython-input-4-68b1763e2c9f>\", line 4, in dispatch_command\n",
      "    args = p.parse_args(args)\n",
      "  File \"/home/mp/anaconda3/envs/qs/lib/python3.8/argparse.py\", line 1768, in parse_args\n",
      "    args, argv = self.parse_known_args(args, namespace)\n",
      "  File \"/home/mp/anaconda3/envs/qs/lib/python3.8/argparse.py\", line 1807, in parse_known_args\n",
      "    self.error(str(err))\n",
      "  File \"/home/mp/anaconda3/envs/qs/lib/python3.8/argparse.py\", line 2521, in error\n",
      "    self.exit(2, _('%(prog)s: error: %(message)s\\n') % args)\n",
      "  File \"/home/mp/anaconda3/envs/qs/lib/python3.8/argparse.py\", line 2508, in exit\n",
      "    _sys.exit(status)\n",
      "SystemExit: 2\n",
      "\n",
      "During handling of the above exception, another exception occurred:\n",
      "\n",
      "Traceback (most recent call last):\n",
      "  File \"/home/mp/.local/lib/python3.8/site-packages/IPython/core/ultratb.py\", line 1148, in get_records\n",
      "    return _fixed_getinnerframes(etb, number_of_lines_of_context, tb_offset)\n",
      "  File \"/home/mp/.local/lib/python3.8/site-packages/IPython/core/ultratb.py\", line 316, in wrapped\n",
      "    return f(*args, **kwargs)\n",
      "  File \"/home/mp/.local/lib/python3.8/site-packages/IPython/core/ultratb.py\", line 350, in _fixed_getinnerframes\n",
      "    records = fix_frame_records_filenames(inspect.getinnerframes(etb, context))\n",
      "  File \"/home/mp/anaconda3/envs/qs/lib/python3.8/inspect.py\", line 1503, in getinnerframes\n",
      "    frameinfo = (tb.tb_frame,) + getframeinfo(tb, context)\n",
      "AttributeError: 'tuple' object has no attribute 'tb_frame'\n"
     ]
    },
    {
     "ename": "SystemExit",
     "evalue": "2",
     "output_type": "error",
     "traceback": [
      "An exception has occurred, use %tb to see the full traceback.\n",
      "\u001b[0;31m---------------------------------------------------------------------------\u001b[0m",
      "\nDuring handling of the above exception, another exception occurred:\n",
      "\u001b[0;31mSystemExit\u001b[0m\u001b[0;31m:\u001b[0m 2\n"
     ]
    },
    {
     "name": "stderr",
     "output_type": "stream",
     "text": [
      "/home/mp/.local/lib/python3.8/site-packages/IPython/core/interactiveshell.py:3339: UserWarning: To exit: use 'exit', 'quit', or Ctrl-D.\n",
      "  warn(\"To exit: use 'exit', 'quit', or Ctrl-D.\", stacklevel=1)\n"
     ]
    }
   ],
   "source": [
    "#export\n",
    "\n",
    "if __name__ == '__main__':\n",
    "    try:\n",
    "        dispatch_command()\n",
    "    except Exception as e:\n",
    "        print(str(e))    \n",
    "    "
   ]
  },
  {
   "cell_type": "code",
   "execution_count": null,
   "metadata": {
    "ExecuteTime": {
     "end_time": "2020-10-15T11:48:05.990168Z",
     "start_time": "2020-10-15T11:47:47.838Z"
    }
   },
   "outputs": [],
   "source": [
    "p.parse_args??\n",
    "\n"
   ]
  },
  {
   "cell_type": "code",
   "execution_count": null,
   "metadata": {},
   "outputs": [],
   "source": []
  }
 ],
 "metadata": {
  "kernelspec": {
   "display_name": "Python 3.8.3 64-bit ('qs': conda)",
   "language": "python",
   "name": "python38364bitqsconda70419307ac5447bdbf6e3bb5e0d2222f"
  },
  "language_info": {
   "codemirror_mode": {
    "name": "ipython",
    "version": 3
   },
   "file_extension": ".py",
   "mimetype": "text/x-python",
   "name": "python",
   "nbconvert_exporter": "python",
   "pygments_lexer": "ipython3",
   "version": "3.8.3"
  },
  "varInspector": {
   "cols": {
    "lenName": 16,
    "lenType": 16,
    "lenVar": 40
   },
   "kernels_config": {
    "python": {
     "delete_cmd_postfix": "",
     "delete_cmd_prefix": "del ",
     "library": "var_list.py",
     "varRefreshCmd": "print(var_dic_list())"
    },
    "r": {
     "delete_cmd_postfix": ") ",
     "delete_cmd_prefix": "rm(",
     "library": "var_list.r",
     "varRefreshCmd": "cat(var_dic_list()) "
    }
   },
   "types_to_exclude": [
    "module",
    "function",
    "builtin_function_or_method",
    "instance",
    "_Feature"
   ],
   "window_display": false
  }
 },
 "nbformat": 4,
 "nbformat_minor": 4
}
