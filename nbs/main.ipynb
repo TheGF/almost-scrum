{
 "cells": [
  {
   "cell_type": "markdown",
   "metadata": {},
   "source": [
    "## Quick Scrum\n",
    "Quick Scrum\n",
    "qs take <story>\n",
    "qs store <store>\n",
    "qs init \n",
    "qs touch <story>\n"
   ]
  },
  {
   "cell_type": "markdown",
   "metadata": {
    "ExecuteTime": {
     "end_time": "2020-09-30T08:02:26.779094Z",
     "start_time": "2020-09-30T08:02:26.776365Z"
    },
    "heading_collapsed": true
   },
   "source": [
    "### Initialize a new project\n",
    "\n",
    ">_qs init [project_name]_\n",
    "\n",
    "Initialize a new Quick Scrum project in current folder. Current folder name will be used as project name when the name is not provided.\n",
    "The command create a folder .qs where stores (backlog and sprints) are created. If the current folder or its parent is a Git repository, the .qs folder is automatically added to the Git repository.\n",
    "\n",
    "Current user is added as manager of the project. Store is set to backlog."
   ]
  },
  {
   "cell_type": "markdown",
   "metadata": {
    "ExecuteTime": {
     "end_time": "2020-09-30T08:13:47.372094Z",
     "start_time": "2020-09-30T08:13:47.368223Z"
    }
   },
   "source": [
    "### Select a store\n",
    "\n",
    ">_qs store [bl|sb|1|2|3...]_\n",
    "\n",
    "Set the current store in the project. Quick-scrum looks for a project in current folder or parent folders.\n",
    "The possible stores are:\n",
    "    - bl: backlog\n",
    "    - sb: sandbox\n",
    "    - 1: sprint #1\n",
    "    - 2: sprint #2\n",
    "and so on.\n",
    "\n",
    "When called without a target store, it shows the list of stores and the one that is current. It allows than to choose the store to use.\n",
    "\n",
    "    \n",
    "\n",
    "\n",
    "\n"
   ]
  },
  {
   "cell_type": "markdown",
   "metadata": {
    "ExecuteTime": {
     "end_time": "2020-09-30T08:39:53.133595Z",
     "start_time": "2020-09-30T08:39:53.128801Z"
    }
   },
   "source": [
    "### List stories\n",
    "\n",
    ">_qs top [n]_\n",
    "\n",
    "Show the top _n_ stories in the current store or all stories when _n_ is not provided"
   ]
  },
  {
   "cell_type": "markdown",
   "metadata": {
    "ExecuteTime": {
     "end_time": "2020-10-11T09:54:38.783694Z",
     "start_time": "2020-10-11T09:54:38.778820Z"
    }
   },
   "source": [
    "### New story\n",
    "\n",
    ">_qs new [story_id]_\n",
    "\n",
    "Create a new story with the specified id"
   ]
  },
  {
   "cell_type": "markdown",
   "metadata": {
    "ExecuteTime": {
     "end_time": "2020-09-30T08:51:53.457861Z",
     "start_time": "2020-09-30T08:51:53.450946Z"
    }
   },
   "source": [
    "### Touch a story\n",
    "\n",
    ">_qs touch [story] [pos]_\n",
    "\n",
    "Touch the story, i.e. makes it top of the list or at a specific position in the list"
   ]
  },
  {
   "cell_type": "markdown",
   "metadata": {},
   "source": [
    "### Edit a story\n",
    "\n",
    ">_qs edit [story]_\n",
    "\n",
    "Edit a story content. the parameter *story* can be either the story name or the progressive number. When no parameter is provided, it shows the available stories in the current store\n"
   ]
  },
  {
   "cell_type": "code",
   "execution_count": 2,
   "metadata": {},
   "outputs": [],
   "source": [
    "#export\n",
    "from ascrum.core.project import Project\n",
    "from ascrum.core.store import Store\n",
    "import getpass\n",
    "import time\n",
    "from pathlib import Path\n",
    "import os\n",
    "import sys\n",
    "import subprocess"
   ]
  },
  {
   "cell_type": "code",
   "execution_count": 2,
   "metadata": {
    "ExecuteTime": {
     "end_time": "2020-10-15T11:47:47.842382Z",
     "start_time": "2020-10-15T11:47:47.832141Z"
    }
   },
   "outputs": [],
   "source": [
    "# default_exp main\n",
    "#export\n",
    "import argparse\n",
    "\n",
    "def get_init_parser(subparsers):\n",
    "    parser = subparsers.add_parser('init', help='create a Quick Scrum project in the current folder')\n",
    "    parser.add_argument('path',\n",
    "                        nargs='?',\n",
    "                        default='.',\n",
    "                        help='path where to init the project')\n",
    "\n",
    "def get_store_parser(subparsers):\n",
    "    parser = subparsers.add_parser('store', help='select the current store')\n",
    "    parser.add_argument('name',\n",
    "                        nargs='?',\n",
    "                        default='',\n",
    "                        help='store to use; sb for sandbox, bl for backlog, 1 for sprint-1...')\n",
    "\n",
    "def get_top_parser(subparsers):\n",
    "    parser = subparsers.add_parser('top', help='shows the top stories in the current store')\n",
    "    parser.add_argument('n',\n",
    "                        nargs='?',\n",
    "                        default=10,\n",
    "                        help='number of stories to show')\n",
    "\n",
    "def get_edit_parser(subparsers):\n",
    "    parser = subparsers.add_parser('edit', help='edit a story in the current store')\n",
    "    parser.add_argument('story',\n",
    "                        nargs='?',\n",
    "                        help='story to edit or partial name of it',\n",
    "                        default=None)\n",
    "\n",
    "def get_touch_parser(subparsers):\n",
    "    parser = subparsers.add_parser('touch', help='touch a story, making it the highet priority in the current store')\n",
    "    parser.add_argument('story',\n",
    "                        nargs='?',\n",
    "                        help='story to edit or partial name of it',\n",
    "                        default=None)\n",
    "\n",
    "def get_new_parser(subparsers):\n",
    "    parser = subparsers.add_parser('new', help='create a new story in current store')\n",
    "\n",
    "def get_web_parser(subparsers):\n",
    "    parser = subparsers.add_parser('web', help='start the web ui')\n",
    "    parser.add_argument('--port', '-p',\n",
    "                        help='port for the web server',\n",
    "                        default=4444)\n",
    "    parser.add_argument('--debug', '-d',\n",
    "                        help='set if to start in debug mode',\n",
    "                        default=False)\n",
    "\n",
    "def get_arg_parser():\n",
    "    parser = argparse.ArgumentParser(prog='qs', description='Quick Scrum 1.0')\n",
    "    subparsers = parser.add_subparsers(dest='command')\n",
    "\n",
    "    get_init_parser(subparsers)\n",
    "    get_store_parser(subparsers)\n",
    "    get_top_parser(subparsers)\n",
    "    get_new_parser(subparsers)\n",
    "    get_edit_parser(subparsers)\n",
    "    get_touch_parser(subparsers)\n",
    "    get_web_parser(subparsers)\n",
    "    return parser"
   ]
  },
  {
   "cell_type": "code",
   "execution_count": 3,
   "metadata": {
    "ExecuteTime": {
     "end_time": "2020-10-15T11:47:47.853188Z",
     "start_time": "2020-10-15T11:47:47.843848Z"
    }
   },
   "outputs": [],
   "source": [
    "#export    \n",
    "def choose_option(options, title):\n",
    "    print(title)\n",
    "    while True:\n",
    "        [print(f'[{1+i}] {option}') for i,option in enumerate(options)]\n",
    "        choice = input(title)\n",
    "        if not choice: return None\n",
    "\n",
    "        if choice.isnumeric():\n",
    "            choice = int(choice)\n",
    "            if choice-1 in range(0, len(options)):\n",
    "                return options[choice-1]\n",
    "\n",
    "def input_until(title, condition=lambda s: not len(s), msg='Invalid input. Please try again!'):\n",
    "    value = input(title)\n",
    "    while condition(value):\n",
    "        print(f'\\033[31m{msg}\\033[39m')\n",
    "        value = input(title)\n",
    "    return value\n",
    "\n",
    "\n",
    "def print_context(p,s):\n",
    "    title = f'{p.name}/{s.name}'\n",
    "    print(f'\\033[33m{title}')\n",
    "    print('-'*len(title)+'\\033[39m')\n",
    "\n",
    "def print_users(users):\n",
    "    print(f'\\033[33m{title}')"
   ]
  },
  {
   "cell_type": "code",
   "execution_count": 4,
   "metadata": {
    "ExecuteTime": {
     "end_time": "2020-10-15T11:47:47.906138Z",
     "start_time": "2020-10-15T11:47:47.854512Z"
    }
   },
   "outputs": [],
   "source": [
    "#export\n",
    "def assert_project(p):\n",
    "    if p == None:\n",
    "        cf = Path('.').resolve()\n",
    "        print(f'No quick-scrum project in current folder {cf}. Use command init to initialize a new project')\n",
    "        sys.exit()\n",
    "\n",
    "def get_current_store(p):\n",
    "    try:\n",
    "        cs = (p.path/p.project_folder/'current-store').resolve(True)\n",
    "        return p.get_store(cs.stem)\n",
    "    except FileNotFoundError:\n",
    "        return None\n",
    "\n",
    "def set_current_store(p, store_name):\n",
    "    s = p.get_store(store_name)\n",
    "    (p.path/p.project_folder/'current-store').symlink_to(s.path)\n",
    "    return s\n",
    "\n",
    "def get_context():\n",
    "    p = Project.find(Path('.'))\n",
    "    assert_project(p)\n",
    "    s = get_current_store(p)\n",
    "    return p, s if s else set_current_store(p, 'backlog')\n",
    "\n",
    "def start_editor(fpath):\n",
    "    if not config.editor:\n",
    "        print(f'Define an editor in qs.yaml')\n",
    "        sys.exit(1)\n",
    "    cmd = f'{config.editor} {fpath.resolve().as_posix()}'\n",
    "    subprocess.call(cmd, shell=True)\n",
    "\n",
    "def init_command(path):\n",
    "    p = Project(Path(path).absolute())\n",
    "    if p.exists():\n",
    "        raise AttributeError(f'A project already exists in {p.path}')\n",
    "\n",
    "    description = input('Project description: ')\n",
    "    project = {\n",
    "        'description': description,\n",
    "        'creator': getpass.getuser()\n",
    "    }\n",
    "    p.init(project)\n",
    "    print(f'A Scrum project created in  {p.path}')\n",
    "\n",
    "\n",
    "def store_command(name):\n",
    "    p, s = get_context()\n",
    "    print_context(p,s)\n",
    "\n",
    "    stores = p.list_stores()\n",
    "    if not name or not name in stores:\n",
    "        name = choose_option(stores,  'Choose the store: ')\n",
    "        if name:\n",
    "            s = p.get_store(name)\n",
    "            (p.path/p.project_folder/'current-store').unlink()\n",
    "            (p.path/p.project_folder/'current-store').symlink_to(s.path, target_is_directory=True)\n",
    "\n",
    "\n",
    "def top_command(n=None):\n",
    "    p, s = get_context()\n",
    "    print_context(p,s)\n",
    "\n",
    "    paths = sorted(s.path.glob('*.yaml'), key=os.path.getmtime, reverse=True)\n",
    "    if not n: paths = paths[0:n]\n",
    "    [print(f.name) for f in paths]\n",
    "\n",
    "\n",
    "def select_story(s, pattern, msg):\n",
    "    stories = s.keys()\n",
    "    if pattern:\n",
    "        stories = [story for story in s.keys() if pattern in story]\n",
    "\n",
    "    if not stories:\n",
    "        return None\n",
    "    elif len(stories) == 1:\n",
    "        return stories[0]\n",
    "    else:\n",
    "        return choose_option(stories, msg)\n",
    "\n",
    "def new_command():\n",
    "    p, s = get_context()\n",
    "    print_context(p,s)\n",
    "\n",
    "    print('Create a new story')\n",
    "    story_summary = input('Summary: ', )\n",
    "    story_id = p.new_story_id()\n",
    "\n",
    "    users = p.list_users()\n",
    "    story_owner = choose_option(users, 'Choose the owner: ')\n",
    "\n",
    "    key = f'{story_id}#{story_summary}'\n",
    "    s[key] = {\n",
    "        'description': 'FILL ME',\n",
    "        'points': 1,\n",
    "        'state': 'TODO',\n",
    "        'owner': config.user,\n",
    "        'tasks': []\n",
    "    }\n",
    "    start_editor(s.get_path(key))\n",
    "    print(f'Story {key} created in {p.name}/{s.name}')\n",
    "\n",
    "def edit_command(story_name):\n",
    "    p, s = get_context()\n",
    "    print_context(p,s)\n",
    "\n",
    "    story_name = select_story(s, story_name, \"Choose the story to edit: \")\n",
    "    if story_name:\n",
    "        fpath = s.get_path(story_name)\n",
    "        start_editor(fpath)\n",
    "\n",
    "def touch_command(story_name):\n",
    "    p, s = get_context()\n",
    "    print_context(p,s)\n",
    "\n",
    "    story_name = select_story(s, story_name, \"Choose the story to touch: \")\n",
    "    if story_name:\n",
    "        s.touch(story_name)\n",
    "        path = s.get_path(story_name)\n",
    "        mtime = path.stat().st_mtime\n",
    "        print(f'Touch {story_name} at {mtime}')\n",
    "\n",
    "def web_command(port, debug):\n",
    "    from qscrum.server import start_server\n",
    "    import qscrum.api.scrum\n",
    "    import webbrowser\n",
    "    start_server(port, debug)\n",
    "    webbrowser.open('http://www.python.org')"
   ]
  },
  {
   "cell_type": "code",
   "execution_count": 5,
   "metadata": {
    "ExecuteTime": {
     "end_time": "2020-10-15T11:47:47.914101Z",
     "start_time": "2020-10-15T11:47:47.907744Z"
    }
   },
   "outputs": [],
   "source": [
    "#export\n",
    "def dispatch_command(args=None):\n",
    "    p = get_arg_parser()\n",
    "    args = p.parse_args(args)\n",
    "\n",
    "    if args.command == 'init':\n",
    "        init_command(args.path)\n",
    "    elif args.command == 'store':\n",
    "        store_command(args.name)\n",
    "    elif args.command == 'top':\n",
    "        top_command(args.n)\n",
    "    elif args.command == 'new':\n",
    "        new_command()\n",
    "    elif args.command == 'edit':\n",
    "        edit_command(args.story)\n",
    "    elif args.command == 'touch':\n",
    "        touch_command(args.story)\n",
    "    elif args.command == 'web':\n",
    "        web_command(args.port, args.debug)"
   ]
  },
  {
   "cell_type": "code",
   "execution_count": 6,
   "metadata": {
    "ExecuteTime": {
     "start_time": "2020-10-15T11:48:13.628Z"
    }
   },
   "outputs": [
    {
     "ename": "ImportError",
     "evalue": "cannot import name 'cached_property' from 'werkzeug' (/home/mp/anaconda3/envs/qs/lib/python3.8/site-packages/werkzeug/__init__.py)",
     "output_type": "error",
     "traceback": [
      "\u001b[0;31m---------------------------------------------------------------------------\u001b[0m",
      "\u001b[0;31mImportError\u001b[0m                               Traceback (most recent call last)",
      "\u001b[0;32m<ipython-input-6-6a23974e3641>\u001b[0m in \u001b[0;36m<module>\u001b[0;34m\u001b[0m\n\u001b[0;32m----> 1\u001b[0;31m \u001b[0mdispatch_command\u001b[0m\u001b[0;34m(\u001b[0m\u001b[0;34m[\u001b[0m\u001b[0;34m'web'\u001b[0m\u001b[0;34m]\u001b[0m\u001b[0;34m)\u001b[0m\u001b[0;34m\u001b[0m\u001b[0;34m\u001b[0m\u001b[0m\n\u001b[0m",
      "\u001b[0;32m<ipython-input-5-6e2e195a4335>\u001b[0m in \u001b[0;36mdispatch_command\u001b[0;34m(args)\u001b[0m\n\u001b[1;32m     17\u001b[0m         \u001b[0mtouch_command\u001b[0m\u001b[0;34m(\u001b[0m\u001b[0margs\u001b[0m\u001b[0;34m.\u001b[0m\u001b[0mstory\u001b[0m\u001b[0;34m)\u001b[0m\u001b[0;34m\u001b[0m\u001b[0;34m\u001b[0m\u001b[0m\n\u001b[1;32m     18\u001b[0m     \u001b[0;32melif\u001b[0m \u001b[0margs\u001b[0m\u001b[0;34m.\u001b[0m\u001b[0mcommand\u001b[0m \u001b[0;34m==\u001b[0m \u001b[0;34m'web'\u001b[0m\u001b[0;34m:\u001b[0m\u001b[0;34m\u001b[0m\u001b[0;34m\u001b[0m\u001b[0m\n\u001b[0;32m---> 19\u001b[0;31m         \u001b[0mweb_command\u001b[0m\u001b[0;34m(\u001b[0m\u001b[0margs\u001b[0m\u001b[0;34m.\u001b[0m\u001b[0mport\u001b[0m\u001b[0;34m,\u001b[0m \u001b[0margs\u001b[0m\u001b[0;34m.\u001b[0m\u001b[0mdebug\u001b[0m\u001b[0;34m)\u001b[0m\u001b[0;34m\u001b[0m\u001b[0;34m\u001b[0m\u001b[0m\n\u001b[0m\u001b[1;32m     20\u001b[0m \u001b[0;34m\u001b[0m\u001b[0m\n",
      "\u001b[0;32m<ipython-input-4-f745c87fc3ca>\u001b[0m in \u001b[0;36mweb_command\u001b[0;34m(port, debug)\u001b[0m\n\u001b[1;32m    130\u001b[0m \u001b[0;34m\u001b[0m\u001b[0m\n\u001b[1;32m    131\u001b[0m \u001b[0;32mdef\u001b[0m \u001b[0mweb_command\u001b[0m\u001b[0;34m(\u001b[0m\u001b[0mport\u001b[0m\u001b[0;34m,\u001b[0m \u001b[0mdebug\u001b[0m\u001b[0;34m)\u001b[0m\u001b[0;34m:\u001b[0m\u001b[0;34m\u001b[0m\u001b[0;34m\u001b[0m\u001b[0m\n\u001b[0;32m--> 132\u001b[0;31m     \u001b[0;32mfrom\u001b[0m \u001b[0mqscrum\u001b[0m\u001b[0;34m.\u001b[0m\u001b[0mserver\u001b[0m \u001b[0;32mimport\u001b[0m \u001b[0mstart_server\u001b[0m\u001b[0;34m\u001b[0m\u001b[0;34m\u001b[0m\u001b[0m\n\u001b[0m\u001b[1;32m    133\u001b[0m     \u001b[0;32mimport\u001b[0m \u001b[0mqscrum\u001b[0m\u001b[0;34m.\u001b[0m\u001b[0mrest\u001b[0m\u001b[0;34m\u001b[0m\u001b[0;34m\u001b[0m\u001b[0m\n\u001b[1;32m    134\u001b[0m     \u001b[0;32mimport\u001b[0m \u001b[0mwebbrowser\u001b[0m\u001b[0;34m\u001b[0m\u001b[0;34m\u001b[0m\u001b[0m\n",
      "\u001b[0;32m~/Github/qscrum/nbs/qscrum/server.py\u001b[0m in \u001b[0;36m<module>\u001b[0;34m\u001b[0m\n\u001b[1;32m      7\u001b[0m \u001b[0;32mimport\u001b[0m \u001b[0mwerkzeug\u001b[0m\u001b[0;34m\u001b[0m\u001b[0;34m\u001b[0m\u001b[0m\n\u001b[1;32m      8\u001b[0m \u001b[0;32mfrom\u001b[0m \u001b[0mflask\u001b[0m \u001b[0;32mimport\u001b[0m \u001b[0mFlask\u001b[0m\u001b[0;34m\u001b[0m\u001b[0;34m\u001b[0m\u001b[0m\n\u001b[0;32m----> 9\u001b[0;31m \u001b[0;32mfrom\u001b[0m \u001b[0mflask_restplus\u001b[0m \u001b[0;32mimport\u001b[0m \u001b[0mResource\u001b[0m\u001b[0;34m,\u001b[0m \u001b[0mApi\u001b[0m\u001b[0;34m,\u001b[0m \u001b[0mfields\u001b[0m\u001b[0;34m,\u001b[0m \u001b[0mreqparse\u001b[0m\u001b[0;34m\u001b[0m\u001b[0;34m\u001b[0m\u001b[0m\n\u001b[0m\u001b[1;32m     10\u001b[0m \u001b[0;32mfrom\u001b[0m \u001b[0mpathlib\u001b[0m \u001b[0;32mimport\u001b[0m \u001b[0mPath\u001b[0m\u001b[0;34m\u001b[0m\u001b[0;34m\u001b[0m\u001b[0m\n\u001b[1;32m     11\u001b[0m \u001b[0;32mfrom\u001b[0m \u001b[0mhttp\u001b[0m \u001b[0;32mimport\u001b[0m \u001b[0mHTTPStatus\u001b[0m\u001b[0;34m\u001b[0m\u001b[0;34m\u001b[0m\u001b[0m\n",
      "\u001b[0;32m~/anaconda3/envs/qs/lib/python3.8/site-packages/flask_restplus/__init__.py\u001b[0m in \u001b[0;36m<module>\u001b[0;34m\u001b[0m\n\u001b[1;32m      2\u001b[0m \u001b[0;32mfrom\u001b[0m \u001b[0m__future__\u001b[0m \u001b[0;32mimport\u001b[0m \u001b[0mabsolute_import\u001b[0m\u001b[0;34m\u001b[0m\u001b[0;34m\u001b[0m\u001b[0m\n\u001b[1;32m      3\u001b[0m \u001b[0;34m\u001b[0m\u001b[0m\n\u001b[0;32m----> 4\u001b[0;31m \u001b[0;32mfrom\u001b[0m \u001b[0;34m.\u001b[0m \u001b[0;32mimport\u001b[0m \u001b[0mfields\u001b[0m\u001b[0;34m,\u001b[0m \u001b[0mreqparse\u001b[0m\u001b[0;34m,\u001b[0m \u001b[0mapidoc\u001b[0m\u001b[0;34m,\u001b[0m \u001b[0minputs\u001b[0m\u001b[0;34m,\u001b[0m \u001b[0mcors\u001b[0m\u001b[0;34m\u001b[0m\u001b[0;34m\u001b[0m\u001b[0m\n\u001b[0m\u001b[1;32m      5\u001b[0m \u001b[0;32mfrom\u001b[0m \u001b[0;34m.\u001b[0m\u001b[0mapi\u001b[0m \u001b[0;32mimport\u001b[0m \u001b[0mApi\u001b[0m  \u001b[0;31m# noqa\u001b[0m\u001b[0;34m\u001b[0m\u001b[0;34m\u001b[0m\u001b[0m\n\u001b[1;32m      6\u001b[0m \u001b[0;32mfrom\u001b[0m \u001b[0;34m.\u001b[0m\u001b[0mmarshalling\u001b[0m \u001b[0;32mimport\u001b[0m \u001b[0mmarshal\u001b[0m\u001b[0;34m,\u001b[0m \u001b[0mmarshal_with\u001b[0m\u001b[0;34m,\u001b[0m \u001b[0mmarshal_with_field\u001b[0m  \u001b[0;31m# noqa\u001b[0m\u001b[0;34m\u001b[0m\u001b[0;34m\u001b[0m\u001b[0m\n",
      "\u001b[0;32m~/anaconda3/envs/qs/lib/python3.8/site-packages/flask_restplus/fields.py\u001b[0m in \u001b[0;36m<module>\u001b[0;34m\u001b[0m\n\u001b[1;32m     15\u001b[0m \u001b[0;34m\u001b[0m\u001b[0m\n\u001b[1;32m     16\u001b[0m \u001b[0;32mfrom\u001b[0m \u001b[0mflask\u001b[0m \u001b[0;32mimport\u001b[0m \u001b[0murl_for\u001b[0m\u001b[0;34m,\u001b[0m \u001b[0mrequest\u001b[0m\u001b[0;34m\u001b[0m\u001b[0;34m\u001b[0m\u001b[0m\n\u001b[0;32m---> 17\u001b[0;31m \u001b[0;32mfrom\u001b[0m \u001b[0mwerkzeug\u001b[0m \u001b[0;32mimport\u001b[0m \u001b[0mcached_property\u001b[0m\u001b[0;34m\u001b[0m\u001b[0;34m\u001b[0m\u001b[0m\n\u001b[0m\u001b[1;32m     18\u001b[0m \u001b[0;34m\u001b[0m\u001b[0m\n\u001b[1;32m     19\u001b[0m \u001b[0;32mfrom\u001b[0m \u001b[0;34m.\u001b[0m\u001b[0minputs\u001b[0m \u001b[0;32mimport\u001b[0m \u001b[0mdate_from_iso8601\u001b[0m\u001b[0;34m,\u001b[0m \u001b[0mdatetime_from_iso8601\u001b[0m\u001b[0;34m,\u001b[0m \u001b[0mdatetime_from_rfc822\u001b[0m\u001b[0;34m,\u001b[0m \u001b[0mboolean\u001b[0m\u001b[0;34m\u001b[0m\u001b[0;34m\u001b[0m\u001b[0m\n",
      "\u001b[0;31mImportError\u001b[0m: cannot import name 'cached_property' from 'werkzeug' (/home/mp/anaconda3/envs/qs/lib/python3.8/site-packages/werkzeug/__init__.py)"
     ]
    }
   ],
   "source": [
    "dispatch_command(['web'])"
   ]
  },
  {
   "cell_type": "code",
   "execution_count": 3,
   "metadata": {
    "ExecuteTime": {
     "end_time": "2020-10-15T11:48:05.985267Z",
     "start_time": "2020-10-15T11:48:05.970193Z"
    },
    "scrolled": false
   },
   "outputs": [
    {
     "output_type": "stream",
     "name": "stdout",
     "text": [
      "__main__\nname 'dispatch_command' is not defined\n"
     ]
    }
   ],
   "source": [
    "#export\n",
    "if __name__ == '__main__':\n",
    "    try:\n",
    "        dispatch_command()\n",
    "    except Exception as e:\n",
    "        print('Error:', e)"
   ]
  },
  {
   "cell_type": "code",
   "execution_count": null,
   "metadata": {
    "ExecuteTime": {
     "end_time": "2020-10-15T11:48:05.990168Z",
     "start_time": "2020-10-15T11:47:47.838Z"
    }
   },
   "outputs": [],
   "source": [
    "p.parse_args??\n",
    "\n"
   ]
  },
  {
   "cell_type": "code",
   "execution_count": null,
   "metadata": {},
   "outputs": [],
   "source": []
  }
 ],
 "metadata": {
  "kernelspec": {
   "display_name": "Python 3.8.3 64-bit ('as': conda)",
   "language": "python",
   "name": "python38364bitascondabd1ae2f1a650462cb20307baf6a4f9f4"
  },
  "language_info": {
   "codemirror_mode": {
    "name": "ipython",
    "version": 3
   },
   "file_extension": ".py",
   "mimetype": "text/x-python",
   "name": "python",
   "nbconvert_exporter": "python",
   "pygments_lexer": "ipython3",
   "version": "3.8.3-final"
  },
  "varInspector": {
   "cols": {
    "lenName": 16,
    "lenType": 16,
    "lenVar": 40
   },
   "kernels_config": {
    "python": {
     "delete_cmd_postfix": "",
     "delete_cmd_prefix": "del ",
     "library": "var_list.py",
     "varRefreshCmd": "print(var_dic_list())"
    },
    "r": {
     "delete_cmd_postfix": ") ",
     "delete_cmd_prefix": "rm(",
     "library": "var_list.r",
     "varRefreshCmd": "cat(var_dic_list()) "
    }
   },
   "types_to_exclude": [
    "module",
    "function",
    "builtin_function_or_method",
    "instance",
    "_Feature"
   ],
   "window_display": false
  }
 },
 "nbformat": 4,
 "nbformat_minor": 4
}