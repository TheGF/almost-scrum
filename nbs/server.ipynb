{
 "metadata": {
  "language_info": {
   "codemirror_mode": {
    "name": "ipython",
    "version": 3
   },
   "file_extension": ".py",
   "mimetype": "text/x-python",
   "name": "python",
   "nbconvert_exporter": "python",
   "pygments_lexer": "ipython3",
   "version": "3.8.3-final"
  },
  "orig_nbformat": 2,
  "kernelspec": {
   "name": "python38364bitqsconda70419307ac5447bdbf6e3bb5e0d2222f",
   "display_name": "Python 3.8.3 64-bit ('qs': conda)"
  }
 },
 "nbformat": 4,
 "nbformat_minor": 2,
 "cells": [
  {
   "cell_type": "code",
   "execution_count": 1,
   "metadata": {},
   "outputs": [],
   "source": [
    "# default_exp server"
   ]
  },
  {
   "cell_type": "code",
   "execution_count": 2,
   "metadata": {},
   "outputs": [],
   "source": [
    "#export\n",
    "import werkzeug\n",
    "werkzeug.cached_property = werkzeug.utils.cached_property\n",
    "\n",
    "from flask import Flask\n",
    "from flask_restplus import Resource, Api, fields, reqparse\n",
    "from pathlib import Path\n",
    "from http import HTTPStatus\n",
    "from contextlib import contextmanager\n",
    "from qscrum.config import Config"
   ]
  },
  {
   "cell_type": "code",
   "execution_count": 10,
   "metadata": {},
   "outputs": [],
   "source": [
    "#export\n",
    "app = Flask(__name__)\n",
    "api = Api(app)\n",
    "config = Config()\n",
    "qscrum_ns = api.namespace('qscrum', description='Quick Scrum API')\n",
    "auth_ns = api.namespace('auth', description='Authentication API')"
   ]
  },
  {
   "cell_type": "code",
   "execution_count": null,
   "metadata": {},
   "outputs": [],
   "source": []
  }
 ]
}