{
 "cells": [
  {
   "cell_type": "code",
   "execution_count": 2,
   "metadata": {},
   "outputs": [],
   "source": [
    "# default_exp server"
   ]
  },
  {
   "cell_type": "code",
   "execution_count": 3,
   "metadata": {},
   "outputs": [],
   "source": [
    "#export\n",
    "from ascrum.core.config import config\n",
    "import werkzeug\n",
    "werkzeug.cached_property = werkzeug.utils.cached_property\n",
    "from flask import Flask, Blueprint, request, send_from_directory\n",
    "from flask_restplus import Api"
   ]
  },
  {
   "cell_type": "code",
   "execution_count": 4,
   "metadata": {},
   "outputs": [],
   "source": [
    "#export\n",
    "app = Flask('Almost Scrum', static_url_path='')\n",
    "api = Api(Blueprint('api', __name__), doc='/doc/')\n",
    "app.register_blueprint(api.app, url_prefix='/api/v1')\n",
    "\n",
    "@api.errorhandler(ValueError)\n",
    "def handle_value_error(error):\n",
    "    '''Return a custom message and 400 status code'''\n",
    "    return {'message': error.args[0]}, HTTPStatus.BAD_REQUEST\n",
    "\n",
    "@api.errorhandler(PermissionError)\n",
    "def handle_value_error(error):\n",
    "    '''Return a custom message and 403 status code'''\n",
    "    return {'message': error.args[0]}, HTTPStatus.FORBIDDEN\n",
    "\n",
    "@api.errorhandler(KeyError)\n",
    "def handle_value_error(error):\n",
    "    '''Return a custom message and 404 status code'''\n",
    "    return {'message': error.args[0]}, HTTPStatus.NOT_FOUND"
   ]
  },
  {
   "cell_type": "code",
   "execution_count": 4,
   "metadata": {},
   "outputs": [],
   "source": [
    "#export\n",
    "static_content = Blueprint('static_content', __name__, \n",
    "                            static_url_path='/')\n",
    "app.register_blueprint(static_content)\n",
    "# @static_content.route('/')\n",
    "# def root():\n",
    "#     return static_content.send_static_file('index.html')\n",
    "\n",
    "@app.route('/', defaults={'path': 'index.html'})\n",
    "@app.route('/<string:path>')\n",
    "def static_file(path):\n",
    "    return send_from_directory('web/dist', path)"
   ]
  },
  {
   "cell_type": "code",
   "execution_count": 5,
   "metadata": {},
   "outputs": [
    {
     "output_type": "execute_result",
     "data": {
      "text/plain": [
       "Map([<Rule '/<path>' (OPTIONS, HEAD, GET) -> static_file>,\n",
       " <Rule '/<filename>' (OPTIONS, HEAD, GET) -> static>,\n",
       " <Rule '/' (OPTIONS, HEAD, GET) -> static_file>])"
      ]
     },
     "metadata": {},
     "execution_count": 5
    }
   ],
   "source": [
    "app.url_map"
   ]
  },
  {
   "cell_type": "code",
   "execution_count": 6,
   "metadata": {},
   "outputs": [],
   "source": [
    "#export\n",
    "def start_server(port=4444, debug=False):\n",
    "    app.run(port=port, debug=debug)"
   ]
  },
  {
   "cell_type": "code",
   "execution_count": 7,
   "metadata": {},
   "outputs": [
    {
     "output_type": "stream",
     "name": "stdout",
     "text": [
      " * Serving Flask app \"Almost Scrum\" (lazy loading)\n",
      " * Environment: production\n",
      "\u001b[31m   WARNING: This is a development server. Do not use it in a production deployment.\u001b[0m\n",
      "\u001b[2m   Use a production WSGI server instead.\u001b[0m\n",
      " * Debug mode: off\n",
      " * Running on http://127.0.0.1:4444/ (Press CTRL+C to quit)\n",
      "127.0.0.1 - - [24/Oct/2020 09:03:40] \"\u001b[37mGET / HTTP/1.1\u001b[0m\" 200 -\n",
      "127.0.0.1 - - [24/Oct/2020 09:03:40] \"\u001b[37mGET /main.js HTTP/1.1\u001b[0m\" 200 -\n",
      "127.0.0.1 - - [24/Oct/2020 09:03:40] \"\u001b[33mGET /favicon.ico HTTP/1.1\u001b[0m\" 404 -\n",
      "127.0.0.1 - - [24/Oct/2020 09:03:59] \"\u001b[31m\u001b[1mPOST /api/v1/login HTTP/1.1\u001b[0m\" 405 -\n"
     ]
    }
   ],
   "source": [
    "start_server()"
   ]
  },
  {
   "cell_type": "code",
   "execution_count": null,
   "metadata": {},
   "outputs": [],
   "source": []
  }
 ],
 "metadata": {
  "kernelspec": {
   "display_name": "Python 3.8.3 64-bit ('as': conda)",
   "name": "python38364bitascondabd1ae2f1a650462cb20307baf6a4f9f4"
  },
  "language_info": {
   "codemirror_mode": {
    "name": "ipython",
    "version": 3
   },
   "file_extension": ".py",
   "mimetype": "text/x-python",
   "name": "python",
   "nbconvert_exporter": "python",
   "pygments_lexer": "ipython3",
   "version": "3.8.3-final"
  }
 },
 "nbformat": 4,
 "nbformat_minor": 2
}