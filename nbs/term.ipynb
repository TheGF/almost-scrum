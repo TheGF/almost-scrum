{
 "cells": [
  {
   "cell_type": "markdown",
   "metadata": {},
   "source": [
    "## Quick Scrum\n",
    "Quick Scrum\n",
    "qs take <story>\n",
    "qs store <store>\n",
    "qs init \n",
    "qs touch <story>\n"
   ]
  },
  {
   "cell_type": "markdown",
   "metadata": {
    "ExecuteTime": {
     "end_time": "2020-09-30T08:02:26.779094Z",
     "start_time": "2020-09-30T08:02:26.776365Z"
    },
    "heading_collapsed": true
   },
   "source": [
    "### Initialize a new project\n",
    "\n",
    ">_qs init [project_name]_\n",
    "\n",
    "Initialize a new Quick Scrum project in current folder. Current folder name will be used as project name when the name is not provided.\n",
    "The command create a folder .qs where stores (backlog and sprints) are created. If the current folder or its parent is a Git repository, the .qs folder is automatically added to the Git repository.\n",
    "\n",
    "Current user is added as manager of the project. Store is set to backlog."
   ]
  },
  {
   "cell_type": "markdown",
   "metadata": {
    "ExecuteTime": {
     "end_time": "2020-09-30T08:13:47.372094Z",
     "start_time": "2020-09-30T08:13:47.368223Z"
    }
   },
   "source": [
    "### Select a store\n",
    "\n",
    ">_qs store [bl|sb|1|2|3...]_\n",
    "\n",
    "Set the current store in the project. Quick-scrum looks for a project in current folder or parent folders.\n",
    "The possible stores are:\n",
    "    - bl: backlog\n",
    "    - sb: sandbox\n",
    "    - 1: sprint #1\n",
    "    - 2: sprint #2\n",
    "and so on.\n",
    "\n",
    "When called without a target store, it shows the list of stores and the one that is current. It allows than to choose the store to use.\n",
    "\n",
    "    \n",
    "\n",
    "\n",
    "\n"
   ]
  },
  {
   "cell_type": "markdown",
   "metadata": {
    "ExecuteTime": {
     "end_time": "2020-09-30T08:39:53.133595Z",
     "start_time": "2020-09-30T08:39:53.128801Z"
    }
   },
   "source": [
    "### List stories\n",
    "\n",
    ">_qs top [n]_\n",
    "\n",
    "Show the top _n_ stories in the current store or all stories when _n_ is not provided"
   ]
  },
  {
   "cell_type": "markdown",
   "metadata": {
    "ExecuteTime": {
     "end_time": "2020-09-30T08:51:53.457861Z",
     "start_time": "2020-09-30T08:51:53.450946Z"
    }
   },
   "source": [
    "### Touch a story\n",
    "\n",
    ">_qs touch [story] [pos]_\n",
    "\n",
    "Touch the story, i.e. makes it top of the list or at a specific position in the list"
   ]
  },
  {
   "cell_type": "markdown",
   "metadata": {},
   "source": [
    "### Edit a story\n",
    "\n",
    ">_qs edit [story]_\n",
    "\n",
    "Edit a story content. the parameter *story* can be either the story name or the progressive number. When no parameter is provided, it shows the available stories in the current store\n"
   ]
  },
  {
   "cell_type": "code",
   "execution_count": 21,
   "metadata": {
    "ExecuteTime": {
     "end_time": "2020-10-05T17:29:56.945201Z",
     "start_time": "2020-10-05T17:29:56.940934Z"
    }
   },
   "outputs": [],
   "source": [
    "# default_exp term\n",
    "#export\n",
    "import argparse\n",
    "\n",
    "def get_arg_parser():\n",
    "    parser = argparse.ArgumentParser(prog='qs', description='Quick Scrum 1.0')\n",
    "    subparsers = parser.add_subparsers(dest='command')\n",
    "    \n",
    "    get_init_parser(subparsers)\n",
    "    get_store_parser(subparsers)\n",
    "    get_top_parser(subparsers)\n",
    "    return parser\n",
    "\n",
    "def get_init_parser(subparsers):\n",
    "    parser = subparsers.add_parser('init', help='create a Quick Scrum project in the current folder')\n",
    "    parser.add_argument('--path', '-p', default='.', help='location of the project')\n",
    "\n",
    "def get_store_parser(subparsers):\n",
    "    parser = subparsers.add_parser('store', help='select the current store')\n",
    "    parser.add_argument('--name', '-n',\n",
    "                        help='store to use; sb for sandbox, bl for backlog, 1 for sprint-1...')\n",
    "\n",
    "def get_top_parser(subparsers):\n",
    "    parser = subparsers.add_parser('top', help='shows the top stories in the current store')\n",
    "    parser.add_argument('-n',\n",
    "                        default=10,\n",
    "                        help='number of stories to show')\n",
    "\n",
    "    "
   ]
  },
  {
   "cell_type": "code",
   "execution_count": 30,
   "metadata": {
    "ExecuteTime": {
     "end_time": "2020-10-05T17:35:18.797706Z",
     "start_time": "2020-10-05T17:35:18.792205Z"
    }
   },
   "outputs": [],
   "source": [
    "from services import init_project\n",
    "import getpass\n",
    "import time\n",
    "from pathlib import Path\n",
    "\n",
    "def init_project_command(path):\n",
    "    description = input('Enter project description')\n",
    "    project = {\n",
    "        'description': description,\n",
    "        'creator': getpass.getuser()\n",
    "    }\n",
    "    init_project(Path(path), project)   "
   ]
  },
  {
   "cell_type": "code",
   "execution_count": 31,
   "metadata": {
    "ExecuteTime": {
     "end_time": "2020-10-05T17:35:19.403403Z",
     "start_time": "2020-10-05T17:35:19.397937Z"
    }
   },
   "outputs": [],
   "source": [
    "def dispatch_command(args):\n",
    "    if args.command == 'init':\n",
    "        init_project_command(args.path)"
   ]
  },
  {
   "cell_type": "code",
   "execution_count": 33,
   "metadata": {
    "ExecuteTime": {
     "end_time": "2020-10-05T17:41:33.023667Z",
     "start_time": "2020-10-05T17:41:29.873499Z"
    },
    "scrolled": true
   },
   "outputs": [
    {
     "name": "stdout",
     "output_type": "stream",
     "text": [
      "Enter project descriptionTest\n"
     ]
    }
   ],
   "source": [
    "#export\n",
    "if __name__ == '__main__':\n",
    "    p = get_arg_parser()\n",
    "    args = p.parse_args(['init', '-p', '../data/test4'])\n",
    "    dispatch_command(args)"
   ]
  },
  {
   "cell_type": "code",
   "execution_count": 3,
   "metadata": {
    "ExecuteTime": {
     "end_time": "2020-10-05T05:46:08.858155Z",
     "start_time": "2020-10-05T05:46:08.850764Z"
    }
   },
   "outputs": [
    {
     "data": {
      "text/plain": [
       "Namespace(project_name='test')"
      ]
     },
     "execution_count": 3,
     "metadata": {},
     "output_type": "execute_result"
    }
   ],
   "source": [
    "args"
   ]
  },
  {
   "cell_type": "code",
   "execution_count": 4,
   "metadata": {
    "ExecuteTime": {
     "end_time": "2020-10-05T05:46:15.602616Z",
     "start_time": "2020-10-05T05:46:15.600248Z"
    }
   },
   "outputs": [
    {
     "data": {
      "text/plain": [
       "'test'"
      ]
     },
     "execution_count": 4,
     "metadata": {},
     "output_type": "execute_result"
    }
   ],
   "source": [
    "args.project_name\n"
   ]
  },
  {
   "cell_type": "code",
   "execution_count": null,
   "metadata": {},
   "outputs": [],
   "source": []
  }
 ],
 "metadata": {
  "kernelspec": {
   "display_name": "Python 3.8.3 64-bit ('qs': conda)",
   "language": "python",
   "name": "python38364bitqsconda70419307ac5447bdbf6e3bb5e0d2222f"
  },
  "language_info": {
   "codemirror_mode": {
    "name": "ipython",
    "version": 3
   },
   "file_extension": ".py",
   "mimetype": "text/x-python",
   "name": "python",
   "nbconvert_exporter": "python",
   "pygments_lexer": "ipython3",
   "version": "3.8.3"
  },
  "varInspector": {
   "cols": {
    "lenName": 16,
    "lenType": 16,
    "lenVar": 40
   },
   "kernels_config": {
    "python": {
     "delete_cmd_postfix": "",
     "delete_cmd_prefix": "del ",
     "library": "var_list.py",
     "varRefreshCmd": "print(var_dic_list())"
    },
    "r": {
     "delete_cmd_postfix": ") ",
     "delete_cmd_prefix": "rm(",
     "library": "var_list.r",
     "varRefreshCmd": "cat(var_dic_list()) "
    }
   },
   "types_to_exclude": [
    "module",
    "function",
    "builtin_function_or_method",
    "instance",
    "_Feature"
   ],
   "window_display": false
  }
 },
 "nbformat": 4,
 "nbformat_minor": 4
}
