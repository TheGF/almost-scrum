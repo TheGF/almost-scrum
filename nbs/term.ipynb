{
 "cells": [
  {
   "cell_type": "markdown",
   "metadata": {},
   "source": [
    "## Quick Scrum\n",
    "Quick Scrum\n",
    "qs take <story>\n",
    "qs store <store>\n",
    "qs init \n",
    "qs touch <story>\n"
   ]
  },
  {
   "cell_type": "markdown",
   "metadata": {
    "ExecuteTime": {
     "end_time": "2020-09-30T08:02:26.779094Z",
     "start_time": "2020-09-30T08:02:26.776365Z"
    },
    "heading_collapsed": true
   },
   "source": [
    "### Initialize a new project\n",
    "\n",
    ">_qs init [project_name]_\n",
    "\n",
    "Initialize a new Quick Scrum project in current folder. Current folder name will be used as project name when the name is not provided.\n",
    "The command create a folder .qs where stores (backlog and sprints) are created. If the current folder or its parent is a Git repository, the .qs folder is automatically added to the Git repository.\n",
    "\n",
    "Current user is added as manager of the project. Store is set to backlog."
   ]
  },
  {
   "cell_type": "markdown",
   "metadata": {
    "ExecuteTime": {
     "end_time": "2020-09-30T08:13:47.372094Z",
     "start_time": "2020-09-30T08:13:47.368223Z"
    }
   },
   "source": [
    "### Select a store\n",
    "\n",
    ">_qs store [bl|sb|1|2|3...]_\n",
    "\n",
    "Set the current store in the project. Quick-scrum looks for a project in current folder or parent folders.\n",
    "The possible stores are:\n",
    "    - bl: backlog\n",
    "    - sb: sandbox\n",
    "    - 1: sprint #1\n",
    "    - 2: sprint #2\n",
    "and so on.\n",
    "\n",
    "When called without a target store, it shows the list of stores and the one that is current. It allows than to choose the store to use.\n",
    "\n",
    "    \n",
    "\n",
    "\n",
    "\n"
   ]
  },
  {
   "cell_type": "markdown",
   "metadata": {
    "ExecuteTime": {
     "end_time": "2020-09-30T08:39:53.133595Z",
     "start_time": "2020-09-30T08:39:53.128801Z"
    }
   },
   "source": [
    "### List stories\n",
    "\n",
    ">_qs top [n]_\n",
    "\n",
    "Show the top _n_ stories in the current store or all stories when _n_ is not provided"
   ]
  },
  {
   "cell_type": "markdown",
   "metadata": {
    "ExecuteTime": {
     "end_time": "2020-09-30T08:51:53.457861Z",
     "start_time": "2020-09-30T08:51:53.450946Z"
    }
   },
   "source": [
    "### Touch a story\n",
    "\n",
    ">_qs touch [story] [pos]_\n",
    "\n",
    "Touch the story, i.e. makes it top of the list or at a specific position in the list"
   ]
  },
  {
   "cell_type": "markdown",
   "metadata": {},
   "source": [
    "### Edit a story\n",
    "\n",
    ">_qs edit [story]_\n",
    "\n",
    "Edit a story content. the parameter *story* can be either the story name or the progressive number. When no parameter is provided, it shows the available stories in the current store\n"
   ]
  },
  {
   "cell_type": "code",
   "execution_count": null,
   "metadata": {},
   "outputs": [],
   "source": [
    "import argparse\n",
    "\n",
    "def get_arg_parser():\n",
    "    parser = argparse.ArgumentParser(description='Quick-Scrum 1.0')\n",
    "    parser.add_argument('action', metavar='N', type=int, nargs='+',\n",
    "                        help='an integer for the accumulator')\n",
    "    parser.add_argument('--sum', dest='accumulate', action='store_const',\n",
    "                        const=sum, default=max,\n",
    "                        help='sum the integers (default: find the max)')\n",
    "\n",
    "def route()"
   ]
  }
 ],
 "metadata": {
  "kernelspec": {
   "display_name": "Python 3.8.3 64-bit ('qs': conda)",
   "language": "python",
   "name": "python38364bitqsconda70419307ac5447bdbf6e3bb5e0d2222f"
  },
  "language_info": {
   "codemirror_mode": {
    "name": "ipython",
    "version": 3
   },
   "file_extension": ".py",
   "mimetype": "text/x-python",
   "name": "python",
   "nbconvert_exporter": "python",
   "pygments_lexer": "ipython3",
   "version": "3.8.3"
  },
  "varInspector": {
   "cols": {
    "lenName": 16,
    "lenType": 16,
    "lenVar": 40
   },
   "kernels_config": {
    "python": {
     "delete_cmd_postfix": "",
     "delete_cmd_prefix": "del ",
     "library": "var_list.py",
     "varRefreshCmd": "print(var_dic_list())"
    },
    "r": {
     "delete_cmd_postfix": ") ",
     "delete_cmd_prefix": "rm(",
     "library": "var_list.r",
     "varRefreshCmd": "cat(var_dic_list()) "
    }
   },
   "types_to_exclude": [
    "module",
    "function",
    "builtin_function_or_method",
    "instance",
    "_Feature"
   ],
   "window_display": false
  }
 },
 "nbformat": 4,
 "nbformat_minor": 4
}
