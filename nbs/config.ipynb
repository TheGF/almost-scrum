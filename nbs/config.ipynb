{
 "cells": [
  {
   "cell_type": "code",
   "execution_count": 1,
   "metadata": {
    "ExecuteTime": {
     "end_time": "2020-10-06T06:42:31.798363Z",
     "start_time": "2020-10-06T06:42:31.782461Z"
    }
   },
   "outputs": [],
   "source": [
    "# default_exp config\n",
    "# export\n",
    "from pathlib import Path\n",
    "import yaml\n",
    "import os\n",
    "import time"
   ]
  },
  {
   "cell_type": "code",
   "execution_count": 13,
   "metadata": {
    "ExecuteTime": {
     "end_time": "2020-10-06T06:44:23.533616Z",
     "start_time": "2020-10-06T06:44:23.524332Z"
    }
   },
   "outputs": [],
   "source": [
    "# export\n",
    "class Config():\n",
    "    config_file = Path(os.getenv('QS_CONFIG', f'~/.config/qs.yaml')).expanduser() \n",
    "\n",
    "    def __init__(self):\n",
    "        self.config_file.parent.mkdir(parents=True, exist_ok=True)\n",
    "        if not self.config_file.exists(): self.create_config()\n",
    "        self.d = self.load_config()\n",
    "           \n",
    "    def __getattr__(self, k):\n",
    "        if k=='d': raise AttributeError\n",
    "        return self.d[k]\n",
    "                       \n",
    "    def create_config(self):\n",
    "        config = {'version': 1.0, 'projects': {}}\n",
    "        self.save_config(config)\n",
    "                       \n",
    "    def load_config(self):\n",
    "        with self.config_file.open() as f:\n",
    "            return yaml.load(f, Loader=yaml.FullLoader)\n",
    "                       \n",
    "    def save_config(self, config):\n",
    "        with self.config_file.open('w') as f:\n",
    "            yaml.dump(config, f)\n",
    "    \n",
    "\n"
   ]
  },
  {
   "cell_type": "code",
   "execution_count": 15,
   "metadata": {
    "ExecuteTime": {
     "end_time": "2020-10-06T06:44:32.725091Z",
     "start_time": "2020-10-06T06:44:32.716621Z"
    }
   },
   "outputs": [
    {
     "data": {
      "text/plain": [
       "{}"
      ]
     },
     "execution_count": 15,
     "metadata": {},
     "output_type": "execute_result"
    }
   ],
   "source": [
    "c = Config()\n",
    "c.projects"
   ]
  },
  {
   "cell_type": "code",
   "execution_count": null,
   "metadata": {},
   "outputs": [],
   "source": []
  }
 ],
 "metadata": {
  "kernelspec": {
   "display_name": "Python 3.8.3 64-bit ('qs': conda)",
   "language": "python",
   "name": "python38364bitqsconda70419307ac5447bdbf6e3bb5e0d2222f"
  },
  "language_info": {
   "codemirror_mode": {
    "name": "ipython",
    "version": 3
   },
   "file_extension": ".py",
   "mimetype": "text/x-python",
   "name": "python",
   "nbconvert_exporter": "python",
   "pygments_lexer": "ipython3",
   "version": "3.8.3"
  },
  "varInspector": {
   "cols": {
    "lenName": 16,
    "lenType": 16,
    "lenVar": 40
   },
   "kernels_config": {
    "python": {
     "delete_cmd_postfix": "",
     "delete_cmd_prefix": "del ",
     "library": "var_list.py",
     "varRefreshCmd": "print(var_dic_list())"
    },
    "r": {
     "delete_cmd_postfix": ") ",
     "delete_cmd_prefix": "rm(",
     "library": "var_list.r",
     "varRefreshCmd": "cat(var_dic_list()) "
    }
   },
   "types_to_exclude": [
    "module",
    "function",
    "builtin_function_or_method",
    "instance",
    "_Feature"
   ],
   "window_display": false
  }
 },
 "nbformat": 4,
 "nbformat_minor": 4
}
