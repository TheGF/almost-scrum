{
 "cells": [
  {
   "cell_type": "code",
   "execution_count": 3,
   "metadata": {
    "ExecuteTime": {
     "end_time": "2020-10-13T08:11:25.350912Z",
     "start_time": "2020-10-13T08:11:25.347950Z"
    }
   },
   "outputs": [],
   "source": [
    "# default_exp config\n",
    "# export\n",
    "from pathlib import Path\n",
    "from shutil import which\n",
    "import yaml\n",
    "import os\n",
    "import time\n",
    "import getpass\n",
    "import secrets"
   ]
  },
  {
   "cell_type": "code",
   "execution_count": 11,
   "metadata": {},
   "outputs": [],
   "source": [
    "# export\n",
    "import hashlib, binascii, os\n",
    "\n",
    "def _hash_password(password):\n",
    "    \"\"\"Hash a password for storing.\"\"\"\n",
    "    salt = hashlib.sha256(os.urandom(60)).hexdigest().encode('ascii')\n",
    "    pwdhash = hashlib.pbkdf2_hmac('sha512', password.encode('utf-8'), \n",
    "                                salt, 100000)\n",
    "    pwdhash = binascii.hexlify(pwdhash)\n",
    "    return (salt + pwdhash).decode('ascii')\n",
    "\n",
    "def _verify_password(stored_password, provided_password):\n",
    "    \"\"\"Verify a stored password against one provided by user\"\"\"\n",
    "    salt = stored_password[:64]\n",
    "    stored_password = stored_password[64:]\n",
    "    pwdhash = hashlib.pbkdf2_hmac('sha512', \n",
    "                                  provided_password.encode('utf-8'), \n",
    "                                  salt.encode('ascii'), \n",
    "                                  100000)\n",
    "    pwdhash = binascii.hexlify(pwdhash).decode('ascii')\n",
    "    return pwdhash == stored_password"
   ]
  },
  {
   "cell_type": "code",
   "execution_count": 15,
   "metadata": {
    "ExecuteTime": {
     "end_time": "2020-10-13T08:11:25.731817Z",
     "start_time": "2020-10-13T08:11:25.723235Z"
    }
   },
   "outputs": [],
   "source": [
    "# export\n",
    "\n",
    "def is_tool(name):\n",
    "    \"\"\"Check whether `name` is on PATH and marked as executable.\"\"\"\n",
    "    return which(name) is not None\n",
    "\n",
    "def guess_editor():\n",
    "    editors = ['notepad','nano','vi']\n",
    "    return next(e for e in editors if (is_tool(e)))\n",
    "\n",
    "class Config():\n",
    "    config_file = Path(os.getenv('QS_CONFIG', f'~/.config/qs.yaml')).expanduser() \n",
    "\n",
    "    def __init__(self):\n",
    "        self.config_file.parent.mkdir(parents=True, exist_ok=True)\n",
    "        if not self.config_file.exists(): self.create_config()\n",
    "        self.d = self.load_config()\n",
    "           \n",
    "    def __getattr__(self, k):\n",
    "        if k=='d': raise AttributeError\n",
    "        return self.d[k]\n",
    "                       \n",
    "    def create_config(self):\n",
    "        config = {'version': 1.0, \n",
    "                  'projects': {},\n",
    "                  'editor': guess_editor(),\n",
    "                  'secret': secrets.token_hex(32),  \n",
    "                  'passwords': {}}\n",
    "        \n",
    "        self.save_config(config)\n",
    "                \n",
    "    def load_config(self):\n",
    "        with self.config_file.open() as f:\n",
    "            return yaml.load(f, Loader=yaml.FullLoader)\n",
    "                    \n",
    "    def save_config(self, config):\n",
    "        self.config_file.parent.mkdir(parents=True, exist_ok=True)\n",
    "        with self.config_file.open('w') as f:\n",
    "            yaml.dump(config, f)\n",
    "\n",
    "    def set_password(self, user, password):\n",
    "        self.d[user] = _hash_password(password)\n",
    "        self.save_config(self.d)\n",
    "    \n",
    "    def verify_password(self, user, password):\n",
    "        return _verify_password(self.d.get(user, ''), password)\n",
    "\n",
    "config = Config()"
   ]
  },
  {
   "cell_type": "code",
   "execution_count": 6,
   "metadata": {
    "ExecuteTime": {
     "end_time": "2020-10-13T08:11:26.398530Z",
     "start_time": "2020-10-13T08:11:26.388909Z"
    }
   },
   "outputs": [
    {
     "output_type": "execute_result",
     "data": {
      "text/plain": [
       "{'editor': 'nano',\n",
       " 'passwords': {},\n",
       " 'projects': {},\n",
       " 'secret': '6c68ec4578bff79990398d703e1e1f5db7b852ae7cdb7e7cac1b25861f21f0c0',\n",
       " 'version': 1.0}"
      ]
     },
     "metadata": {},
     "execution_count": 6
    }
   ],
   "source": [
    "c = Config()\n",
    "c.d"
   ]
  },
  {
   "cell_type": "code",
   "execution_count": 7,
   "metadata": {
    "ExecuteTime": {
     "end_time": "2020-10-13T08:11:31.463568Z",
     "start_time": "2020-10-13T08:11:31.457719Z"
    }
   },
   "outputs": [],
   "source": [
    "c.create_config()"
   ]
  },
  {
   "cell_type": "code",
   "execution_count": 8,
   "metadata": {
    "ExecuteTime": {
     "end_time": "2020-10-13T07:23:11.740318Z",
     "start_time": "2020-10-13T07:23:11.733207Z"
    }
   },
   "outputs": [
    {
     "output_type": "execute_result",
     "data": {
      "text/plain": [
       "True"
      ]
     },
     "metadata": {},
     "execution_count": 8
    }
   ],
   "source": [
    "is_tool('vi')"
   ]
  },
  {
   "cell_type": "code",
   "execution_count": null,
   "metadata": {},
   "outputs": [],
   "source": []
  }
 ],
 "metadata": {
  "kernelspec": {
   "display_name": "Python 3.8.3 64-bit ('qs': conda)",
   "language": "python",
   "name": "python38364bitqsconda70419307ac5447bdbf6e3bb5e0d2222f"
  },
  "language_info": {
   "codemirror_mode": {
    "name": "ipython",
    "version": 3
   },
   "file_extension": ".py",
   "mimetype": "text/x-python",
   "name": "python",
   "nbconvert_exporter": "python",
   "pygments_lexer": "ipython3",
   "version": "3.8.3-final"
  },
  "varInspector": {
   "cols": {
    "lenName": 16,
    "lenType": 16,
    "lenVar": 40
   },
   "kernels_config": {
    "python": {
     "delete_cmd_postfix": "",
     "delete_cmd_prefix": "del ",
     "library": "var_list.py",
     "varRefreshCmd": "print(var_dic_list())"
    },
    "r": {
     "delete_cmd_postfix": ") ",
     "delete_cmd_prefix": "rm(",
     "library": "var_list.r",
     "varRefreshCmd": "cat(var_dic_list()) "
    }
   },
   "types_to_exclude": [
    "module",
    "function",
    "builtin_function_or_method",
    "instance",
    "_Feature"
   ],
   "window_display": false
  }
 },
 "nbformat": 4,
 "nbformat_minor": 4
}