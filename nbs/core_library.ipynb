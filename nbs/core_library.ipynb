{
 "cells": [
  {
   "cell_type": "code",
   "execution_count": 1,
   "metadata": {
    "ExecuteTime": {
     "end_time": "2020-10-15T16:45:19.009185Z",
     "start_time": "2020-10-15T16:45:18.993770Z"
    }
   },
   "outputs": [],
   "source": [
    "# default_exp core.library\n",
    "# export\n",
    "from ascrum.core.config import config\n",
    "from pathlib import Path\n",
    "import yaml\n",
    "import os\n",
    "import time\n",
    "import getpass\n",
    "import shutil\n",
    "import time\n",
    "import mimetypes\n",
    "import json\n",
    "from filelock import FileLock"
   ]
  },
  {
   "cell_type": "code",
   "execution_count": 2,
   "metadata": {
    "ExecuteTime": {
     "end_time": "2020-10-15T11:47:35.373518Z",
     "start_time": "2020-10-15T11:47:35.364803Z"
    }
   },
   "outputs": [],
   "source": [
    "# export\n",
    "class Library:\n",
    "    def __init__(self, path: Path):\n",
    "        self.base = path\n",
    "        self.archive = config.archive_path if config.archive_path else self.base/'.archive'\n",
    "        self.archive.mkdir(parents=True, exist_ok=True)\n",
    "        (self.base/'.meta').mkdir(exist_ok=True)\n",
    "\n",
    "    def set_document(self, target: str, source_file=None, source_path=None, create_file=False,\n",
    "                        mimetype=None, mode='wb', user=None):\n",
    "        'Move a file into the library'\n",
    "\n",
    "        mimetype = mimetype if mimetype else mimetypes.guess_type(target)[0]\n",
    "        dest = self.get_path(target)\n",
    "        dest.parent.mkdir(parents=True, exist_ok=True)\n",
    "        self._version(dest)\n",
    "\n",
    "        meta = {\n",
    "            'mime': mimetype,\n",
    "            'creator': user,\n",
    "        } \n",
    "        self._set_meta(dest, meta)\n",
    "\n",
    "        if source_path:\n",
    "            shutil.move(source_path, dest)\n",
    "        elif source_file:\n",
    "            with dest.open(mode) as w:\n",
    "                shutil.copyfileobj(source_file, w)\n",
    "        elif create_file:\n",
    "            return dest.open(mode)\n",
    "\n",
    "    def get_document(self, path, mode='rb'):\n",
    "        return self.get_path(path).open(mode)\n",
    "\n",
    "    def del_document(self, path):\n",
    "        if path:\n",
    "            self._version(path)\n",
    "            self.get_path(path).unlink()\n",
    "\n",
    "    def mkdir(self, dir):\n",
    "        p = (self.get_path(dir)/'.meta')\n",
    "        p.mkdirs(parents=True, exist_ok=True)\n",
    "\n",
    "    def get_path(self, path):\n",
    "        while path.startswith('/'): path = path[1:]\n",
    "        return self.base/path\n",
    "\n",
    "    def _version(self, path):\n",
    "        if config.versioning:\n",
    "            p = self.get_path(path)\n",
    "            if p.exists():\n",
    "                ts = time.time()\n",
    "                target = self.archive/f'{path}.{ts}'\n",
    "                shutil.move(p.as_posix(), target.as_posix())    \n",
    "\n",
    "    def _get_meta(self,path):\n",
    "        p = path.parent/'.meta'/f'{path.name}.meta'        \n",
    "        try:\n",
    "            with p.open() as f:\n",
    "                return json.load(f)\n",
    "        except:\n",
    "            return {}\n",
    "    \n",
    "    def _set_meta(self, path, meta):\n",
    "        p = path.parent/'.meta'/f'{path.name}.meta'        \n",
    "        with p.open('w') as f:\n",
    "            return json.dump(meta, f)\n",
    "\n",
    "    def list(self, path='.', pattern='*'):\n",
    "        def list_item(f):\n",
    "            m = self._get_meta(f)\n",
    "            st = f.stat()\n",
    "            return {\n",
    "                'name': f.name, \n",
    "                'dir': f.is_dir(), \n",
    "                'mime': m.get('mime', None),\n",
    "                'mtime': st.st_mtime,\n",
    "                'creator': m.get('creator', None),\n",
    "            }\n",
    "        p = self.base/path\n",
    "        return [list_item(f) for f in sorted(p.glob(pattern), \n",
    "            key=os.path.getmtime, reverse=True) if not f.name.startswith('.')]\n"
   ]
  },
  {
   "cell_type": "code",
   "execution_count": 3,
   "metadata": {},
   "outputs": [],
   "source": [
    "l = Library(Path('/tmp/scrum/library'))\n"
   ]
  },
  {
   "cell_type": "code",
   "execution_count": 84,
   "metadata": {},
   "outputs": [],
   "source": [
    "import io\n",
    "f = io.BytesIO(b\"some initial binary data: \\x00\\x01\")\n",
    "l.set_document('sub/test.txt', source_file=f)\n"
   ]
  },
  {
   "cell_type": "code",
   "execution_count": 6,
   "metadata": {},
   "outputs": [
    {
     "output_type": "stream",
     "name": "stdout",
     "text": [
      "os.stat_result(st_mode=33277, st_ino=5777044, st_dev=66311, st_nlink=1, st_uid=1000, st_gid=1000, st_size=0, st_atime=1604818848, st_mtime=1604818995, st_ctime=1604818995)\ndone\n"
     ]
    }
   ],
   "source": [
    "path = Path('./lock.test')\n",
    "with FileLock(path):\n",
    "    print(path.stat())\n",
    "    print('done')"
   ]
  },
  {
   "cell_type": "code",
   "execution_count": 10,
   "metadata": {},
   "outputs": [
    {
     "output_type": "execute_result",
     "data": {
      "text/plain": [
       "'application/vnd.openxmlformats-officedocument.wordprocessingml.document'"
      ]
     },
     "metadata": {},
     "execution_count": 10
    }
   ],
   "source": [
    "mimetypes.guess_type('www.docx')[0]"
   ]
  },
  {
   "cell_type": "code",
   "execution_count": 56,
   "metadata": {},
   "outputs": [
    {
     "output_type": "execute_result",
     "data": {
      "text/plain": [
       "[PosixPath('/tmp/scrum/library/sub'), PosixPath('/tmp/scrum/library/.archive')]"
      ]
     },
     "metadata": {},
     "execution_count": 56
    }
   ],
   "source": [
    "[ f for f in Path('/tmp/scrum/library').iterdir()]"
   ]
  },
  {
   "cell_type": "code",
   "execution_count": null,
   "metadata": {},
   "outputs": [],
   "source": []
  }
 ],
 "metadata": {
  "kernelspec": {
   "display_name": "Python 3.8.3 64-bit ('as': conda)",
   "language": "python",
   "name": "python38364bitascondabd1ae2f1a650462cb20307baf6a4f9f4"
  },
  "language_info": {
   "codemirror_mode": {
    "name": "ipython",
    "version": 3
   },
   "file_extension": ".py",
   "mimetype": "text/x-python",
   "name": "python",
   "nbconvert_exporter": "python",
   "pygments_lexer": "ipython3",
   "version": "3.8.3-final"
  },
  "varInspector": {
   "cols": {
    "lenName": 16,
    "lenType": 16,
    "lenVar": 40
   },
   "kernels_config": {
    "python": {
     "delete_cmd_postfix": "",
     "delete_cmd_prefix": "del ",
     "library": "var_list.py",
     "varRefreshCmd": "print(var_dic_list())"
    },
    "r": {
     "delete_cmd_postfix": ") ",
     "delete_cmd_prefix": "rm(",
     "library": "var_list.r",
     "varRefreshCmd": "cat(var_dic_list()) "
    }
   },
   "types_to_exclude": [
    "module",
    "function",
    "builtin_function_or_method",
    "instance",
    "_Feature"
   ],
   "window_display": false
  }
 },
 "nbformat": 4,
 "nbformat_minor": 4
}