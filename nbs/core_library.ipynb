{
 "cells": [
  {
   "cell_type": "code",
   "execution_count": 17,
   "metadata": {
    "ExecuteTime": {
     "end_time": "2020-10-15T16:45:19.009185Z",
     "start_time": "2020-10-15T16:45:18.993770Z"
    }
   },
   "outputs": [],
   "source": [
    "# default_exp core.library\n",
    "# export\n",
    "from ascrum.core.config import config\n",
    "from pathlib import Path\n",
    "import yaml\n",
    "import os\n",
    "import time\n",
    "import getpass\n",
    "import shutil\n",
    "import time\n",
    "import mimetypes"
   ]
  },
  {
   "cell_type": "code",
   "execution_count": 82,
   "metadata": {
    "ExecuteTime": {
     "end_time": "2020-10-15T11:47:35.373518Z",
     "start_time": "2020-10-15T11:47:35.364803Z"
    }
   },
   "outputs": [],
   "source": [
    "# export\n",
    "class Library:\n",
    "    def __init__(self, path: Path):\n",
    "        self.base = path\n",
    "        self.archive = config.archive_path if config.archive_path else self.base/'.archive'\n",
    "        self.archive.mkdir(parents=True, exist_ok=True)\n",
    "\n",
    "    def set_document(self, target: str, source_file=None, source_path=None, create_file=False,\n",
    "                        mimetype=None, mode='wb', user=None):\n",
    "        'Move a file into the library'\n",
    "\n",
    "        mimetype = mimetype if mimetype else mimetypes.guess_type(target)\n",
    "        dest = self.get_path(target)\n",
    "        dest.parent.mkdir(parents=True, exist_ok=True)\n",
    "        self._version(target)\n",
    "\n",
    "        if source_path:\n",
    "            shutil.move(source_path, dest)\n",
    "        elif source_file:\n",
    "            with dest.open(mode) as w:\n",
    "                shutil.copyfileobj(source_file, w)\n",
    "        elif empty_file:\n",
    "            return dest.open(mode)\n",
    "\n",
    "    def get_document(self, path, mode='rb'):\n",
    "        return self.get_path(path).open(mode)\n",
    "\n",
    "    def mkdir(self, dir=''):\n",
    "        (self.path/dir).mkdirs(parents=True, exist_ok=True)\n",
    "\n",
    "    def get_path(self, path):\n",
    "        return (self.base/path).resolve()\n",
    "\n",
    "    def _version(self, path):\n",
    "        if config.versioning:\n",
    "            p = self.get_path(path)\n",
    "            if p.exists():\n",
    "                ts = time.time()\n",
    "                target = self.archive/f'{path}.{ts}'\n",
    "                shutil.move(p.as_posix(), target.as_posix())    \n",
    "\n",
    "    def _get_meta(self,path):\n",
    "        metafile = self.base/path/'.meta'\n",
    "        if metafile.exists():\n",
    "            with p.open() as f:\n",
    "                return yaml.load(f, Loader=yaml.FullLoader)\n",
    "        else:\n",
    "            return {}\n",
    "    \n",
    "    def _set_meta(self, path):\n",
    "        metafile = self.base/path/'.meta'\n",
    "        with p.open() as f:\n",
    "            return yaml.load(f, Loader=yaml.FullLoader)\n",
    "\n",
    "    def list(self, path='.', pattern='*'):\n",
    "        def list_item(f, meta):\n",
    "            m = meta.get(f.name, {})\n",
    "            return {\n",
    "                'name': f.name, \n",
    "                'dir': f.is_dir(), \n",
    "                'mime': m.get('mime', None),\n",
    "                'creator': m.get('creator', None),\n",
    "            }\n",
    "        meta = self._get_meta(path)\n",
    "        p = self.base/path\n",
    "        return [list_item(f, meta) for f in sorted(p.glob(pattern), \n",
    "            key=os.path.getmtime, reverse=True) if not f.name.startswith('.')]\n"
   ]
  },
  {
   "cell_type": "code",
   "execution_count": 83,
   "metadata": {},
   "outputs": [],
   "source": [
    "l = Library(Path('/tmp/scrum/library'))\n"
   ]
  },
  {
   "cell_type": "code",
   "execution_count": 84,
   "metadata": {},
   "outputs": [],
   "source": [
    "import io\n",
    "f = io.BytesIO(b\"some initial binary data: \\x00\\x01\")\n",
    "l.set_document('sub/test.txt', source_file=f)\n"
   ]
  },
  {
   "cell_type": "code",
   "execution_count": 85,
   "metadata": {},
   "outputs": [
    {
     "output_type": "execute_result",
     "data": {
      "text/plain": [
       "[{'name': 'sub', 'dir': True, 'mime': None, 'creator': None}]"
      ]
     },
     "metadata": {},
     "execution_count": 85
    }
   ],
   "source": [
    "l.list()"
   ]
  },
  {
   "cell_type": "code",
   "execution_count": 56,
   "metadata": {},
   "outputs": [
    {
     "output_type": "execute_result",
     "data": {
      "text/plain": [
       "[PosixPath('/tmp/scrum/library/sub'), PosixPath('/tmp/scrum/library/.archive')]"
      ]
     },
     "metadata": {},
     "execution_count": 56
    }
   ],
   "source": [
    "[ f for f in Path('/tmp/scrum/library').iterdir()]"
   ]
  },
  {
   "cell_type": "code",
   "execution_count": null,
   "metadata": {},
   "outputs": [],
   "source": []
  }
 ],
 "metadata": {
  "kernelspec": {
   "display_name": "Python 3.8.3 64-bit ('as': conda)",
   "language": "python",
   "name": "python38364bitascondabd1ae2f1a650462cb20307baf6a4f9f4"
  },
  "language_info": {
   "codemirror_mode": {
    "name": "ipython",
    "version": 3
   },
   "file_extension": ".py",
   "mimetype": "text/x-python",
   "name": "python",
   "nbconvert_exporter": "python",
   "pygments_lexer": "ipython3",
   "version": "3.8.3-final"
  },
  "varInspector": {
   "cols": {
    "lenName": 16,
    "lenType": 16,
    "lenVar": 40
   },
   "kernels_config": {
    "python": {
     "delete_cmd_postfix": "",
     "delete_cmd_prefix": "del ",
     "library": "var_list.py",
     "varRefreshCmd": "print(var_dic_list())"
    },
    "r": {
     "delete_cmd_postfix": ") ",
     "delete_cmd_prefix": "rm(",
     "library": "var_list.r",
     "varRefreshCmd": "cat(var_dic_list()) "
    }
   },
   "types_to_exclude": [
    "module",
    "function",
    "builtin_function_or_method",
    "instance",
    "_Feature"
   ],
   "window_display": false
  }
 },
 "nbformat": 4,
 "nbformat_minor": 4
}