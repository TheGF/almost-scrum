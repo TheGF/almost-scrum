{
 "cells": [
  {
   "cell_type": "code",
   "execution_count": null,
   "metadata": {},
   "outputs": [],
   "source": [
    "#default_exp api.scrum\n",
    "#export\n",
    "from ascrum.core.config import config\n",
    "from ascrum.core.store import Store\n",
    "from ascrum.core.project import Project\n",
    "from ascrum.api.auth import token_required\n",
    "from ascrum.server import app,api, start_server\n",
    "from pathlib import Path\n",
    "from contextlib import contextmanager\n",
    "from http import HTTPStatus\n",
    "from flask_restplus import Resource, Api, fields, reqparse\n",
    "\n",
    "ascrum_ns = api.namespace('ascrum', description='Almost Scrum API')\n"
   ]
  },
  {
   "cell_type": "code",
   "execution_count": null,
   "metadata": {
    "ExecuteTime": {
     "end_time": "2020-10-18T13:55:25.169876Z",
     "start_time": "2020-10-18T13:55:25.164141Z"
    }
   },
   "outputs": [],
   "source": [
    "#export\n",
    "@api.errorhandler(ValueError)\n",
    "def handle_value_error(error):\n",
    "    '''Return a custom message and 400 status code'''\n",
    "    return {'message': error.args[0]}, HTTPStatus.BAD_REQUEST\n",
    "\n",
    "@api.errorhandler(PermissionError)\n",
    "def handle_value_error(error):\n",
    "    '''Return a custom message and 400 status code'''\n",
    "    return {'message': error.args[0]}, HTTPStatus.FORBIDDEN\n",
    "\n",
    "\n",
    "def _get_project(name, user):\n",
    "    if name in config.projects:\n",
    "        p = Project(Path(config.projects[name]))\n",
    "        authorized_users = p.list_users()\n",
    "        if user not in authorized_users:\n",
    "            raise PermissionError(\n",
    "                f'You have not rights to access the project {name}. '+\n",
    "                f'Ask one of the existing users to grant you access, e.g. {\"\".join(authorized_users)}',\n",
    "                authorized_users)\n",
    "        return p\n",
    "    else:\n",
    "        return None\n"
   ]
  },
  {
   "cell_type": "code",
   "execution_count": null,
   "metadata": {
    "ExecuteTime": {
     "end_time": "2020-10-18T13:55:25.871366Z",
     "start_time": "2020-10-18T13:55:25.861310Z"
    }
   },
   "outputs": [],
   "source": [
    "#export\n",
    "\n",
    "project_model = api.model('Project', {\n",
    "    'name': fields.String(required=True),\n",
    "    'description': fields.String\n",
    "})\n",
    "\n",
    "@api.route('/projects')\n",
    "class ProjectList(Resource):\n",
    "    @ascrum_ns.doc('get list of projects')\n",
    "    @token_required\n",
    "    def get(self, user):\n",
    "        return config.projects.keys()\n"
   ]
  },
  {
   "cell_type": "code",
   "execution_count": null,
   "metadata": {
    "ExecuteTime": {
     "end_time": "2020-10-18T13:55:28.646923Z",
     "start_time": "2020-10-18T13:55:28.639330Z"
    }
   },
   "outputs": [],
   "source": [
    "#export\n",
    "\n",
    "@api.route('/projects/<string:project_name>', endpoint='project')\n",
    "@api.doc(params={\n",
    "    'project_name': 'Id of a project',\n",
    "    'log': 'The log where the stories are placed, sandbox, backlog, sprint-1, sprint-2...'\n",
    "})\n",
    "class ProjectApi(Resource):\n",
    "    @ascrum_ns.doc('get project info')\n",
    "    @token_required\n",
    "    def get(self, project_name, user):\n",
    "        p = _get_project(project_name, user)\n",
    "        return {\n",
    "            'name': p.name,\n",
    "            'stores': p.list_stores(),\n",
    "            'users': p.list_users()\n",
    "        }"
   ]
  },
  {
   "cell_type": "code",
   "execution_count": null,
   "metadata": {
    "ExecuteTime": {
     "end_time": "2020-10-18T14:27:18.732202Z",
     "start_time": "2020-10-18T14:27:18.715533Z"
    }
   },
   "outputs": [],
   "source": [
    "#export\n",
    "\n",
    "story_model = api.model('Project', {\n",
    "    'name': fields.String(required=True),\n",
    "    'description': fields.String,\n",
    "    'points': fields.Integer,\n",
    "    'state': fields.String,\n",
    "    'tasks': fields.List(fields.String)\n",
    "})\n",
    "\n",
    "def _is_valid_store(store):\n",
    "    return store in ['sandbox', 'backlog'] or log.startswith('sprint-')\n",
    "    \n",
    "def _invalid_store(store):\n",
    "    return f'Invalid store {store}. Valid stores are backlog, sandbox and sprint-[n]', 400\n",
    "    \n",
    "@api.route('/projects/<string:project_name>/<string:store_name>', endpoint='stories')\n",
    "@api.doc(params={\n",
    "    'project_name': 'Id of a project',\n",
    "    'store': 'The store where the stories are placed, sandbox, backlog, sprint-1, sprint-2...'\n",
    "})\n",
    "class StoryList(Resource):\n",
    "    @ascrum_ns.doc('get stories')\n",
    "    @token_required\n",
    "    def get(self, project_name: str, store_name: str, user):\n",
    "        p = _get_project(project_name, user)\n",
    "        if not _is_valid_store(store_name): return _invalid_store(store_name)\n",
    "        return p.get_store(store_name).keys()\n",
    "\n",
    "    @ascrum_ns.doc('create or move a story')\n",
    "    @token_required\n",
    "    def post(self, project_name: str, store_name: str, user):\n",
    "        p = _get_project(project_name, user)\n",
    "        s = p.get_store(store_name)\n",
    "        if s is None:\n",
    "            return f'store {store_name} does not exist', 401\n",
    "                \n",
    "        title, move_from = self._post_args()\n",
    "        if move_from:\n",
    "            self._move_story(s, move_from)\n",
    "        else:\n",
    "            self._create_story(p, s, title)\n",
    "\n",
    "    def _post_args(self):\n",
    "        parser = reqparse.RequestParser()\n",
    "        parser.add_argument('title', type=str, help='Minimal title for the story')\n",
    "        parser.add_argument('from', type=str, help='Original story location')\n",
    "        args = parser.parse_args()\n",
    "        return args['title'], args['from']\n",
    "    \n",
    "    def _create_story(self, p, s, title):\n",
    "        id = p.new_story_id()\n",
    "        name = f'{id}#{title}'\n",
    "        s[name] = api.payload\n",
    "        return name, 201\n",
    "    \n",
    "    def _move_story(self, s, move_from):\n",
    "        frm,name = move_from.split('/')\n",
    "        s_from = p.get_store(frm)\n",
    "        if not s_from:\n",
    "            return f'store {frm} does not exist', 401\n",
    "        if s_from.path == s.path:\n",
    "            return f'source {frm} and target {s.name} must be different', 401\n",
    "        s[name] = s_from[name]\n",
    "        del s_from[name]\n",
    "        \n",
    "    def _get_move_from(self):\n",
    "        parser = reqparse.RequestParser()\n",
    "        parser.add_argument('move_from', type=str, help='Original story location')\n",
    "        args = parser.parse_args()\n",
    "        return args['move_from']\n",
    "\n",
    "        "
   ]
  },
  {
   "cell_type": "code",
   "execution_count": null,
   "metadata": {},
   "outputs": [],
   "source": [
    "\n",
    "@api.route('/projects/<string:project_name>/<string:store>/<string:story_name>', endpoint='story')\n",
    "@api.doc(params={\n",
    "    'project_name': 'Id of a project',\n",
    "    'log': 'The log where the stories are placed, sandbox, backlog, sprint-1, sprint-2...',\n",
    "    'story_name': 'Story id'\n",
    "})\n",
    "class Story(Resource):\n",
    "    @ascrum_ns.doc('get a story')\n",
    "    @token_required\n",
    "    def get(self, project_name: str, store: str, story_name: str, user):\n",
    "        return scrum.get_story(project_name, store, story_name)\n",
    "\n",
    "    @ascrum_ns.doc('update or touch a story')\n",
    "    @token_required\n",
    "    def post(self, project_name: str, store: str, story_name: str, user):\n",
    "        p = _get_project(project_name, user)\n",
    "        s = p.get_store(store_name)\n",
    "        st = s.get(story_name)\n",
    "        if s is None:\n",
    "            return f'store {store_name} does not exist', 401    \n",
    "        \n",
    "        if api.payload:\n",
    "            s[st] = api.payload\n",
    "            return 'Updated', 200\n",
    "\n",
    "        parser = reqparse.RequestParser()\n",
    "        parser.add_argument('touch', type=str, help='Touch the story')\n",
    "        print(args['touch'])\n",
    "        if args['touch']:\n",
    "            st.touch(store_name)\n",
    "            return 'Touched', 200\n",
    "\n",
    "        return 'OK', 200\n"
   ]
  },
  {
   "cell_type": "code",
   "execution_count": null,
   "metadata": {
    "ExecuteTime": {
     "start_time": "2020-10-18T14:27:23.064Z"
    },
    "tags": []
   },
   "outputs": [],
   "source": [
    "#hide\n",
    "app.logger.setLevel('INFO')\n",
    "start_server()"
   ]
  },
  {
   "cell_type": "code",
   "execution_count": null,
   "metadata": {},
   "outputs": [],
   "source": []
  }
 ],
 "metadata": {
  "kernelspec": {
   "display_name": "Python 3.8.3 64-bit ('as': conda)",
   "language": "python",
   "name": "python38364bitascondabd1ae2f1a650462cb20307baf6a4f9f4"
  },
  "language_info": {
   "codemirror_mode": {
    "name": "ipython",
    "version": 3
   },
   "file_extension": ".py",
   "mimetype": "text/x-python",
   "name": "python",
   "nbconvert_exporter": "python",
   "pygments_lexer": "ipython3",
   "version": "3.8.3-final"
  },
  "varInspector": {
   "cols": {
    "lenName": 16,
    "lenType": 16,
    "lenVar": 40
   },
   "kernels_config": {
    "python": {
     "delete_cmd_postfix": "",
     "delete_cmd_prefix": "del ",
     "library": "var_list.py",
     "varRefreshCmd": "print(var_dic_list())"
    },
    "r": {
     "delete_cmd_postfix": ") ",
     "delete_cmd_prefix": "rm(",
     "library": "var_list.r",
     "varRefreshCmd": "cat(var_dic_list()) "
    }
   },
   "types_to_exclude": [
    "module",
    "function",
    "builtin_function_or_method",
    "instance",
    "_Feature"
   ],
   "window_display": false
  }
 },
 "nbformat": 4,
 "nbformat_minor": 4
}