{
 "cells": [
  {
   "cell_type": "code",
   "execution_count": 96,
   "metadata": {
    "ExecuteTime": {
     "end_time": "2020-10-07T20:05:15.407152Z",
     "start_time": "2020-10-07T20:05:15.347799Z"
    }
   },
   "outputs": [
    {
     "name": "stdout",
     "output_type": "stream",
     "text": [
      "Converted config.ipynb.\n",
      "Converted index.ipynb.\n",
      "Converted rest.ipynb.\n",
      "Converted services.ipynb.\n",
      "Converted term.ipynb.\n"
     ]
    }
   ],
   "source": [
    "from nbdev.export import *\n",
    "notebook2script()"
   ]
  },
  {
   "cell_type": "code",
   "execution_count": 11,
   "metadata": {
    "ExecuteTime": {
     "end_time": "2020-10-07T04:40:50.678384Z",
     "start_time": "2020-10-07T04:40:50.674766Z"
    }
   },
   "outputs": [],
   "source": [
    "# default_exp services\n",
    "# export\n",
    "from pathlib import Path\n",
    "from config import Config\n",
    "import yaml\n",
    "import os\n",
    "import time"
   ]
  },
  {
   "cell_type": "code",
   "execution_count": 80,
   "metadata": {
    "ExecuteTime": {
     "end_time": "2020-10-07T19:47:48.957451Z",
     "start_time": "2020-10-07T19:47:48.951038Z"
    }
   },
   "outputs": [],
   "source": [
    "# export\n",
    "\n",
    "quick_scrum_folder = 'quick-scrum'\n",
    "\n",
    "def validate_project(path):\n",
    "    required = ['project.yaml', 'sandbox.store', 'backlog.store', 'users','docs']\n",
    "    return all([(f/quick_scrum_folder/name).exists() for name in required])\n",
    "\n",
    "def scan_for_projects(path):\n",
    "    project_folders = [f.parent.absolute() for f in path.glob('**/{quick_scrum_folder}')]\n",
    "    return [f for f in project_folders if validate_project(f)]\n",
    "        \n",
    "def find_project(path):\n",
    "    qs_path = path/'quick-scrum'\n",
    "    if qs_path.exists():\n",
    "        return qs_path\n",
    "    elif path.parent == path:\n",
    "        return None\n",
    "    else:\n",
    "        return find_project(path.parent)"
   ]
  },
  {
   "cell_type": "code",
   "execution_count": 95,
   "metadata": {
    "ExecuteTime": {
     "end_time": "2020-10-07T20:05:09.360832Z",
     "start_time": "2020-10-07T20:05:09.347746Z"
    },
    "code_folding": []
   },
   "outputs": [],
   "source": [
    "# export\n",
    "\n",
    "class Project:\n",
    "    config = Config()\n",
    "    project_folder = 'qs-proj'\n",
    "    \n",
    "    def __init__(self, path: Path):\n",
    "        self.path = path\n",
    "        if self.exists():\n",
    "            self.config.projects[self.path.name] = self.path            \n",
    "        \n",
    "    @staticmethod\n",
    "    def find(path):\n",
    "        print('hello')\n",
    "        if (path/Project.project_folder).exists():\n",
    "            return Project(path)\n",
    "        elif path.name == '':\n",
    "            return None\n",
    "        else:\n",
    "            return None # Project.find(path.parent)\n",
    "        \n",
    "    def exists(self):\n",
    "        return (self.path/self.project_folder).exists()\n",
    "\n",
    "    def init(self, project):\n",
    "        existing_projects = scan_for_projects(self.path)\n",
    "        if len(existing_projects):\n",
    "            paths = ','.join([str(p) for p in existing_projects])\n",
    "            raise FileExistsError(f'A quick-scrum project already exists in {paths}')\n",
    "\n",
    "        required = ['sandbox.store', 'backlog.store', 'docs','users']\n",
    "        [(self.path/self.project_folder/n).mkdir(parents=True) for n in required]\n",
    "        with (self.path/self.project_folder/'project.yaml').open('w') as f:\n",
    "            c = {**project, 'creation_timestamp': time.time()}\n",
    "            yaml.dump(c, f)\n",
    "        self.config.projects[self.path.name] = self.path      \n",
    "        \n",
    "    def list_stores(self):\n",
    "        pf = self.path/self.project_folder\n",
    "        return [f.stem for f in pf.iterdir() if f.is_dir() and f.suffix == '.store']\n",
    "        \n",
    "    def get_store(self, store_name):\n",
    "        sf = self.path/self.project_folder/f'{store_name}.store'\n",
    "        return Store(sf) if sf.exists() else None\n",
    "    \n",
    "    def new_store(self, store_name):\n",
    "        sf = self.path/self.project_folder/f'{store_name}.store'\n",
    "        if sf.exists():\n",
    "            raise AttributeError(f'Store {store_name} already exists')\n",
    "        else:\n",
    "            sf.mkdir()\n",
    "            return Store(sf)\n",
    "        \n",
    "    def list_sprints(self):\n",
    "        \"Get all the sprints in the project prj\"\n",
    "        return [n for n in self.list_stores() if n.startswith('sprint-')]\n",
    "    \n",
    "    def new_sprint(self):\n",
    "        \"Create a new sprint\"\n",
    "        ss = sorted(self.list_sprints())\n",
    "        if ss:\n",
    "            last = ss[-1]\n",
    "            (_,n) = last.split('-')\n",
    "            s = f'sprint-{int(n)+1}'\n",
    "        else:\n",
    "            s = f'sprint-1'\n",
    "        return self.new_store(s)\n"
   ]
  },
  {
   "cell_type": "code",
   "execution_count": 84,
   "metadata": {
    "ExecuteTime": {
     "end_time": "2020-10-07T19:50:11.969958Z",
     "start_time": "2020-10-07T19:50:11.966879Z"
    }
   },
   "outputs": [],
   "source": [
    "p = Project(Path('../data/test5'))\n",
    "s = p.new_sprint()"
   ]
  },
  {
   "cell_type": "code",
   "execution_count": 70,
   "metadata": {
    "ExecuteTime": {
     "end_time": "2020-10-07T07:02:53.604815Z",
     "start_time": "2020-10-07T07:02:53.599351Z"
    }
   },
   "outputs": [],
   "source": [
    "s['1 - User Creation'] = {'test':3}"
   ]
  },
  {
   "cell_type": "code",
   "execution_count": 71,
   "metadata": {
    "ExecuteTime": {
     "end_time": "2020-10-07T07:03:32.081192Z",
     "start_time": "2020-10-07T07:03:32.076249Z"
    }
   },
   "outputs": [
    {
     "data": {
      "text/plain": [
       "['~1 - User Creation']"
      ]
     },
     "execution_count": 71,
     "metadata": {},
     "output_type": "execute_result"
    }
   ],
   "source": [
    "s.keys()"
   ]
  },
  {
   "cell_type": "code",
   "execution_count": 78,
   "metadata": {
    "ExecuteTime": {
     "end_time": "2020-10-07T17:29:26.547623Z",
     "start_time": "2020-10-07T17:29:26.540665Z"
    }
   },
   "outputs": [],
   "source": [
    "# export\n",
    "class Store:\n",
    "    def __init__(self, path):\n",
    "        self.path = path\n",
    "    \n",
    "    \n",
    "    def __getitem__(self, story_id):\n",
    "        \"Get the content of a story\"\n",
    "        p = self.path/f'{story_id}.yaml'\n",
    "        if not p.exists():\n",
    "            return None\n",
    "        with p.open() as f:\n",
    "            c = yaml.load(f, Loader=yaml.FullLoader)\n",
    "            return {'name': story_name, **c}\n",
    "    \n",
    "    def __setitem__(self, story_id, story):\n",
    "        p = self.path/f'{story_id}.yaml'\n",
    "        with p.open('w') as f:\n",
    "            yaml.dump(story, f)\n",
    "        return p.stem\n",
    "\n",
    "    def __delitem__(self, story_id):\n",
    "        p = self.path/f'{story_name}.yaml'\n",
    "        if p.exists():\n",
    "            p.unlink()\n",
    "        else:\n",
    "            raise KeyError(story_id)\n",
    "    \n",
    "    def keys(self):\n",
    "        return [f.stem for f in self.path.iterdir() if f.suffix == '.yaml']\n",
    "    \n",
    "    "
   ]
  },
  {
   "cell_type": "code",
   "execution_count": 15,
   "metadata": {
    "ExecuteTime": {
     "end_time": "2020-09-24T17:57:31.634243Z",
     "start_time": "2020-09-24T17:57:31.598653Z"
    }
   },
   "outputs": [],
   "source": [
    "# export\n",
    "class Scrum:\n",
    "    def __init__(self, home_folder):\n",
    "        self.home = Path(home_folder)\n",
    "    \n",
    "    def get_projects(self):\n",
    "        \"Get all the projects available in the home folder\"\n",
    "        return [p.name for p in (self.home/'projects').iterdir() if p.is_dir()]\n",
    "    \n",
    "    def get_project(self, project_name):\n",
    "        \"Get the project info\"\n",
    "        p = self.home/'projects'/project_name/'project.yaml'\n",
    "        if p.exists():\n",
    "            with p.open() as f:\n",
    "                return yaml.load(f, Loader=yaml.FullLoader)\n",
    "        else:\n",
    "            return None\n",
    "    \n",
    "    def new_project(self, project):\n",
    "        n = project['name']\n",
    "        p = self.home/'projects'/n\n",
    "        if p.exists():\n",
    "            raise ValueError(f'Project {n} already exist')\n",
    "        \n",
    "        [f.mkdir(parents=True) for f in [p, p/'backlog', p/'sandbox']]\n",
    "        with (p/'project.yaml').open('w') as f:\n",
    "            c = {**project, 'created': time.time()}\n",
    "            yaml.dump(c, f)\n",
    "        \n",
    "    def get_sprints(self, project_name):\n",
    "        \"Get all the sprints in the project prj\"\n",
    "        return [p.name for p in (self.home/'projects'/project_name)\n",
    "                .glob('sprint-*') if p.is_dir()]\n",
    "        \n",
    "    def new_sprint(self, project_name):\n",
    "        \"Create a new sprint\"\n",
    "        ss = sorted(self.get_sprints(project_name))\n",
    "        if ss:\n",
    "            last = ss[-1]\n",
    "            (_,n) = last.split('-')\n",
    "            s = f'sprint-{int(n)+1}'\n",
    "        else:\n",
    "            s = f'sprint-1'\n",
    "        (self.home/'projects'/project_name/s).mkdir()\n",
    "        return s\n",
    "        \n",
    "    def get_stories(self, project_name, store):\n",
    "        \"Get all the stories name for a store, i.e. backlog, sprint...\"\n",
    "        pp = self.home/'projects'/project_name/store\n",
    "        pp = sorted(pp.glob('*.yaml'), key=os.path.getmtime)\n",
    "        return [p.stem for p in pp]\n",
    "\n",
    "    def get_story(self, project_name, store, story_name):\n",
    "        \"Get the content of a story\"\n",
    "        p = self.home/'projects'/project_name/store/f'{story_name}.yaml'\n",
    "        if not p.exists():\n",
    "            return None\n",
    "        with p.open() as f:\n",
    "            c = yaml.load(f, Loader=yaml.FullLoader)\n",
    "            return {'name': story_name, **c}\n",
    "\n",
    "    def del_story(self, project_name, store, story_name):\n",
    "        p = self.home/'projects'/project_name/store/f'{story_name}.yaml'\n",
    "        if p.exists():\n",
    "            p.unlink()\n",
    "            return True\n",
    "        else:\n",
    "            return False\n",
    "        \n",
    "    def set_story(self, project_name, store, story):\n",
    "        name = story['name']\n",
    "        p = self.home/'projects'/project_name/store/f'~{name}.yaml'\n",
    "        with p.open('w') as f:\n",
    "            yaml.dump(story, f)\n",
    "        p = p.replace(self.home/'projects'/project_name/store/f'{name}.yaml')\n",
    "        return p.stem\n",
    "        \n",
    "    def touch_story(self, project_name, store, story):\n",
    "        name = story['name']\n",
    "        p = self.home/'projects'/project_name/store/f'~{name}.yaml'\n",
    "        p.touch()\n",
    "        \n",
    "    def move_story(self, project_name, source, target, story_name):\n",
    "        \"Move a story to a different container\"\n",
    "        p = self.home/'projects'/project_name/source/f'{story_name}.yaml'\n",
    "        if p.exist():\n",
    "            p.replace(self.home/'projects'/project_name/target/f'{name}.yaml')\n",
    "            return True\n",
    "        else:\n",
    "            return False"
   ]
  },
  {
   "cell_type": "code",
   "execution_count": 9,
   "metadata": {
    "ExecuteTime": {
     "end_time": "2020-09-24T06:25:56.474003Z",
     "start_time": "2020-09-24T06:25:56.468044Z"
    }
   },
   "outputs": [],
   "source": [
    "s = Scrum('../data')"
   ]
  },
  {
   "cell_type": "code",
   "execution_count": 10,
   "metadata": {
    "ExecuteTime": {
     "end_time": "2020-09-24T06:25:57.455240Z",
     "start_time": "2020-09-24T06:25:57.436379Z"
    }
   },
   "outputs": [
    {
     "data": {
      "text/plain": [
       "['new Proj 34h', 'new Proj', 'new Proj 34', 'new Proj 3', 'test-prj']"
      ]
     },
     "execution_count": 10,
     "metadata": {},
     "output_type": "execute_result"
    }
   ],
   "source": [
    "s.get_projects()"
   ]
  },
  {
   "cell_type": "code",
   "execution_count": 12,
   "metadata": {
    "ExecuteTime": {
     "end_time": "2020-09-24T06:26:19.277819Z",
     "start_time": "2020-09-24T06:26:19.267304Z"
    }
   },
   "outputs": [
    {
     "ename": "ValueError",
     "evalue": "Project test-prj already exist",
     "output_type": "error",
     "traceback": [
      "\u001b[0;31m---------------------------------------------------------------------------\u001b[0m",
      "\u001b[0;31mValueError\u001b[0m                                Traceback (most recent call last)",
      "\u001b[0;32m<ipython-input-12-d34257c1164b>\u001b[0m in \u001b[0;36m<module>\u001b[0;34m\u001b[0m\n\u001b[0;32m----> 1\u001b[0;31m \u001b[0ms\u001b[0m\u001b[0;34m.\u001b[0m\u001b[0mnew_project\u001b[0m\u001b[0;34m(\u001b[0m\u001b[0;34m{\u001b[0m\u001b[0;34m'name'\u001b[0m\u001b[0;34m:\u001b[0m\u001b[0;34m'test-prj'\u001b[0m\u001b[0;34m}\u001b[0m\u001b[0;34m)\u001b[0m\u001b[0;34m\u001b[0m\u001b[0;34m\u001b[0m\u001b[0m\n\u001b[0m",
      "\u001b[0;32m<ipython-input-8-a616beb18959>\u001b[0m in \u001b[0;36mnew_project\u001b[0;34m(self, project)\u001b[0m\n\u001b[1;32m     17\u001b[0m         \u001b[0mp\u001b[0m \u001b[0;34m=\u001b[0m \u001b[0mself\u001b[0m\u001b[0;34m.\u001b[0m\u001b[0mhome\u001b[0m\u001b[0;34m/\u001b[0m\u001b[0;34m'projects'\u001b[0m\u001b[0;34m/\u001b[0m\u001b[0mn\u001b[0m\u001b[0;34m\u001b[0m\u001b[0;34m\u001b[0m\u001b[0m\n\u001b[1;32m     18\u001b[0m         \u001b[0;32mif\u001b[0m \u001b[0mp\u001b[0m\u001b[0;34m.\u001b[0m\u001b[0mexists\u001b[0m\u001b[0;34m(\u001b[0m\u001b[0;34m)\u001b[0m\u001b[0;34m:\u001b[0m\u001b[0;34m\u001b[0m\u001b[0;34m\u001b[0m\u001b[0m\n\u001b[0;32m---> 19\u001b[0;31m             \u001b[0;32mraise\u001b[0m \u001b[0mValueError\u001b[0m\u001b[0;34m(\u001b[0m\u001b[0;34mf'Project {n} already exist'\u001b[0m\u001b[0;34m)\u001b[0m\u001b[0;34m\u001b[0m\u001b[0;34m\u001b[0m\u001b[0m\n\u001b[0m\u001b[1;32m     20\u001b[0m \u001b[0;34m\u001b[0m\u001b[0m\n\u001b[1;32m     21\u001b[0m         \u001b[0;34m[\u001b[0m\u001b[0mf\u001b[0m\u001b[0;34m.\u001b[0m\u001b[0mmkdir\u001b[0m\u001b[0;34m(\u001b[0m\u001b[0mparents\u001b[0m\u001b[0;34m=\u001b[0m\u001b[0;32mTrue\u001b[0m\u001b[0;34m)\u001b[0m \u001b[0;32mfor\u001b[0m \u001b[0mf\u001b[0m \u001b[0;32min\u001b[0m \u001b[0;34m[\u001b[0m\u001b[0mp\u001b[0m\u001b[0;34m,\u001b[0m \u001b[0mp\u001b[0m\u001b[0;34m/\u001b[0m\u001b[0;34m'backlog'\u001b[0m\u001b[0;34m,\u001b[0m \u001b[0mp\u001b[0m\u001b[0;34m/\u001b[0m\u001b[0;34m'sandbox'\u001b[0m\u001b[0;34m]\u001b[0m\u001b[0;34m]\u001b[0m\u001b[0;34m\u001b[0m\u001b[0;34m\u001b[0m\u001b[0m\n",
      "\u001b[0;31mValueError\u001b[0m: Project test-prj already exist"
     ]
    }
   ],
   "source": [
    "s.new_project({'name':'test-prj'})"
   ]
  },
  {
   "cell_type": "code",
   "execution_count": 7,
   "metadata": {
    "ExecuteTime": {
     "end_time": "2020-09-23T05:57:28.839466Z",
     "start_time": "2020-09-23T05:57:28.835500Z"
    }
   },
   "outputs": [
    {
     "data": {
      "text/plain": [
       "'sprint-7'"
      ]
     },
     "execution_count": 7,
     "metadata": {},
     "output_type": "execute_result"
    }
   ],
   "source": [
    "s.new_sprint('test-prj')"
   ]
  },
  {
   "cell_type": "code",
   "execution_count": 8,
   "metadata": {
    "ExecuteTime": {
     "end_time": "2020-09-23T05:57:28.845428Z",
     "start_time": "2020-09-23T05:57:28.840232Z"
    }
   },
   "outputs": [
    {
     "data": {
      "text/plain": [
       "[]"
      ]
     },
     "execution_count": 8,
     "metadata": {},
     "output_type": "execute_result"
    }
   ],
   "source": [
    "s.get_stories('test-prj','sprint-2')"
   ]
  },
  {
   "cell_type": "code",
   "execution_count": 27,
   "metadata": {
    "ExecuteTime": {
     "end_time": "2020-09-23T06:48:15.697320Z",
     "start_time": "2020-09-23T06:48:15.691085Z"
    }
   },
   "outputs": [
    {
     "data": {
      "text/plain": [
       "[]"
      ]
     },
     "execution_count": 27,
     "metadata": {},
     "output_type": "execute_result"
    }
   ],
   "source": [
    "s.get_logs('te2st-prj')"
   ]
  },
  {
   "cell_type": "code",
   "execution_count": null,
   "metadata": {
    "ExecuteTime": {
     "end_time": "2020-09-23T05:57:28.904728Z",
     "start_time": "2020-09-23T05:57:28.676Z"
    }
   },
   "outputs": [],
   "source": [
    "st = s.get_story('test-prj','sandbox','define-the-interface')"
   ]
  },
  {
   "cell_type": "code",
   "execution_count": null,
   "metadata": {
    "ExecuteTime": {
     "end_time": "2020-09-23T05:57:28.905459Z",
     "start_time": "2020-09-23T05:57:28.679Z"
    }
   },
   "outputs": [],
   "source": [
    "s.set_story('test-prj','sandbox',{\n",
    "    'name': 'a new story',\n",
    "    'description': 'with some description'\n",
    "})"
   ]
  },
  {
   "cell_type": "code",
   "execution_count": null,
   "metadata": {
    "ExecuteTime": {
     "end_time": "2020-09-23T05:57:28.906130Z",
     "start_time": "2020-09-23T05:57:28.681Z"
    }
   },
   "outputs": [],
   "source": [
    "s = [2]"
   ]
  },
  {
   "cell_type": "code",
   "execution_count": null,
   "metadata": {
    "ExecuteTime": {
     "end_time": "2020-09-23T05:57:28.906653Z",
     "start_time": "2020-09-23T05:57:28.684Z"
    }
   },
   "outputs": [],
   "source": [
    "if s: print('dd')"
   ]
  },
  {
   "cell_type": "code",
   "execution_count": null,
   "metadata": {},
   "outputs": [],
   "source": []
  }
 ],
 "metadata": {
  "kernelspec": {
   "display_name": "Python 3.8.3 64-bit ('qs': conda)",
   "language": "python",
   "name": "python38364bitqsconda70419307ac5447bdbf6e3bb5e0d2222f"
  },
  "language_info": {
   "codemirror_mode": {
    "name": "ipython",
    "version": 3
   },
   "file_extension": ".py",
   "mimetype": "text/x-python",
   "name": "python",
   "nbconvert_exporter": "python",
   "pygments_lexer": "ipython3",
   "version": "3.8.3"
  },
  "varInspector": {
   "cols": {
    "lenName": 16,
    "lenType": 16,
    "lenVar": 40
   },
   "kernels_config": {
    "python": {
     "delete_cmd_postfix": "",
     "delete_cmd_prefix": "del ",
     "library": "var_list.py",
     "varRefreshCmd": "print(var_dic_list())"
    },
    "r": {
     "delete_cmd_postfix": ") ",
     "delete_cmd_prefix": "rm(",
     "library": "var_list.r",
     "varRefreshCmd": "cat(var_dic_list()) "
    }
   },
   "types_to_exclude": [
    "module",
    "function",
    "builtin_function_or_method",
    "instance",
    "_Feature"
   ],
   "window_display": false
  }
 },
 "nbformat": 4,
 "nbformat_minor": 4
}
