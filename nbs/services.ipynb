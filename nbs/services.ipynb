{
 "cells": [
  {
   "cell_type": "code",
   "execution_count": 1,
   "metadata": {
    "ExecuteTime": {
     "end_time": "2020-09-26T10:01:36.794105Z",
     "start_time": "2020-09-26T10:01:36.650848Z"
    }
   },
   "outputs": [
    {
     "name": "stdout",
     "output_type": "stream",
     "text": [
      "Converted index.ipynb.\n",
      "Converted rest.ipynb.\n",
      "Converted services.ipynb.\n"
     ]
    }
   ],
   "source": [
    "from nbdev.export import *\n",
    "notebook2script()"
   ]
  },
  {
   "cell_type": "code",
   "execution_count": 2,
   "metadata": {
    "ExecuteTime": {
     "end_time": "2020-09-26T10:01:37.161236Z",
     "start_time": "2020-09-26T10:01:37.158294Z"
    }
   },
   "outputs": [],
   "source": [
    "# default_exp services"
   ]
  },
  {
   "cell_type": "code",
   "execution_count": 3,
   "metadata": {
    "ExecuteTime": {
     "end_time": "2020-09-26T10:01:37.573744Z",
     "start_time": "2020-09-26T10:01:37.570993Z"
    }
   },
   "outputs": [],
   "source": [
    "# export\n",
    "from pathlib import Path\n",
    "import yaml\n",
    "import os\n",
    "import time"
   ]
  },
  {
   "cell_type": "code",
   "execution_count": 15,
   "metadata": {
    "ExecuteTime": {
     "end_time": "2020-09-24T17:57:31.634243Z",
     "start_time": "2020-09-24T17:57:31.598653Z"
    }
   },
   "outputs": [],
   "source": [
    "# export\n",
    "class Scrum:\n",
    "    def __init__(self, home_folder):\n",
    "        self.home = Path(home_folder)\n",
    "    \n",
    "    def get_projects(self):\n",
    "        \"Get all the projects available in the home folder\"\n",
    "        return [p.name for p in (self.home/'projects').iterdir() if p.is_dir()]\n",
    "    \n",
    "    def get_project(self, project_name):\n",
    "        \"Get the project info\"\n",
    "        p = self.home/'projects'/project_name/'project.yaml'\n",
    "        if p.exists():\n",
    "            with p.open() as f:\n",
    "                return yaml.load(f, Loader=yaml.FullLoader)\n",
    "        else:\n",
    "            return None\n",
    "    \n",
    "    def new_project(self, project):\n",
    "        n = project['name']\n",
    "        p = self.home/'projects'/n\n",
    "        if p.exists():\n",
    "            raise ValueError(f'Project {n} already exist')\n",
    "        \n",
    "        [f.mkdir(parents=True) for f in [p, p/'backlog', p/'sandbox']]\n",
    "        with (p/'project.yaml').open('w') as f:\n",
    "            c = {**project, 'created': time.time()}\n",
    "            yaml.dump(c, f)\n",
    "        \n",
    "    def get_sprints(self, project_name):\n",
    "        \"Get all the sprints in the project prj\"\n",
    "        return [p.name for p in (self.home/'projects'/project_name)\n",
    "                .glob('sprint-*') if p.is_dir()]\n",
    "        \n",
    "    def new_sprint(self, project_name):\n",
    "        \"Create a new sprint\"\n",
    "        ss = sorted(self.get_sprints(project_name))\n",
    "        if ss:\n",
    "            last = ss[-1]\n",
    "            (_,n) = last.split('-')\n",
    "            s = f'sprint-{int(n)+1}'\n",
    "        else:\n",
    "            s = f'sprint-1'\n",
    "        (self.home/'projects'/project_name/s).mkdir()\n",
    "        return s\n",
    "        \n",
    "    def get_stories(self, project_name, store):\n",
    "        \"Get all the stories name for a store, i.e. backlog, sprint...\"\n",
    "        pp = self.home/'projects'/project_name/store\n",
    "        pp = sorted(pp.glob('*.yaml'), key=os.path.getmtime)\n",
    "        return [p.stem for p in pp]\n",
    "\n",
    "    def get_story(self, project_name, store, story_name):\n",
    "        \"Get the content of a story\"\n",
    "        p = self.home/'projects'/project_name/store/f'{story_name}.yaml'\n",
    "        if not p.exists():\n",
    "            return None\n",
    "        with p.open() as f:\n",
    "            c = yaml.load(f, Loader=yaml.FullLoader)\n",
    "            return {'name': story_name, **c}\n",
    "\n",
    "    def del_story(self, project_name, store, story_name):\n",
    "        p = self.home/'projects'/project_name/store/f'{story_name}.yaml'\n",
    "        if p.exists():\n",
    "            p.unlink()\n",
    "            return True\n",
    "        else:\n",
    "            return False\n",
    "        \n",
    "    def set_story(self, project_name, store, story):\n",
    "        name = story['name']\n",
    "        p = self.home/'projects'/project_name/store/f'~{name}.yaml'\n",
    "        with p.open('w') as f:\n",
    "            yaml.dump(story, f)\n",
    "        p = p.replace(self.home/'projects'/project_name/store/f'{name}.yaml')\n",
    "        return p.stem\n",
    "        \n",
    "    def touch_story(self, project_name, store, story):\n",
    "        name = story['name']\n",
    "        p = self.home/'projects'/project_name/store/f'~{name}.yaml'\n",
    "        p.touch()\n",
    "        \n",
    "    def move_story(self, project_name, source, target, story_name):\n",
    "        \"Move a story to a different container\"\n",
    "        p = self.home/'projects'/project_name/source/f'{story_name}.yaml'\n",
    "        if p.exist():\n",
    "            p.replace(self.home/'projects'/project_name/target/f'{name}.yaml')\n",
    "            return True\n",
    "        else:\n",
    "            return False"
   ]
  },
  {
   "cell_type": "code",
   "execution_count": 9,
   "metadata": {
    "ExecuteTime": {
     "end_time": "2020-09-24T06:25:56.474003Z",
     "start_time": "2020-09-24T06:25:56.468044Z"
    }
   },
   "outputs": [],
   "source": [
    "s = Scrum('../data')"
   ]
  },
  {
   "cell_type": "code",
   "execution_count": 10,
   "metadata": {
    "ExecuteTime": {
     "end_time": "2020-09-24T06:25:57.455240Z",
     "start_time": "2020-09-24T06:25:57.436379Z"
    }
   },
   "outputs": [
    {
     "data": {
      "text/plain": [
       "['new Proj 34h', 'new Proj', 'new Proj 34', 'new Proj 3', 'test-prj']"
      ]
     },
     "execution_count": 10,
     "metadata": {},
     "output_type": "execute_result"
    }
   ],
   "source": [
    "s.get_projects()"
   ]
  },
  {
   "cell_type": "code",
   "execution_count": 12,
   "metadata": {
    "ExecuteTime": {
     "end_time": "2020-09-24T06:26:19.277819Z",
     "start_time": "2020-09-24T06:26:19.267304Z"
    }
   },
   "outputs": [
    {
     "ename": "ValueError",
     "evalue": "Project test-prj already exist",
     "output_type": "error",
     "traceback": [
      "\u001b[0;31m---------------------------------------------------------------------------\u001b[0m",
      "\u001b[0;31mValueError\u001b[0m                                Traceback (most recent call last)",
      "\u001b[0;32m<ipython-input-12-d34257c1164b>\u001b[0m in \u001b[0;36m<module>\u001b[0;34m\u001b[0m\n\u001b[0;32m----> 1\u001b[0;31m \u001b[0ms\u001b[0m\u001b[0;34m.\u001b[0m\u001b[0mnew_project\u001b[0m\u001b[0;34m(\u001b[0m\u001b[0;34m{\u001b[0m\u001b[0;34m'name'\u001b[0m\u001b[0;34m:\u001b[0m\u001b[0;34m'test-prj'\u001b[0m\u001b[0;34m}\u001b[0m\u001b[0;34m)\u001b[0m\u001b[0;34m\u001b[0m\u001b[0;34m\u001b[0m\u001b[0m\n\u001b[0m",
      "\u001b[0;32m<ipython-input-8-a616beb18959>\u001b[0m in \u001b[0;36mnew_project\u001b[0;34m(self, project)\u001b[0m\n\u001b[1;32m     17\u001b[0m         \u001b[0mp\u001b[0m \u001b[0;34m=\u001b[0m \u001b[0mself\u001b[0m\u001b[0;34m.\u001b[0m\u001b[0mhome\u001b[0m\u001b[0;34m/\u001b[0m\u001b[0;34m'projects'\u001b[0m\u001b[0;34m/\u001b[0m\u001b[0mn\u001b[0m\u001b[0;34m\u001b[0m\u001b[0;34m\u001b[0m\u001b[0m\n\u001b[1;32m     18\u001b[0m         \u001b[0;32mif\u001b[0m \u001b[0mp\u001b[0m\u001b[0;34m.\u001b[0m\u001b[0mexists\u001b[0m\u001b[0;34m(\u001b[0m\u001b[0;34m)\u001b[0m\u001b[0;34m:\u001b[0m\u001b[0;34m\u001b[0m\u001b[0;34m\u001b[0m\u001b[0m\n\u001b[0;32m---> 19\u001b[0;31m             \u001b[0;32mraise\u001b[0m \u001b[0mValueError\u001b[0m\u001b[0;34m(\u001b[0m\u001b[0;34mf'Project {n} already exist'\u001b[0m\u001b[0;34m)\u001b[0m\u001b[0;34m\u001b[0m\u001b[0;34m\u001b[0m\u001b[0m\n\u001b[0m\u001b[1;32m     20\u001b[0m \u001b[0;34m\u001b[0m\u001b[0m\n\u001b[1;32m     21\u001b[0m         \u001b[0;34m[\u001b[0m\u001b[0mf\u001b[0m\u001b[0;34m.\u001b[0m\u001b[0mmkdir\u001b[0m\u001b[0;34m(\u001b[0m\u001b[0mparents\u001b[0m\u001b[0;34m=\u001b[0m\u001b[0;32mTrue\u001b[0m\u001b[0;34m)\u001b[0m \u001b[0;32mfor\u001b[0m \u001b[0mf\u001b[0m \u001b[0;32min\u001b[0m \u001b[0;34m[\u001b[0m\u001b[0mp\u001b[0m\u001b[0;34m,\u001b[0m \u001b[0mp\u001b[0m\u001b[0;34m/\u001b[0m\u001b[0;34m'backlog'\u001b[0m\u001b[0;34m,\u001b[0m \u001b[0mp\u001b[0m\u001b[0;34m/\u001b[0m\u001b[0;34m'sandbox'\u001b[0m\u001b[0;34m]\u001b[0m\u001b[0;34m]\u001b[0m\u001b[0;34m\u001b[0m\u001b[0;34m\u001b[0m\u001b[0m\n",
      "\u001b[0;31mValueError\u001b[0m: Project test-prj already exist"
     ]
    }
   ],
   "source": [
    "s.new_project({'name':'test-prj'})"
   ]
  },
  {
   "cell_type": "code",
   "execution_count": 7,
   "metadata": {
    "ExecuteTime": {
     "end_time": "2020-09-23T05:57:28.839466Z",
     "start_time": "2020-09-23T05:57:28.835500Z"
    }
   },
   "outputs": [
    {
     "data": {
      "text/plain": [
       "'sprint-7'"
      ]
     },
     "execution_count": 7,
     "metadata": {},
     "output_type": "execute_result"
    }
   ],
   "source": [
    "s.new_sprint('test-prj')"
   ]
  },
  {
   "cell_type": "code",
   "execution_count": 8,
   "metadata": {
    "ExecuteTime": {
     "end_time": "2020-09-23T05:57:28.845428Z",
     "start_time": "2020-09-23T05:57:28.840232Z"
    }
   },
   "outputs": [
    {
     "data": {
      "text/plain": [
       "[]"
      ]
     },
     "execution_count": 8,
     "metadata": {},
     "output_type": "execute_result"
    }
   ],
   "source": [
    "s.get_stories('test-prj','sprint-2')"
   ]
  },
  {
   "cell_type": "code",
   "execution_count": 27,
   "metadata": {
    "ExecuteTime": {
     "end_time": "2020-09-23T06:48:15.697320Z",
     "start_time": "2020-09-23T06:48:15.691085Z"
    }
   },
   "outputs": [
    {
     "data": {
      "text/plain": [
       "[]"
      ]
     },
     "execution_count": 27,
     "metadata": {},
     "output_type": "execute_result"
    }
   ],
   "source": [
    "s.get_logs('te2st-prj')"
   ]
  },
  {
   "cell_type": "code",
   "execution_count": null,
   "metadata": {
    "ExecuteTime": {
     "end_time": "2020-09-23T05:57:28.904728Z",
     "start_time": "2020-09-23T05:57:28.676Z"
    }
   },
   "outputs": [],
   "source": [
    "st = s.get_story('test-prj','sandbox','define-the-interface')"
   ]
  },
  {
   "cell_type": "code",
   "execution_count": null,
   "metadata": {
    "ExecuteTime": {
     "end_time": "2020-09-23T05:57:28.905459Z",
     "start_time": "2020-09-23T05:57:28.679Z"
    }
   },
   "outputs": [],
   "source": [
    "s.set_story('test-prj','sandbox',{\n",
    "    'name': 'a new story',\n",
    "    'description': 'with some description'\n",
    "})"
   ]
  },
  {
   "cell_type": "code",
   "execution_count": null,
   "metadata": {
    "ExecuteTime": {
     "end_time": "2020-09-23T05:57:28.906130Z",
     "start_time": "2020-09-23T05:57:28.681Z"
    }
   },
   "outputs": [],
   "source": [
    "s = [2]"
   ]
  },
  {
   "cell_type": "code",
   "execution_count": null,
   "metadata": {
    "ExecuteTime": {
     "end_time": "2020-09-23T05:57:28.906653Z",
     "start_time": "2020-09-23T05:57:28.684Z"
    }
   },
   "outputs": [],
   "source": [
    "if s: print('dd')"
   ]
  },
  {
   "cell_type": "code",
   "execution_count": null,
   "metadata": {},
   "outputs": [],
   "source": []
  }
 ],
 "metadata": {
  "kernelspec": {
   "display_name": "Python 3.8.3 64-bit ('qs': conda)",
   "language": "python",
   "name": "python38364bitqsconda70419307ac5447bdbf6e3bb5e0d2222f"
  },
  "language_info": {
   "codemirror_mode": {
    "name": "ipython",
    "version": 3
   },
   "file_extension": ".py",
   "mimetype": "text/x-python",
   "name": "python",
   "nbconvert_exporter": "python",
   "pygments_lexer": "ipython3",
   "version": "3.8.3"
  },
  "varInspector": {
   "cols": {
    "lenName": 16,
    "lenType": 16,
    "lenVar": 40
   },
   "kernels_config": {
    "python": {
     "delete_cmd_postfix": "",
     "delete_cmd_prefix": "del ",
     "library": "var_list.py",
     "varRefreshCmd": "print(var_dic_list())"
    },
    "r": {
     "delete_cmd_postfix": ") ",
     "delete_cmd_prefix": "rm(",
     "library": "var_list.r",
     "varRefreshCmd": "cat(var_dic_list()) "
    }
   },
   "types_to_exclude": [
    "module",
    "function",
    "builtin_function_or_method",
    "instance",
    "_Feature"
   ],
   "window_display": false
  }
 },
 "nbformat": 4,
 "nbformat_minor": 4
}
