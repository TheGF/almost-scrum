{
 "cells": [
  {
   "cell_type": "code",
   "execution_count": 2,
   "metadata": {
    "ExecuteTime": {
     "end_time": "2020-10-13T19:41:39.832354Z",
     "start_time": "2020-10-13T19:41:39.653625Z"
    }
   },
   "outputs": [
    {
     "name": "stdout",
     "output_type": "stream",
     "text": [
      "Converted config.ipynb.\n",
      "Converted index.ipynb.\n",
      "Converted main.ipynb.\n",
      "Converted project.ipynb.\n",
      "Converted rest.ipynb.\n",
      "Converted services.ipynb.\n",
      "Converted store.ipynb.\n",
      "Converted term.ipynb.\n"
     ]
    }
   ],
   "source": [
    "from nbdev.export import *\n",
    "notebook2script()"
   ]
  },
  {
   "cell_type": "code",
   "execution_count": 8,
   "metadata": {
    "ExecuteTime": {
     "end_time": "2020-10-15T16:45:19.009185Z",
     "start_time": "2020-10-15T16:45:18.993770Z"
    }
   },
   "outputs": [],
   "source": [
    "# default_exp store\n",
    "# export\n",
    "from pathlib import Path\n",
    "import yaml\n",
    "import os\n",
    "import time\n",
    "import getpass\n",
    "from qscrum.config import Config"
   ]
  },
  {
   "cell_type": "code",
   "execution_count": 7,
   "metadata": {
    "ExecuteTime": {
     "end_time": "2020-10-15T11:47:35.373518Z",
     "start_time": "2020-10-15T11:47:35.364803Z"
    }
   },
   "outputs": [],
   "source": [
    "# export\n",
    "class Store:\n",
    "    def __init__(self, path):\n",
    "        self.path = path.resolve()\n",
    "        self.name = path.stem\n",
    "    \n",
    "    def exists(self):\n",
    "        return (self.path/self.project_folder).exists()\n",
    "    \n",
    "    def __getitem__(self, story_id):\n",
    "        \"Get the content of a story\"\n",
    "        p = self.get_path(story_id)\n",
    "        if not p.exists():\n",
    "            return None\n",
    "        with p.open() as f:\n",
    "            return yaml.load(f, Loader=yaml.FullLoader)\n",
    "    \n",
    "    def __setitem__(self, story_id, story):\n",
    "        p = self.get_path(story_id)\n",
    "        with p.open('w') as f:\n",
    "            yaml.dump(story, f)\n",
    "        return p.stem\n",
    "\n",
    "    def __delitem__(self, story_id):\n",
    "        p = self.get_path(story_id)\n",
    "        if p.exists():\n",
    "            p.unlink()\n",
    "        else:\n",
    "            raise KeyError(story_id)\n",
    "        \n",
    "    def get_path(self, story_id):\n",
    "        return self.path/f'{story_id}.yaml'\n",
    "        \n",
    "    def touch(self, story_id):\n",
    "        p = self.get_path(story_id)\n",
    "        p.touch(exist_ok=True)\n",
    "        \n",
    "    def keys(self):\n",
    "        return [f.stem for f in sorted(self.path.glob('*.yaml'), key=os.path.getmtime, reverse=True)]"
   ]
  },
  {
   "cell_type": "code",
   "execution_count": null,
   "metadata": {},
   "outputs": [],
   "source": []
  },
  {
   "cell_type": "code",
   "execution_count": null,
   "metadata": {},
   "outputs": [],
   "source": []
  }
 ],
 "metadata": {
  "kernelspec": {
   "display_name": "Python 3.8.3 64-bit ('qs': conda)",
   "language": "python",
   "name": "python38364bitqsconda70419307ac5447bdbf6e3bb5e0d2222f"
  },
  "language_info": {
   "codemirror_mode": {
    "name": "ipython",
    "version": 3
   },
   "file_extension": ".py",
   "mimetype": "text/x-python",
   "name": "python",
   "nbconvert_exporter": "python",
   "pygments_lexer": "ipython3",
   "version": "3.8.3"
  },
  "varInspector": {
   "cols": {
    "lenName": 16,
    "lenType": 16,
    "lenVar": 40
   },
   "kernels_config": {
    "python": {
     "delete_cmd_postfix": "",
     "delete_cmd_prefix": "del ",
     "library": "var_list.py",
     "varRefreshCmd": "print(var_dic_list())"
    },
    "r": {
     "delete_cmd_postfix": ") ",
     "delete_cmd_prefix": "rm(",
     "library": "var_list.r",
     "varRefreshCmd": "cat(var_dic_list()) "
    }
   },
   "types_to_exclude": [
    "module",
    "function",
    "builtin_function_or_method",
    "instance",
    "_Feature"
   ],
   "window_display": false
  }
 },
 "nbformat": 4,
 "nbformat_minor": 4
}
