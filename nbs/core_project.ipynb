{
 "cells": [
  {
   "cell_type": "code",
   "execution_count": 1,
   "metadata": {
    "ExecuteTime": {
     "end_time": "2020-10-17T13:35:55.221491Z",
     "start_time": "2020-10-17T13:35:55.215012Z"
    }
   },
   "outputs": [
    {
     "output_type": "error",
     "ename": "ModuleNotFoundError",
     "evalue": "No module named 'ascrum'",
     "traceback": [
      "\u001b[0;31m---------------------------------------------------------------------------\u001b[0m",
      "\u001b[0;31mModuleNotFoundError\u001b[0m                       Traceback (most recent call last)",
      "\u001b[0;32m<ipython-input-1-39e353c81f3f>\u001b[0m in \u001b[0;36m<module>\u001b[0;34m\u001b[0m\n\u001b[1;32m      1\u001b[0m \u001b[0;31m# default_exp project\u001b[0m\u001b[0;34m\u001b[0m\u001b[0;34m\u001b[0m\u001b[0;34m\u001b[0m\u001b[0m\n\u001b[1;32m      2\u001b[0m \u001b[0;31m# export\u001b[0m\u001b[0;34m\u001b[0m\u001b[0;34m\u001b[0m\u001b[0;34m\u001b[0m\u001b[0m\n\u001b[0;32m----> 3\u001b[0;31m \u001b[0;32mfrom\u001b[0m \u001b[0mascrum\u001b[0m\u001b[0;34m.\u001b[0m\u001b[0mconfig\u001b[0m \u001b[0;32mimport\u001b[0m \u001b[0mConfig\u001b[0m\u001b[0;34m\u001b[0m\u001b[0;34m\u001b[0m\u001b[0m\n\u001b[0m\u001b[1;32m      4\u001b[0m \u001b[0;32mfrom\u001b[0m \u001b[0mascrum\u001b[0m\u001b[0;34m.\u001b[0m\u001b[0mstore\u001b[0m \u001b[0;32mimport\u001b[0m \u001b[0mStore\u001b[0m\u001b[0;34m\u001b[0m\u001b[0;34m\u001b[0m\u001b[0m\n\u001b[1;32m      5\u001b[0m \u001b[0;32mfrom\u001b[0m \u001b[0mpathlib\u001b[0m \u001b[0;32mimport\u001b[0m \u001b[0mPath\u001b[0m\u001b[0;34m\u001b[0m\u001b[0;34m\u001b[0m\u001b[0m\n",
      "\u001b[0;31mModuleNotFoundError\u001b[0m: No module named 'ascrum'"
     ]
    }
   ],
   "source": [
    "# default_exp core.project\n",
    "# export\n",
    "from ascrum.core.config import Config\n",
    "from ascrum.core.store import Store\n",
    "from pathlib import Path\n",
    "import yaml\n",
    "import os\n",
    "import time\n",
    "import getpass"
   ]
  },
  {
   "cell_type": "code",
   "execution_count": 4,
   "metadata": {
    "ExecuteTime": {
     "end_time": "2020-10-13T07:12:24.488148Z",
     "start_time": "2020-10-13T07:12:24.472489Z"
    },
    "code_folding": []
   },
   "outputs": [],
   "source": [
    "# export\n",
    "class Project:\n",
    "    config = Config()\n",
    "    project_folder = 'as-proj'\n",
    "\n",
    "    def __init__(self, path: Path):\n",
    "        self.path = path.resolve()\n",
    "        self.name = self.path.name\n",
    "        if self.exists():\n",
    "            self.config.projects[self.path.name] = self.path\n",
    "\n",
    "    @classmethod\n",
    "    def find(cls, path):\n",
    "        path = path.absolute()\n",
    "        if (path/Project.project_folder).exists():\n",
    "            return Project(path)\n",
    "        elif path.name == '':\n",
    "            return None\n",
    "        else:\n",
    "            return Project.find(path.parent)\n",
    "\n",
    "    @classmethod\n",
    "    def scan_for_projects(cls, path):\n",
    "        project_folders = [f.parent.absolute() for f in path.glob('**/{quick_scrum_folder}')]\n",
    "        return [f for f in project_folders if validate_project(f)]\n",
    "\n",
    "    def exists(self):\n",
    "        return (self.path/self.project_folder).exists()\n",
    "\n",
    "    def init(self, project):\n",
    "        existing_projects = self.scan_for_projects(self.path)\n",
    "        if len(existing_projects):\n",
    "            paths = ','.join([str(p) for p in existing_projects])\n",
    "            raise FileExistsError(f'A scrum project already exists in {paths}')\n",
    "\n",
    "        required = ['sandbox.store', 'backlog.store', 'docs','users']\n",
    "        [(self.path/self.project_folder/n).mkdir(parents=True) for n in required]\n",
    "        with (self.path/self.project_folder/'project.yaml').open('w') as f:\n",
    "            c = {**project, 'creation_timestamp': time.time()}\n",
    "            yaml.dump(c, f)\n",
    "        self.config.projects[self.path.name] = self.path.as_posix()\n",
    "        self.config.save()\n",
    "        self.path/self.project_folder\n",
    "        self.set_user(getpass.getuser(), {})\n",
    "\n",
    "    def list_users(self):\n",
    "        uf = self.path/self.project_folder/'users'\n",
    "        return [f.stem for f in uf.glob('*.yaml')]\n",
    "\n",
    "    def set_user(self, user_id, user_info):\n",
    "        uf = self.path/self.project_folder/'users'\n",
    "        with (uf/f'{user_id}.yaml').open('w') as f:\n",
    "            c = {**user_info, 'last_change': time.time()}\n",
    "            yaml.dump(c, f)\n",
    "\n",
    "    def get_user(self, user_id):\n",
    "        uf = self.path/self.project_folder/'users'\n",
    "        with (uf/f'{user_id}.yaml').open('r') as f:\n",
    "            return yaml.load(f, Loader=yaml.FullLoader)\n",
    "\n",
    "    def list_stores(self):\n",
    "        pf = self.path/self.project_folder\n",
    "        return [f.stem for f in pf.iterdir() if f.is_dir() and f.suffix == '.store']\n",
    "\n",
    "    def get_store(self, store_name):\n",
    "        sf = self.path/self.project_folder/f'{store_name}.store'\n",
    "        return Store(sf) if sf.exists() else None\n",
    "\n",
    "    def new_store(self, store_name):\n",
    "        sf = self.path/self.project_folder/f'{store_name}.store'\n",
    "        if sf.exists():\n",
    "            raise AttributeError(f'Store {store_name} already exists')\n",
    "        else:\n",
    "            sf.mkdir()\n",
    "            return Store(sf)\n",
    "\n",
    "    def list_sprints(self):\n",
    "        \"Get all the sprints in the project prj\"\n",
    "        return [n for n in self.list_stores() if n.startswith('sprint-')]\n",
    "\n",
    "    def new_story_id(self):\n",
    "        stories = (self.path/self.project_folder).glob('*.store/*.yaml')\n",
    "        names = [story.stem.split('#') for story in stories]\n",
    "        return 1+max([0, *[int(name[0]) for name in names if len(name) == 2 and name[0].isnumeric()]])\n",
    "\n",
    "    def new_sprint(self):\n",
    "        \"Create a new sprint\"\n",
    "        ss = sorted(self.list_sprints())\n",
    "        if ss:\n",
    "            last = ss[-1]\n",
    "            (_,n) = last.split('-')\n",
    "            s = f'sprint-{int(n)+1}'\n",
    "        else:\n",
    "            s = f'sprint-1'\n",
    "        return self.new_store(s)"
   ]
  },
  {
   "cell_type": "code",
   "execution_count": 5,
   "metadata": {
    "ExecuteTime": {
     "end_time": "2020-10-13T07:12:24.538971Z",
     "start_time": "2020-10-13T07:12:24.490244Z"
    }
   },
   "outputs": [
    {
     "ename": "AttributeError",
     "evalue": "Store sprint-10 already exists",
     "output_type": "error",
     "traceback": [
      "\u001b[0;31m---------------------------------------------------------------------------\u001b[0m",
      "\u001b[0;31mAttributeError\u001b[0m                            Traceback (most recent call last)",
      "\u001b[0;32m<ipython-input-5-44d1b80ed7c1>\u001b[0m in \u001b[0;36m<module>\u001b[0;34m\u001b[0m\n\u001b[1;32m      1\u001b[0m \u001b[0mp\u001b[0m \u001b[0;34m=\u001b[0m \u001b[0mProject\u001b[0m\u001b[0;34m(\u001b[0m\u001b[0mPath\u001b[0m\u001b[0;34m(\u001b[0m\u001b[0;34m'../data/test5'\u001b[0m\u001b[0;34m)\u001b[0m\u001b[0;34m)\u001b[0m\u001b[0;34m\u001b[0m\u001b[0;34m\u001b[0m\u001b[0m\n\u001b[0;32m----> 2\u001b[0;31m \u001b[0ms\u001b[0m \u001b[0;34m=\u001b[0m \u001b[0mp\u001b[0m\u001b[0;34m.\u001b[0m\u001b[0mnew_sprint\u001b[0m\u001b[0;34m(\u001b[0m\u001b[0;34m)\u001b[0m\u001b[0;34m\u001b[0m\u001b[0;34m\u001b[0m\u001b[0m\n\u001b[0m",
      "\u001b[0;32m<ipython-input-4-f02b828e8d60>\u001b[0m in \u001b[0;36mnew_sprint\u001b[0;34m(self)\u001b[0m\n\u001b[1;32m     92\u001b[0m         \u001b[0;32melse\u001b[0m\u001b[0;34m:\u001b[0m\u001b[0;34m\u001b[0m\u001b[0;34m\u001b[0m\u001b[0m\n\u001b[1;32m     93\u001b[0m             \u001b[0ms\u001b[0m \u001b[0;34m=\u001b[0m \u001b[0;34mf'sprint-1'\u001b[0m\u001b[0;34m\u001b[0m\u001b[0;34m\u001b[0m\u001b[0m\n\u001b[0;32m---> 94\u001b[0;31m         \u001b[0;32mreturn\u001b[0m \u001b[0mself\u001b[0m\u001b[0;34m.\u001b[0m\u001b[0mnew_store\u001b[0m\u001b[0;34m(\u001b[0m\u001b[0ms\u001b[0m\u001b[0;34m)\u001b[0m\u001b[0;34m\u001b[0m\u001b[0;34m\u001b[0m\u001b[0m\n\u001b[0m",
      "\u001b[0;32m<ipython-input-4-f02b828e8d60>\u001b[0m in \u001b[0;36mnew_store\u001b[0;34m(self, store_name)\u001b[0m\n\u001b[1;32m     69\u001b[0m         \u001b[0msf\u001b[0m \u001b[0;34m=\u001b[0m \u001b[0mself\u001b[0m\u001b[0;34m.\u001b[0m\u001b[0mpath\u001b[0m\u001b[0;34m/\u001b[0m\u001b[0mself\u001b[0m\u001b[0;34m.\u001b[0m\u001b[0mproject_folder\u001b[0m\u001b[0;34m/\u001b[0m\u001b[0;34mf'{store_name}.store'\u001b[0m\u001b[0;34m\u001b[0m\u001b[0;34m\u001b[0m\u001b[0m\n\u001b[1;32m     70\u001b[0m         \u001b[0;32mif\u001b[0m \u001b[0msf\u001b[0m\u001b[0;34m.\u001b[0m\u001b[0mexists\u001b[0m\u001b[0;34m(\u001b[0m\u001b[0;34m)\u001b[0m\u001b[0;34m:\u001b[0m\u001b[0;34m\u001b[0m\u001b[0;34m\u001b[0m\u001b[0m\n\u001b[0;32m---> 71\u001b[0;31m             \u001b[0;32mraise\u001b[0m \u001b[0mAttributeError\u001b[0m\u001b[0;34m(\u001b[0m\u001b[0;34mf'Store {store_name} already exists'\u001b[0m\u001b[0;34m)\u001b[0m\u001b[0;34m\u001b[0m\u001b[0;34m\u001b[0m\u001b[0m\n\u001b[0m\u001b[1;32m     72\u001b[0m         \u001b[0;32melse\u001b[0m\u001b[0;34m:\u001b[0m\u001b[0;34m\u001b[0m\u001b[0;34m\u001b[0m\u001b[0m\n\u001b[1;32m     73\u001b[0m             \u001b[0msf\u001b[0m\u001b[0;34m.\u001b[0m\u001b[0mmkdir\u001b[0m\u001b[0;34m(\u001b[0m\u001b[0;34m)\u001b[0m\u001b[0;34m\u001b[0m\u001b[0;34m\u001b[0m\u001b[0m\n",
      "\u001b[0;31mAttributeError\u001b[0m: Store sprint-10 already exists"
     ]
    }
   ],
   "source": [
    "p = Project(Path('../data/test5'))\n",
    "s = p.new_sprint()"
   ]
  },
  {
   "cell_type": "code",
   "execution_count": null,
   "metadata": {
    "ExecuteTime": {
     "end_time": "2020-10-13T07:12:24.542302Z",
     "start_time": "2020-10-13T07:12:24.277Z"
    }
   },
   "outputs": [],
   "source": [
    "s['1 - User Creation'] = {'test':3}"
   ]
  },
  {
   "cell_type": "code",
   "execution_count": null,
   "metadata": {
    "ExecuteTime": {
     "end_time": "2020-10-13T07:12:24.542935Z",
     "start_time": "2020-10-13T07:12:24.280Z"
    }
   },
   "outputs": [],
   "source": [
    "s.keys()"
   ]
  },
  {
   "cell_type": "code",
   "execution_count": null,
   "metadata": {
    "ExecuteTime": {
     "end_time": "2020-10-09T19:32:31.988218Z",
     "start_time": "2020-10-09T19:32:31.979120Z"
    }
   },
   "outputs": [],
   "source": []
  },
  {
   "cell_type": "code",
   "execution_count": null,
   "metadata": {
    "ExecuteTime": {
     "end_time": "2020-10-13T07:12:24.543785Z",
     "start_time": "2020-10-13T07:12:24.283Z"
    }
   },
   "outputs": [],
   "source": [
    "# export\n",
    "class Scrum:\n",
    "    def __init__(self, home_folder):\n",
    "        self.home = Path(home_folder)\n",
    "\n",
    "    def get_projects(self):\n",
    "        \"Get all the projects available in the home folder\"\n",
    "        return [p.name for p in (self.home/'projects').iterdir() if p.is_dir()]\n",
    "\n",
    "    def get_project(self, project_name):\n",
    "        \"Get the project info\"\n",
    "        p = self.home/'projects'/project_name/'project.yaml'\n",
    "        if p.exists():\n",
    "            with p.open() as f:\n",
    "                return yaml.load(f, Loader=yaml.FullLoader)\n",
    "        else:\n",
    "            return None\n",
    "\n",
    "    def new_project(self, project):\n",
    "        n = project['name']\n",
    "        p = self.home/'projects'/n\n",
    "        if p.exists():\n",
    "            raise ValueError(f'Project {n} already exist')\n",
    "\n",
    "        [f.mkdir(parents=True) for f in [p, p/'backlog', p/'sandbox']]\n",
    "        with (p/'project.yaml').open('w') as f:\n",
    "            c = {**project, 'created': time.time()}\n",
    "            yaml.dump(c, f)\n",
    "\n",
    "    def get_sprints(self, project_name):\n",
    "        \"Get all the sprints in the project prj\"\n",
    "        return [p.name for p in (self.home/'projects'/project_name)\n",
    "                .glob('sprint-*') if p.is_dir()]\n",
    "\n",
    "    def new_sprint(self, project_name):\n",
    "        \"Create a new sprint\"\n",
    "        ss = sorted(self.get_sprints(project_name))\n",
    "        if ss:\n",
    "            last = ss[-1]\n",
    "            (_,n) = last.split('-')\n",
    "            s = f'sprint-{int(n)+1}'\n",
    "        else:\n",
    "            s = f'sprint-1'\n",
    "        (self.home/'projects'/project_name/s).mkdir()\n",
    "        return s\n",
    "\n",
    "    def get_stories(self, project_name, store):\n",
    "        \"Get all the stories name for a store, i.e. backlog, sprint...\"\n",
    "        pp = self.home/'projects'/project_name/store\n",
    "        pp = sorted(pp.glob('*.yaml'), key=os.path.getmtime)\n",
    "        return [p.stem for p in pp]\n",
    "\n",
    "    def get_story(self, project_name, store, story_name):\n",
    "        \"Get the content of a story\"\n",
    "        p = self.home/'projects'/project_name/store/f'{story_name}.yaml'\n",
    "        if not p.exists():\n",
    "            return None\n",
    "        with p.open() as f:\n",
    "            c = yaml.load(f, Loader=yaml.FullLoader)\n",
    "            return {'name': story_name, **c}\n",
    "\n",
    "    def del_story(self, project_name, store, story_name):\n",
    "        p = self.home/'projects'/project_name/store/f'{story_name}.yaml'\n",
    "        if p.exists():\n",
    "            p.unlink()\n",
    "            return True\n",
    "        else:\n",
    "            return False\n",
    "\n",
    "    def set_story(self, project_name, store, story):\n",
    "        name = story['name']\n",
    "        p = self.home/'projects'/project_name/store/f'~{name}.yaml'\n",
    "        with p.open('w') as f:\n",
    "            yaml.dump(story, f)\n",
    "        p = p.replace(self.home/'projects'/project_name/store/f'{name}.yaml')\n",
    "        return p.stem\n",
    "\n",
    "    def touch_story(self, project_name, store, story):\n",
    "        name = story['name']\n",
    "        p = self.home/'projects'/project_name/store/f'~{name}.yaml'\n",
    "        p.touch()\n",
    "\n",
    "    def move_story(self, project_name, source, target, story_name):\n",
    "        \"Move a story to a different container\"\n",
    "        p = self.home/'projects'/project_name/source/f'{story_name}.yaml'\n",
    "        if p.exist():\n",
    "            p.replace(self.home/'projects'/project_name/target/f'{name}.yaml')\n",
    "            return True\n",
    "        else:\n",
    "            return False"
   ]
  },
  {
   "cell_type": "code",
   "execution_count": null,
   "metadata": {
    "ExecuteTime": {
     "end_time": "2020-10-13T07:12:24.544857Z",
     "start_time": "2020-10-13T07:12:24.288Z"
    }
   },
   "outputs": [],
   "source": [
    "s = Scrum('../data')"
   ]
  },
  {
   "cell_type": "code",
   "execution_count": null,
   "metadata": {
    "ExecuteTime": {
     "end_time": "2020-10-13T07:12:24.545874Z",
     "start_time": "2020-10-13T07:12:24.290Z"
    }
   },
   "outputs": [],
   "source": [
    "s.get_projects()"
   ]
  },
  {
   "cell_type": "code",
   "execution_count": null,
   "metadata": {
    "ExecuteTime": {
     "end_time": "2020-10-13T07:12:24.546775Z",
     "start_time": "2020-10-13T07:12:24.293Z"
    }
   },
   "outputs": [],
   "source": [
    "s.new_project({'name':'test-prj'})"
   ]
  },
  {
   "cell_type": "code",
   "execution_count": null,
   "metadata": {
    "ExecuteTime": {
     "end_time": "2020-10-13T07:12:24.547634Z",
     "start_time": "2020-10-13T07:12:24.296Z"
    }
   },
   "outputs": [],
   "source": [
    "s.new_sprint('test-prj')"
   ]
  },
  {
   "cell_type": "code",
   "execution_count": null,
   "metadata": {
    "ExecuteTime": {
     "end_time": "2020-10-13T07:12:24.548450Z",
     "start_time": "2020-10-13T07:12:24.298Z"
    }
   },
   "outputs": [],
   "source": [
    "s.get_stories('test-prj','sprint-2')"
   ]
  },
  {
   "cell_type": "code",
   "execution_count": null,
   "metadata": {
    "ExecuteTime": {
     "end_time": "2020-10-13T07:12:24.549224Z",
     "start_time": "2020-10-13T07:12:24.300Z"
    }
   },
   "outputs": [],
   "source": [
    "s.get_logs('te2st-prj')"
   ]
  },
  {
   "cell_type": "code",
   "execution_count": null,
   "metadata": {
    "ExecuteTime": {
     "end_time": "2020-10-13T07:12:24.550128Z",
     "start_time": "2020-10-13T07:12:24.302Z"
    }
   },
   "outputs": [],
   "source": [
    "st = s.get_story('test-prj','sandbox','define-the-interface')"
   ]
  },
  {
   "cell_type": "code",
   "execution_count": null,
   "metadata": {
    "ExecuteTime": {
     "end_time": "2020-10-13T07:12:24.550784Z",
     "start_time": "2020-10-13T07:12:24.304Z"
    }
   },
   "outputs": [],
   "source": [
    "s.set_story('test-prj','sandbox',{\n",
    "    'name': 'a new story',\n",
    "    'description': 'with some description'\n",
    "})"
   ]
  },
  {
   "cell_type": "code",
   "execution_count": null,
   "metadata": {
    "ExecuteTime": {
     "end_time": "2020-10-13T07:12:24.551389Z",
     "start_time": "2020-10-13T07:12:24.308Z"
    }
   },
   "outputs": [],
   "source": [
    "s = [2]"
   ]
  },
  {
   "cell_type": "code",
   "execution_count": null,
   "metadata": {
    "ExecuteTime": {
     "end_time": "2020-10-13T07:12:24.552004Z",
     "start_time": "2020-10-13T07:12:24.309Z"
    }
   },
   "outputs": [],
   "source": [
    "if s: print('dd')"
   ]
  },
  {
   "cell_type": "code",
   "execution_count": null,
   "metadata": {},
   "outputs": [],
   "source": []
  }
 ],
 "metadata": {
  "kernelspec": {
   "display_name": "Python 3.8.3 64-bit ('as': conda)",
   "language": "python",
   "name": "python38364bitascondabd1ae2f1a650462cb20307baf6a4f9f4"
  },
  "language_info": {
   "codemirror_mode": {
    "name": "ipython",
    "version": 3
   },
   "file_extension": ".py",
   "mimetype": "text/x-python",
   "name": "python",
   "nbconvert_exporter": "python",
   "pygments_lexer": "ipython3",
   "version": "3.8.3-final"
  },
  "varInspector": {
   "cols": {
    "lenName": 16,
    "lenType": 16,
    "lenVar": 40
   },
   "kernels_config": {
    "python": {
     "delete_cmd_postfix": "",
     "delete_cmd_prefix": "del ",
     "library": "var_list.py",
     "varRefreshCmd": "print(var_dic_list())"
    },
    "r": {
     "delete_cmd_postfix": ") ",
     "delete_cmd_prefix": "rm(",
     "library": "var_list.r",
     "varRefreshCmd": "cat(var_dic_list()) "
    }
   },
   "types_to_exclude": [
    "module",
    "function",
    "builtin_function_or_method",
    "instance",
    "_Feature"
   ],
   "window_display": false
  }
 },
 "nbformat": 4,
 "nbformat_minor": 4
}