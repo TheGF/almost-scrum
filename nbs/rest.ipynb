{
 "cells": [
  {
   "cell_type": "code",
   "execution_count": 1,
   "metadata": {
    "ExecuteTime": {
     "end_time": "2020-10-18T13:55:05.744274Z",
     "start_time": "2020-10-18T13:55:05.742139Z"
    }
   },
   "outputs": [],
   "source": [
    "# default_exp rest\n",
    "%load_ext autoreload\n",
    "%autoreload 2"
   ]
  },
  {
   "cell_type": "code",
   "execution_count": 2,
   "metadata": {
    "ExecuteTime": {
     "end_time": "2020-10-18T13:55:06.564407Z",
     "start_time": "2020-10-18T13:55:06.464197Z"
    }
   },
   "outputs": [],
   "source": [
    "#export\n",
    "from qscrum.config import config\n",
    "from qscrum.store import Store\n",
    "from qscrum.project import Project\n",
    "from qscrum.server import api, start_server\n",
    "from qscrum.auth import token_required\n",
    "from pathlib import Path\n",
    "from contextlib import contextmanager\n",
    "from flask_restplus import Resource, Api, fields, reqparse"
   ]
  },
  {
   "cell_type": "code",
   "execution_count": 3,
   "metadata": {},
   "outputs": [],
   "source": [
    "\n",
    "ascrum_ns = api.namespace('ascrum', description='Almost Scrum API')\n"
   ]
  },
  {
   "cell_type": "code",
   "execution_count": 4,
   "metadata": {
    "ExecuteTime": {
     "end_time": "2020-10-18T13:55:25.169876Z",
     "start_time": "2020-10-18T13:55:25.164141Z"
    }
   },
   "outputs": [],
   "source": [
    "@api.errorhandler(ValueError)\n",
    "def handle_value_error(error):\n",
    "    '''Return a custom message and 400 status code'''\n",
    "    return {'message': error.args[0]}, 400\n"
   ]
  },
  {
   "cell_type": "code",
   "execution_count": 5,
   "metadata": {
    "ExecuteTime": {
     "end_time": "2020-10-18T13:55:25.871366Z",
     "start_time": "2020-10-18T13:55:25.861310Z"
    }
   },
   "outputs": [],
   "source": [
    "#export\n",
    "\n",
    "project_model = api.model('Project', {\n",
    "    'name': fields.String(required=True),\n",
    "    'description': fields.String\n",
    "})\n",
    "\n",
    "def _get_project(name):\n",
    "    return Project(config.projects[name]) if name in config.projects else None\n",
    "\n",
    "@api.route('/api/v1/projects')\n",
    "class ProjectList(Resource):\n",
    "    @ascrum_ns.doc('get list of projects')\n",
    "    @token_required\n",
    "    def get(self, user):\n",
    "        return config.projects.keys()\n"
   ]
  },
  {
   "cell_type": "code",
   "execution_count": 6,
   "metadata": {
    "ExecuteTime": {
     "end_time": "2020-10-18T13:55:28.646923Z",
     "start_time": "2020-10-18T13:55:28.639330Z"
    }
   },
   "outputs": [],
   "source": [
    "#export\n",
    "\n",
    "@api.route('/api/v1/projects/<string:project_name>', endpoint='project')\n",
    "@api.doc(params={\n",
    "    'project_name': 'Id of a project',\n",
    "    'log': 'The log where the stories are placed, sandbox, backlog, sprint-1, sprint-2...'\n",
    "})\n",
    "class ProjectApi(Resource):\n",
    "    @ascrum_ns.doc('get project info')\n",
    "    @token_required\n",
    "    def get(self, project_name):\n",
    "        p = _get_project(project_name)\n",
    "        return {\n",
    "            'name': p.name,\n",
    "            'stores': p.list_stores(),\n",
    "            'users': p.list_users()\n",
    "        }"
   ]
  },
  {
   "cell_type": "code",
   "execution_count": 7,
   "metadata": {
    "ExecuteTime": {
     "end_time": "2020-10-18T14:27:18.732202Z",
     "start_time": "2020-10-18T14:27:18.715533Z"
    }
   },
   "outputs": [],
   "source": [
    "#export\n",
    "\n",
    "story_model = api.model('Project', {\n",
    "    'name': fields.String(required=True),\n",
    "    'description': fields.String,\n",
    "    'points': fields.Integer,\n",
    "    'state': fields.String,\n",
    "    'tasks': fields.List(fields.String)\n",
    "})\n",
    "\n",
    "def _is_valid_store(store):\n",
    "    return store in ['sandbox', 'backlog'] or log.startswith('sprint-')\n",
    "    \n",
    "def _invalid_store(store):\n",
    "    return f'Invalid store {store}. Valid stores are backlog, sandbox and sprint-[n]', 400\n",
    "    \n",
    "@api.route('/api/v1/projects/<string:project_name>/<string:store>', endpoint='stories')\n",
    "@api.doc(params={\n",
    "    'project_name': 'Id of a project',\n",
    "    'store': 'The store where the stories are placed, sandbox, backlog, sprint-1, sprint-2...'\n",
    "})\n",
    "class StoryList(Resource):\n",
    "    @ascrum_ns.doc('get stories')\n",
    "    @token_required\n",
    "    def get(self, project_name: str, store_name: str):\n",
    "        p = _get_project(project_name)\n",
    "        if not _is_valid_store(store_name): return _invalid_store(store_name)\n",
    "        return p.get_store(store).keys()\n",
    "\n",
    "    @ascrum_ns.doc('create a new story')\n",
    "    @token_required\n",
    "    def post(self, project_name: str, store_name: str):\n",
    "        p = _get_project(project_name)\n",
    "        s = p.get_store(store_name)\n",
    "        if s is None:\n",
    "            return f'store {store_name} does not exist', 401\n",
    "                \n",
    "        move_from = self._get_move_from()\n",
    "        if move_from:\n",
    "            self._move_story(s, move_from)\n",
    "        else:\n",
    "            self._create_story(p, s, args)\n",
    "            \n",
    "    def _create_story(self, p, s, args):\n",
    "        id = p.new_story_id()\n",
    "        title = args.get('title', '')\n",
    "        name = f'{id}#{title}'\n",
    "        s[name] = api.payload\n",
    "        return name, 201\n",
    "    \n",
    "    def _move_story(self, s, move_from):\n",
    "            frm,name = move_from.split('/')\n",
    "            s_from = p.get_store(frm)\n",
    "            if not s_from:\n",
    "                return f'store {frm} does not exist', 401\n",
    "            if s_from.path == s.path:\n",
    "                return f'source {frm} and target {s.name} must be different', 401\n",
    "            s[name] = s_from[name]\n",
    "            del s_from[name]\n",
    "        \n",
    "    def _get_move_from(self):\n",
    "        parser = reqparse.RequestParser()\n",
    "        parser.add_argument('move_from', type=str, help='Original story location')\n",
    "        args = parser.parse_args()\n",
    "        return args['move_from']\n",
    "\n",
    "        "
   ]
  },
  {
   "cell_type": "code",
   "execution_count": 8,
   "metadata": {},
   "outputs": [],
   "source": [
    "\n",
    "@api.route('/api/v1/projects/<string:project_name>/<string:store>/<string:story_name>', endpoint='story')\n",
    "@api.doc(params={\n",
    "    'project_name': 'Id of a project',\n",
    "    'log': 'The log where the stories are placed, sandbox, backlog, sprint-1, sprint-2...',\n",
    "    'story_name': 'Story id'\n",
    "})\n",
    "class Story(Resource):\n",
    "    @ascrum_ns.doc('get a story')\n",
    "    @token_required\n",
    "    def get(self, project_name: str, store: str, story_name: str):\n",
    "        return scrum.get_story(project_name, store, story_name)\n"
   ]
  },
  {
   "cell_type": "code",
   "execution_count": 12,
   "metadata": {
    "ExecuteTime": {
     "start_time": "2020-10-18T14:27:23.064Z"
    }
   },
   "outputs": [
    {
     "output_type": "stream",
     "name": "stdout",
     "text": [
      " * Serving Flask app \"qscrum.server\" (lazy loading)\n",
      " * Environment: production\n",
      "\u001b[31m   WARNING: This is a development server. Do not use it in a production deployment.\u001b[0m\n",
      "\u001b[2m   Use a production WSGI server instead.\u001b[0m\n",
      " * Debug mode: off\n",
      " * Running on http://127.0.0.1:4444/ (Press CTRL+C to quit)\n"
     ]
    }
   ],
   "source": [
    "#hide\n",
    "start_server()"
   ]
  },
  {
   "cell_type": "code",
   "execution_count": null,
   "metadata": {},
   "outputs": [],
   "source": []
  }
 ],
 "metadata": {
  "kernelspec": {
   "display_name": "Python 3.8.3 64-bit ('qs': conda)",
   "language": "python",
   "name": "python38364bitqsconda70419307ac5447bdbf6e3bb5e0d2222f"
  },
  "language_info": {
   "codemirror_mode": {
    "name": "ipython",
    "version": 3
   },
   "file_extension": ".py",
   "mimetype": "text/x-python",
   "name": "python",
   "nbconvert_exporter": "python",
   "pygments_lexer": "ipython3",
   "version": "3.8.3-final"
  },
  "varInspector": {
   "cols": {
    "lenName": 16,
    "lenType": 16,
    "lenVar": 40
   },
   "kernels_config": {
    "python": {
     "delete_cmd_postfix": "",
     "delete_cmd_prefix": "del ",
     "library": "var_list.py",
     "varRefreshCmd": "print(var_dic_list())"
    },
    "r": {
     "delete_cmd_postfix": ") ",
     "delete_cmd_prefix": "rm(",
     "library": "var_list.r",
     "varRefreshCmd": "cat(var_dic_list()) "
    }
   },
   "types_to_exclude": [
    "module",
    "function",
    "builtin_function_or_method",
    "instance",
    "_Feature"
   ],
   "window_display": false
  }
 },
 "nbformat": 4,
 "nbformat_minor": 4
}