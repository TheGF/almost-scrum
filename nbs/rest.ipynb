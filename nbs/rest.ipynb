{
 "cells": [
  {
   "cell_type": "code",
   "execution_count": 1,
   "metadata": {
    "ExecuteTime": {
     "end_time": "2020-09-28T15:32:00.522226Z",
     "start_time": "2020-09-28T15:32:00.374913Z"
    }
   },
   "outputs": [
    {
     "name": "stdout",
     "output_type": "stream",
     "text": [
      "Converted index.ipynb.\n",
      "Converted rest.ipynb.\n",
      "Converted services.ipynb.\n"
     ]
    }
   ],
   "source": [
    "from nbdev.export import *\n",
    "notebook2script()"
   ]
  },
  {
   "cell_type": "code",
   "execution_count": 2,
   "metadata": {
    "ExecuteTime": {
     "end_time": "2020-09-28T15:32:00.525362Z",
     "start_time": "2020-09-28T15:32:00.523547Z"
    }
   },
   "outputs": [],
   "source": [
    "# default_exp rest"
   ]
  },
  {
   "cell_type": "code",
   "execution_count": 3,
   "metadata": {
    "ExecuteTime": {
     "end_time": "2020-09-28T15:32:00.584263Z",
     "start_time": "2020-09-28T15:32:00.526421Z"
    }
   },
   "outputs": [],
   "source": [
    "#export\n",
    "import werkzeug\n",
    "werkzeug.cached_property = werkzeug.utils.cached_property\n",
    "\n",
    "from flask import Flask\n",
    "from flask_restplus import Resource, Api, fields, reqparse\n",
    "from pathlib import Path\n",
    "from services import Scrum\n",
    "from contextlib import contextmanager"
   ]
  },
  {
   "cell_type": "code",
   "execution_count": 4,
   "metadata": {
    "ExecuteTime": {
     "end_time": "2020-09-28T15:32:00.591014Z",
     "start_time": "2020-09-28T15:32:00.585205Z"
    }
   },
   "outputs": [],
   "source": [
    "#export\n",
    "app = Flask(__name__)\n",
    "api = Api(app)\n",
    "ns = api.namespace('quick-scrum', description='Quick Scrum API')\n",
    "scrum = Scrum('../data')"
   ]
  },
  {
   "cell_type": "code",
   "execution_count": 5,
   "metadata": {
    "ExecuteTime": {
     "end_time": "2020-09-28T15:32:00.596333Z",
     "start_time": "2020-09-28T15:32:00.592195Z"
    }
   },
   "outputs": [],
   "source": [
    "@api.errorhandler(ValueError)\n",
    "def handle_value_error(error):\n",
    "    '''Return a custom message and 400 status code'''\n",
    "    return {'message': error.args[0]}, 400\n"
   ]
  },
  {
   "cell_type": "code",
   "execution_count": 6,
   "metadata": {
    "ExecuteTime": {
     "end_time": "2020-09-28T15:32:00.602415Z",
     "start_time": "2020-09-28T15:32:00.597275Z"
    }
   },
   "outputs": [],
   "source": [
    "#export\n",
    "\n",
    "project_model = api.model('Project', {\n",
    "    'name': fields.String(required=True),\n",
    "    'description': fields.String\n",
    "})\n",
    "\n",
    "@api.route('/api/v1/projects')\n",
    "class ProjectList(Resource):\n",
    "    @ns.doc('get list of projects')\n",
    "    def get(self):\n",
    "        return scrum.get_projects()\n",
    "\n",
    "    @ns.doc('create a new project')\n",
    "    @ns.expect(project_model)\n",
    "    def post(self):\n",
    "        p = api.payload\n",
    "        n = p['name']\n",
    "        scrum.new_project(p)\n",
    "        return f'Project {n} created', 201"
   ]
  },
  {
   "cell_type": "code",
   "execution_count": 7,
   "metadata": {
    "ExecuteTime": {
     "end_time": "2020-09-28T15:32:00.611078Z",
     "start_time": "2020-09-28T15:32:00.604141Z"
    }
   },
   "outputs": [],
   "source": [
    "#export\n",
    "\n",
    "@api.route('/api/v1/projects/<string:project_name>', endpoint='project')\n",
    "@api.doc(params={\n",
    "    'project_name': 'Id of a project',\n",
    "    'log': 'The log where the stories are placed, sandbox, backlog, sprint-1, sprint-2...'\n",
    "})\n",
    "class Project(Resource):\n",
    "    @ns.doc('get list of projects')\n",
    "    def get(self, project_name):\n",
    "        return {\n",
    "            'name': project_name,\n",
    "            'sprints': scrum.get_sprints(project_name)\n",
    "        }"
   ]
  },
  {
   "cell_type": "code",
   "execution_count": 8,
   "metadata": {
    "ExecuteTime": {
     "end_time": "2020-09-28T15:32:00.624122Z",
     "start_time": "2020-09-28T15:32:00.613008Z"
    }
   },
   "outputs": [],
   "source": [
    "#export\n",
    "\n",
    "story_model = api.model('Project', {\n",
    "    'name': fields.String(required=True),\n",
    "    'description': fields.String,\n",
    "    'points': fields.Integer,\n",
    "    'state': fields.String,\n",
    "    'tasks': fields.List(fields.Nested({\n",
    "        'description': fields.String(required=True),\n",
    "        'start': fields.Date,\n",
    "        'end': fields.Date,\n",
    "        'owner': fields.String\n",
    "    }))\n",
    "})\n",
    "\n",
    "def is_valid_store(store):\n",
    "    return store in ['sandbox', 'backlog'] or log.startswith('sprint-')\n",
    "    \n",
    "def invalid_store(store):\n",
    "    return f'Invalid store {store}. Valid stores are backlog, sandbox and sprint-[n]', 400\n",
    "    \n",
    "@api.route('/api/v1/projects/<string:project_name>/<string:store>', endpoint='stories')\n",
    "@api.doc(params={\n",
    "    'project_name': 'Id of a project',\n",
    "    'store': 'The store where the stories are placed, sandbox, backlog, sprint-1, sprint-2...'\n",
    "})\n",
    "class StoryList(Resource):\n",
    "    @ns.doc('get stories')\n",
    "    def get(self, project_name: str, store: str):\n",
    "        if not is_valid_store(store): return invalid_store(store)\n",
    "        return scrum.get_stories(project_name, store)\n",
    "\n",
    "    @ns.doc('create a new story')\n",
    "    def post(self, project_name: str, store: str):\n",
    "        parser = reqparse.RequestParser()\n",
    "        parser.add_argument('move_from', type=str, help='Original story location')\n",
    "        args = parser.parse_args()\n",
    "        move_from = args['move_from']\n",
    "        \n",
    "        if move_from != None:\n",
    "            source,name = move_from.split('/')\n",
    "            if scrum.move_story(project_name, source, store, name):\n",
    "                return f'{target}/{name}', 201\n",
    "            else:\n",
    "                return f'Internal error', 500\n",
    "        else:\n",
    "            scrum.set_story(project_name, store, api.payload)\n",
    "            return '', 201\n",
    "\n",
    "\n",
    "@api.route('/api/v1/projects/<string:project_name>/<string:store>/<string:story_name>', endpoint='story')\n",
    "@api.doc(params={\n",
    "    'project_name': 'Id of a project',\n",
    "    'log': 'The log where the stories are placed, sandbox, backlog, sprint-1, sprint-2...',\n",
    "    'story_name': 'Story id'\n",
    "})\n",
    "class Story(Resource):\n",
    "    @ns.doc('get a story')\n",
    "    def get(self, project_name: str, store: str, story_name: str):\n",
    "        return scrum.get_story(project_name, store, story_name)\n",
    "\n",
    "        "
   ]
  },
  {
   "cell_type": "code",
   "execution_count": null,
   "metadata": {
    "ExecuteTime": {
     "start_time": "2020-09-28T15:32:00.370Z"
    }
   },
   "outputs": [
    {
     "name": "stdout",
     "output_type": "stream",
     "text": [
      " * Serving Flask app \"__main__\" (lazy loading)\n",
      " * Environment: production\n",
      "\u001b[31m   WARNING: This is a development server. Do not use it in a production deployment.\u001b[0m\n",
      "\u001b[2m   Use a production WSGI server instead.\u001b[0m\n",
      " * Debug mode: off\n"
     ]
    },
    {
     "name": "stderr",
     "output_type": "stream",
     "text": [
      " * Running on http://127.0.0.1:4444/ (Press CTRL+C to quit)\n",
      "127.0.0.1 - - [28/Sep/2020 17:55:57] \"\u001b[37mGET /api/v1/projects/test2/sandbox/test2 HTTP/1.1\u001b[0m\" 200 -\n",
      "127.0.0.1 - - [28/Sep/2020 17:56:24] \"\u001b[37mPOST /api/v1/projects/test2/sandbox HTTP/1.1\u001b[0m\" 201 -\n",
      "127.0.0.1 - - [28/Sep/2020 17:56:42] \"\u001b[37mGET /api/v1/projects/test2/sandbox/test3 HTTP/1.1\u001b[0m\" 200 -\n"
     ]
    }
   ],
   "source": [
    "#hide\n",
    "app.run(port=4444,debug=False)"
   ]
  },
  {
   "cell_type": "code",
   "execution_count": null,
   "metadata": {},
   "outputs": [],
   "source": []
  }
 ],
 "metadata": {
  "kernelspec": {
   "display_name": "Python 3",
   "language": "python",
   "name": "python3"
  },
  "language_info": {
   "codemirror_mode": {
    "name": "ipython",
    "version": 3
   },
   "file_extension": ".py",
   "mimetype": "text/x-python",
   "name": "python",
   "nbconvert_exporter": "python",
   "pygments_lexer": "ipython3",
   "version": "3.8.3"
  },
  "varInspector": {
   "cols": {
    "lenName": 16,
    "lenType": 16,
    "lenVar": 40
   },
   "kernels_config": {
    "python": {
     "delete_cmd_postfix": "",
     "delete_cmd_prefix": "del ",
     "library": "var_list.py",
     "varRefreshCmd": "print(var_dic_list())"
    },
    "r": {
     "delete_cmd_postfix": ") ",
     "delete_cmd_prefix": "rm(",
     "library": "var_list.r",
     "varRefreshCmd": "cat(var_dic_list()) "
    }
   },
   "types_to_exclude": [
    "module",
    "function",
    "builtin_function_or_method",
    "instance",
    "_Feature"
   ],
   "window_display": false
  }
 },
 "nbformat": 4,
 "nbformat_minor": 4
}
